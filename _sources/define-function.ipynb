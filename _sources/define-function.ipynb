{
 "cells": [
  {
   "cell_type": "markdown",
   "id": "968145c5",
   "metadata": {},
   "source": [
    "<!-- Toogle google translation -->\n",
    "<div id=\"google_translate_element\"></div>\n",
    "<script type=\"text/javascript\">\n",
    "      function googleTranslateElementInit() {\n",
    "        new google.translate.TranslateElement({ pageLanguage: 'zh-CN',\n",
    "                  includedLanguages: 'en,zh-CN,zh-TW,ja,ko,de,ru,fr,es,it,pt,hi,ar,fa',\n",
    "layout: google.translate.TranslateElement.InlineLayout.SIMPLE }, 'google_translate_element');\n",
    "      }\n",
    "</script>\n",
    "<script type=\"text/javascript\"\n",
    "      src=\"https://translate.google.com/translate_a/element.js?cb=googleTranslateElementInit\"\n",
    "></script>\n",
    "<br>"
   ]
  },
  {
   "cell_type": "markdown",
   "id": "5e89aff0",
   "metadata": {
    "slideshow": {
     "slide_type": "slide"
    }
   },
   "source": [
    "# Python 编写函数\n",
    "\n",
    "用 Python 编写函数时，经常要用到条件语句`if`， 循环语句`for`或`while`。"
   ]
  },
  {
   "cell_type": "markdown",
   "id": "4d6e88e0",
   "metadata": {
    "slideshow": {
     "slide_type": "subslide"
    }
   },
   "source": [
    "## 条件语句\n",
    "\n",
    " `if`语句的字面意思是：如果（if）满足条件，做什么，否则（else）做什么。例如，下面一段代码："
   ]
  },
  {
   "cell_type": "code",
   "execution_count": 1,
   "id": "1b0d4a0e",
   "metadata": {
    "slideshow": {
     "slide_type": "fragment"
    }
   },
   "outputs": [
    {
     "name": "stdout",
     "output_type": "stream",
     "text": [
      "Value of a is not greater than 10\n"
     ]
    }
   ],
   "source": [
    "a = 10\n",
    "if a > 10:\n",
    "    print(\"Value of a is greater than 10\")\n",
    "else:\n",
    "    print(\"Value of a is not greater than 10\")"
   ]
  },
  {
   "cell_type": "markdown",
   "id": "d74af855",
   "metadata": {
    "slideshow": {
     "slide_type": "fragment"
    }
   },
   "source": [
    "这段代码的意思是，如果 a 比 10 大，则输出 \"Value of a is greater than 10\"，否则输出 \"Value of a is not greater than 10\"。if 语句还可以跟 elif （else if 的意思），再次判断一个条件。"
   ]
  },
  {
   "cell_type": "markdown",
   "id": "e3988177",
   "metadata": {
    "slideshow": {
     "slide_type": "subslide"
    }
   },
   "source": [
    "<table>   \n",
    "    <tr style=\"border-top:solid; border-bottom:solid\">\n",
    "            <th style=\"text-align:center\">if 语句的一般用法</th>\n",
    "    </tr>\n",
    "    <tr>\n",
    "        <td style=\"text-align:left\">if <条件1>:</td>\n",
    "    </tr>\n",
    "    <tr>\n",
    "        <td style=\"text-align:left\">&nbsp;&nbsp;&nbsp;&nbsp;&lt;statement_block_1&gt;</td>\n",
    "    </tr>\n",
    "    <tr>\n",
    "        <td style=\"text-align:left\">elif <条件2>:</td>\n",
    "    </tr>\n",
    "    <tr>\n",
    "        <td style=\"text-align:left\">&nbsp;&nbsp;&nbsp;&nbsp;&lt;statement_block_2&gt;</td>\n",
    "    </tr>\n",
    "    <tr>\n",
    "        <td style=\"text-align:left\">else:</td>\n",
    "    </tr>\n",
    "    <tr style=\"border-bottom:solid\">\n",
    "        <td style=\"text-align:left\">&nbsp;&nbsp;&nbsp;&nbsp;&lt;statement_block_3&gt;</td>\n",
    "    </tr>\n",
    "</table>\n",
    "<br />"
   ]
  },
  {
   "cell_type": "markdown",
   "id": "c5603456",
   "metadata": {
    "slideshow": {
     "slide_type": "fragment"
    }
   },
   "source": [
    "```{note}\n",
    "if 循环中，`elif`语句块或者`else`语句块可以没有\n",
    "```"
   ]
  },
  {
   "cell_type": "markdown",
   "id": "944ab42b",
   "metadata": {
    "slideshow": {
     "slide_type": "fragment"
    }
   },
   "source": [
    "上面 if 语句块的执行顺序为：如果条件1 为真，将执行 \"statement_block_1\" 块语句，如果条件1 为假，将判断 \"条件2\"，如果条件2 为真，将执行 \"statement_block_2\" 块语句，如果条件2 为假，将执行\"statement_block_3\"块语句。"
   ]
  },
  {
   "cell_type": "markdown",
   "id": "280ad893",
   "metadata": {
    "slideshow": {
     "slide_type": "subslide"
    }
   },
   "source": [
    "举例："
   ]
  },
  {
   "cell_type": "code",
   "execution_count": 1,
   "id": "25f247af",
   "metadata": {
    "slideshow": {
     "slide_type": "fragment"
    }
   },
   "outputs": [
    {
     "name": "stdout",
     "output_type": "stream",
     "text": [
      "\n",
      "平均水平\n"
     ]
    }
   ],
   "source": [
    "wage = 5000\n",
    "print(\"\")\n",
    "if wage <= 3000:\n",
    "    print(\"贫困户\")\n",
    "elif wage <= 12000:\n",
    "    print(\"平均水平\")\n",
    "else:\n",
    "    print(\"土豪\")"
   ]
  },
  {
   "cell_type": "markdown",
   "id": "f17da207",
   "metadata": {
    "slideshow": {
     "slide_type": "fragment"
    }
   },
   "source": [
    "上面语句的意思是，若输入的月薪小于 3000，则输出“贫困户”，否则若月薪在 3000 与 12000 之间，输出“平均水平”，若月薪在 12000 之上，则输出“土豪”。"
   ]
  },
  {
   "cell_type": "markdown",
   "id": "a5b9e211",
   "metadata": {
    "slideshow": {
     "slide_type": "subslide"
    }
   },
   "source": [
    "if 语句里面还可以嵌套 if 语句，进一步增加判断条件，举例："
   ]
  },
  {
   "cell_type": "code",
   "execution_count": 3,
   "id": "6796c946",
   "metadata": {
    "slideshow": {
     "slide_type": "fragment"
    }
   },
   "outputs": [
    {
     "name": "stdout",
     "output_type": "stream",
     "text": [
      "\n",
      "贫困户\n",
      "贫困户中的一般贫\n"
     ]
    }
   ],
   "source": [
    "wage = 2000\n",
    "print(\"\")\n",
    "if wage <= 3000:\n",
    "    print(\"贫困户\")\n",
    "    if 2000 <= wage < 3000:\n",
    "        print(\"贫困户中的一般贫\")\n",
    "    if wage <= 1000:\n",
    "        print(\"贫困户中的特贫\")\n",
    "else:\n",
    "    print(\"不是贫困户\")"
   ]
  },
  {
   "cell_type": "markdown",
   "id": "b52e26c0",
   "metadata": {
    "slideshow": {
     "slide_type": "fragment"
    }
   },
   "source": [
    "在上面的程序中，若月薪小于等于 3000，又嵌套了两个条件进一步判断。"
   ]
  },
  {
   "cell_type": "markdown",
   "id": "9e8990d8",
   "metadata": {
    "slideshow": {
     "slide_type": "subslide"
    }
   },
   "source": [
    "if 中条件判断中常用的符号有：`>`(大于), `<`(小于), `>=`(大于等于), `<=`(小于等于), `==`(等于), !=(不等于)。"
   ]
  },
  {
   "cell_type": "markdown",
   "id": "8d3e9301",
   "metadata": {
    "slideshow": {
     "slide_type": "fragment"
    }
   },
   "source": [
    "```{note}\n",
    "两个等号 == 表示判断是否相等（a == 3 表示判断 a 是否等于 3），而一个等号 = 表示的是变量赋值（a = 3 表示将 a 赋值为 3）\n",
    "```"
   ]
  },
  {
   "cell_type": "markdown",
   "id": "27d501d7",
   "metadata": {
    "slideshow": {
     "slide_type": "subslide"
    }
   },
   "source": [
    "## 循环语句\n",
    "\n",
    "循环语句一般有两种，for 语句与 while 语句。for 循环可以遍历任何序列的项目，如一个列表、元组、集合或者一个字符串。for 循环的一般用法如下：\n",
    "\n",
    "<table>   \n",
    "    <tr style=\"border-top:solid; border-bottom:solid\">\n",
    "            <th style=\"text-align:center\">for 循环语句的一般用法</th>\n",
    "    </tr>\n",
    "    <tr>\n",
    "        <td style=\"text-align:left\">for &lt;variable&gt; in &lt;sequence&gt;:</td>\n",
    "    </tr>\n",
    "    <tr style=\"border-bottom:solid\">\n",
    "        <td style=\"text-align:left\">&nbsp;&nbsp;&nbsp;&nbsp;&lt;statements&gt;</td>\n",
    "    </tr>\n",
    "</table>\n",
    "<br />"
   ]
  },
  {
   "cell_type": "markdown",
   "id": "464f680d",
   "metadata": {
    "slideshow": {
     "slide_type": "subslide"
    }
   },
   "source": [
    "for 循环的作用是：遍历序列（sequence）中的所有元素，执行命令语句 statements，举例："
   ]
  },
  {
   "cell_type": "code",
   "execution_count": 4,
   "id": "bcde585c",
   "metadata": {
    "slideshow": {
     "slide_type": "fragment"
    }
   },
   "outputs": [
    {
     "name": "stdout",
     "output_type": "stream",
     "text": [
      "0\n",
      "1\n",
      "2\n"
     ]
    }
   ],
   "source": [
    "for i in range(3):\n",
    "    print(i)"
   ]
  },
  {
   "cell_type": "markdown",
   "id": "5d175c31",
   "metadata": {
    "slideshow": {
     "slide_type": "fragment"
    }
   },
   "source": [
    "输出结果为 0， 1， 2，上述代码的作用是，对于 range(3) 中的每一个元素，打印元素。**for 循环经常结合序列函数 range() 一起使用**：range(a) 表示从 0 到 a-1 的一个数列，range(a, b) 表示从 a 到 b-1 的一个数列，range(a, b, c) 表示从 a 到 b-1，步长为 c 的一个数列。"
   ]
  },
  {
   "cell_type": "markdown",
   "id": "86cf5f01",
   "metadata": {
    "slideshow": {
     "slide_type": "subslide"
    }
   },
   "source": [
    "```{note}\n",
    "for 循环或 while 循环都可以跟`else`语句，`else` 语句只在循环正常执行并结束后才执行。\n",
    "```"
   ]
  },
  {
   "cell_type": "markdown",
   "id": "58088b43",
   "metadata": {
    "slideshow": {
     "slide_type": "subslide"
    }
   },
   "source": [
    "另一个 while 循环语句的一般格式为：\n",
    "\n",
    "<table>   \n",
    "    <tr style=\"border-top:solid; border-bottom:solid\">\n",
    "            <th style=\"text-align:center\">while 循环语句的一般用法</th>\n",
    "    </tr>\n",
    "    <tr>\n",
    "        <td style=\"text-align:left\">while&nbsp; &lt;判断条件&gt;:</td>\n",
    "    </tr>\n",
    "    <tr style=\"border-bottom:solid\">\n",
    "        <td style=\"text-align:left\">&nbsp;&nbsp;&nbsp;&nbsp;&nbsp;&nbsp;&nbsp;&nbsp;&lt;statements&gt;</td>\n",
    "    </tr>\n",
    "</table>\n",
    "<br />"
   ]
  },
  {
   "cell_type": "markdown",
   "id": "3d7a4815",
   "metadata": {
    "slideshow": {
     "slide_type": "fragment"
    }
   },
   "source": [
    "它的作用是，只要满足 while 的判断条件，则一直执行 while 下面的执行语句 statements。"
   ]
  },
  {
   "cell_type": "markdown",
   "id": "b1651a30",
   "metadata": {
    "slideshow": {
     "slide_type": "subslide"
    }
   },
   "source": [
    "举例："
   ]
  },
  {
   "cell_type": "code",
   "execution_count": 5,
   "id": "028597c7",
   "metadata": {
    "slideshow": {
     "slide_type": "fragment"
    }
   },
   "outputs": [
    {
     "name": "stdout",
     "output_type": "stream",
     "text": [
      "1\n",
      "2\n",
      "3\n"
     ]
    }
   ],
   "source": [
    "a = 1\n",
    "while a < 4:\n",
    "    print(a)\n",
    "    a = a + 1"
   ]
  },
  {
   "cell_type": "markdown",
   "id": "028ddeac",
   "metadata": {
    "slideshow": {
     "slide_type": "fragment"
    }
   },
   "source": [
    "上面语句的作用是：只要 a 小于 4，则将 a 值打印出来并将 a 值加 1，在 a 等于 4 时停止执行 while语句。\n",
    "\n"
   ]
  },
  {
   "cell_type": "markdown",
   "id": "8b102b37",
   "metadata": {
    "slideshow": {
     "slide_type": "subslide"
    }
   },
   "source": [
    "for 循环与 while 循环经常结合``break``或``continue``语句，``break``语句可以跳出循环体，而``continue``语句用来告诉 Python 跳过当前循环中的剩余语句，然后继续进行下一轮循环。举例："
   ]
  },
  {
   "cell_type": "code",
   "execution_count": 6,
   "id": "d7b09b6b",
   "metadata": {
    "slideshow": {
     "slide_type": "fragment"
    }
   },
   "outputs": [
    {
     "name": "stdout",
     "output_type": "stream",
     "text": [
      "0\n",
      "循环结束\n"
     ]
    }
   ],
   "source": [
    "for i in range(3):\n",
    "   if i == 1:\n",
    "       break\n",
    "   print(i)\n",
    "print('循环结束')"
   ]
  },
  {
   "cell_type": "markdown",
   "id": "56881f91",
   "metadata": {
    "slideshow": {
     "slide_type": "fragment"
    }
   },
   "source": [
    "上面代码中，在 i 等于 1 时执行``break``跳出了整个循环体。"
   ]
  },
  {
   "cell_type": "markdown",
   "id": "a96668d3",
   "metadata": {
    "slideshow": {
     "slide_type": "subslide"
    }
   },
   "source": [
    "若改为``continue``语句："
   ]
  },
  {
   "cell_type": "code",
   "execution_count": 7,
   "id": "13ad84ce",
   "metadata": {
    "slideshow": {
     "slide_type": "fragment"
    }
   },
   "outputs": [
    {
     "name": "stdout",
     "output_type": "stream",
     "text": [
      "0\n",
      "2\n",
      "循环结束\n"
     ]
    }
   ],
   "source": [
    "for i in range(3):\n",
    "   if i == 1:\n",
    "       continue\n",
    "   print(i)\n",
    "print('循环结束')"
   ]
  },
  {
   "cell_type": "markdown",
   "id": "9b9bc4f5",
   "metadata": {
    "slideshow": {
     "slide_type": "fragment"
    }
   },
   "source": [
    "上面代码中，在 i 等于 1 时执行``continue``跳出了当前循环，执行剩下的循环。"
   ]
  },
  {
   "cell_type": "markdown",
   "id": "79c4d409",
   "metadata": {
    "slideshow": {
     "slide_type": "subslide"
    }
   },
   "source": [
    "在 while 循环中，``break``与``continue``的例子："
   ]
  },
  {
   "cell_type": "code",
   "execution_count": 8,
   "id": "d6cccf2a",
   "metadata": {
    "slideshow": {
     "slide_type": "fragment"
    }
   },
   "outputs": [
    {
     "name": "stdout",
     "output_type": "stream",
     "text": [
      "2\n",
      "循环结束\n"
     ]
    }
   ],
   "source": [
    "a = 1\n",
    "while a < 5:\n",
    "    a = a + 1\n",
    "    if a == 3:\n",
    "        break \n",
    "    print(a)\n",
    "print('循环结束')"
   ]
  },
  {
   "cell_type": "code",
   "execution_count": 9,
   "id": "109b00da",
   "metadata": {
    "slideshow": {
     "slide_type": "subslide"
    }
   },
   "outputs": [
    {
     "name": "stdout",
     "output_type": "stream",
     "text": [
      "2\n",
      "4\n",
      "5\n",
      "循环结束\n"
     ]
    }
   ],
   "source": [
    "a = 1\n",
    "while a < 5:\n",
    "    a = a + 1\n",
    "    if a == 3:\n",
    "        continue \n",
    "    print(a)\n",
    "print('循环结束')"
   ]
  },
  {
   "cell_type": "markdown",
   "id": "ff1ebe1c",
   "metadata": {
    "slideshow": {
     "slide_type": "slide"
    }
   },
   "source": [
    "## 自定义函数\n",
    "\n",
    "Python 提供了许多内建函数，比如 print()，但也可以自己创建函数，这被叫做用户自定义函数。掌握了自定义函数后，就能用 Python 实现很多自己想要的功能了。Python 自定义函数使用``def``关键字，一般用法如下：\n",
    "\n",
    "<table>   \n",
    "    <tr style=\"border-top:solid; border-bottom:solid\">\n",
    "            <th style=\"text-align:center\">def 自定义函数的一般用法</th>\n",
    "    </tr>\n",
    "    <tr>\n",
    "        <td style=\"text-align:left\">def <函数名>(<参数列表>):</td>\n",
    "    </tr>\n",
    "    <tr style=\"border-bottom:solid\">\n",
    "        <td style=\"text-align:left\">&nbsp;&nbsp;&nbsp;&nbsp;&nbsp;&nbsp;&nbsp;&lt;statements&gt;</td>\n",
    "    </tr>\n",
    "</table>\n",
    "<br />"
   ]
  },
  {
   "cell_type": "markdown",
   "id": "e5cee831",
   "metadata": {
    "slideshow": {
     "slide_type": "subslide"
    }
   },
   "source": [
    "下面的几行代码定义了一个加和函数："
   ]
  },
  {
   "cell_type": "code",
   "execution_count": 10,
   "id": "ca9c7060",
   "metadata": {
    "slideshow": {
     "slide_type": "fragment"
    }
   },
   "outputs": [],
   "source": [
    "def add(x1, x2):\n",
    "    z = x1 + x2\n",
    "    return z"
   ]
  },
  {
   "cell_type": "markdown",
   "id": "cfde852c",
   "metadata": {
    "slideshow": {
     "slide_type": "subslide"
    }
   },
   "source": [
    "该自定义函数有以下几个特点：\n",
    "\n",
    "<table>   \n",
    "    <tr style=\"border-top:solid\">\n",
    "        <td style=\"text-align:left\">def</td>\n",
    "        <td style=\"text-align:left\">关键字 def 开头</td>\n",
    "    </tr>\n",
    "    <tr>\n",
    "        <td style=\"text-align:left\">add</td>\n",
    "        <td style=\"text-align:left\"> 函数的名字，可以自命名</td>\n",
    "    </tr>\n",
    "    <tr>\n",
    "        <td style=\"text-align:left\">(x1, x2)</td>\n",
    "        <td style=\"text-align:left\">小括号里面是函数的输入参数</td>\n",
    "    </tr>\n",
    "    <tr>\n",
    "        <td style=\"text-align:left\">:</td>\n",
    "        <td style=\"text-align:left\">冒号，换行写函数内容；若不换行，整个函数只能有一行代码</td>\n",
    "    </tr>\n",
    "    <tr style=\"border-bottom:solid\">\n",
    "        <td style=\"text-align:left\">return</td>\n",
    "        <td style=\"text-align:left\">关键字，后面跟函数的返回值，即输出结果</td>\n",
    "    </tr>\n",
    "</table>\n",
    "</br>"
   ]
  },
  {
   "cell_type": "markdown",
   "id": "4e07623d",
   "metadata": {
    "slideshow": {
     "slide_type": "subslide"
    }
   },
   "source": [
    "函数的返回值可以有一个或多个，下面的代码返回多个值，既返回两个参数的加和结果，又返回两个参数的值。"
   ]
  },
  {
   "cell_type": "code",
   "execution_count": 11,
   "id": "1494824e",
   "metadata": {
    "slideshow": {
     "slide_type": "fragment"
    }
   },
   "outputs": [],
   "source": [
    "def add(x1, x2):\n",
    "    z = x1 + x2\n",
    "    return z, x1, x2"
   ]
  },
  {
   "cell_type": "markdown",
   "id": "3214a220",
   "metadata": {
    "slideshow": {
     "slide_type": "subslide"
    }
   },
   "source": [
    "调用函数时，通过输入函数名字，并把函数的参数传递进去，例如："
   ]
  },
  {
   "cell_type": "code",
   "execution_count": 12,
   "id": "76caa2c1",
   "metadata": {
    "slideshow": {
     "slide_type": "fragment"
    }
   },
   "outputs": [
    {
     "name": "stdout",
     "output_type": "stream",
     "text": [
      "16\n"
     ]
    }
   ],
   "source": [
    "def add(x1, x2):\n",
    "    z = x1+x2\n",
    "    return z\n",
    "\n",
    "x1 = 10\n",
    "x2 = 6\n",
    "print(add(x1, x2))"
   ]
  },
  {
   "cell_type": "markdown",
   "id": "d807c0f2",
   "metadata": {
    "slideshow": {
     "slide_type": "subslide"
    }
   },
   "source": [
    "在多个返回值时，有时候需要用新的变量表示各个返回值，可以用下面的方式赋值："
   ]
  },
  {
   "cell_type": "code",
   "execution_count": 13,
   "id": "c7441fbb",
   "metadata": {
    "slideshow": {
     "slide_type": "fragment"
    }
   },
   "outputs": [
    {
     "name": "stdout",
     "output_type": "stream",
     "text": [
      "16\n",
      "10\n",
      "6\n"
     ]
    }
   ],
   "source": [
    "def add(x1, x2):\n",
    "    z = x1+x2\n",
    "    return z, x1, x2\n",
    "\n",
    "x1 = 10\n",
    "x2 = 6\n",
    "sums, a, b = add(x1, x2) # 用新变量赋值\n",
    "print(sums)\n",
    "print(a)\n",
    "print(b)"
   ]
  },
  {
   "cell_type": "markdown",
   "id": "0cde4dfe",
   "metadata": {
    "slideshow": {
     "slide_type": "subslide"
    }
   },
   "source": [
    "若某个返回值不使用，可以用下划线``_``替代该变量名。"
   ]
  },
  {
   "cell_type": "code",
   "execution_count": 14,
   "id": "df53fe8c",
   "metadata": {
    "slideshow": {
     "slide_type": "fragment"
    }
   },
   "outputs": [
    {
     "name": "stdout",
     "output_type": "stream",
     "text": [
      "16\n",
      "6\n"
     ]
    }
   ],
   "source": [
    "def add(x1, x2):\n",
    "    z = x1+x2\n",
    "    return z, x1, x2\n",
    "\n",
    "x1 = 10\n",
    "x2 = 6\n",
    "sums, _, b = add(x1, x2) # 用下划线 _ 替代第二个返回值\n",
    "print(sums)\n",
    "print(b)"
   ]
  },
  {
   "cell_type": "markdown",
   "id": "5cfc3a3d",
   "metadata": {
    "slideshow": {
     "slide_type": "fragment"
    }
   },
   "source": [
    "上面的代码中，用下划线替代第二个返回参数值，用新的变量名替代其他参数值。"
   ]
  },
  {
   "cell_type": "markdown",
   "id": "7b36acef",
   "metadata": {
    "slideshow": {
     "slide_type": "subslide"
    }
   },
   "source": [
    "函数也可以不带输入参数，即小括号里面可以没有内容，例如，下面的代码打印一句话 ``Hello, world!\"："
   ]
  },
  {
   "cell_type": "code",
   "execution_count": 15,
   "id": "3586a74d",
   "metadata": {
    "slideshow": {
     "slide_type": "fragment"
    }
   },
   "outputs": [
    {
     "name": "stdout",
     "output_type": "stream",
     "text": [
      "Hello, world!\n"
     ]
    }
   ],
   "source": [
    "def hello():\n",
    "    print('Hello, world!')\n",
    "\n",
    "hello()"
   ]
  },
  {
   "cell_type": "markdown",
   "id": "0a424b7e",
   "metadata": {},
   "source": [
    "可以利用三重引号，来添加函数的说明 (docstring)，例如："
   ]
  },
  {
   "cell_type": "code",
   "execution_count": 2,
   "id": "cfa8b245",
   "metadata": {},
   "outputs": [
    {
     "name": "stdout",
     "output_type": "stream",
     "text": [
      "Hello, world!\n"
     ]
    }
   ],
   "source": [
    "def hello():\n",
    "    \"\"\"this is a hello function\"\"\"\n",
    "    print('Hello, world!')\n",
    "\n",
    "hello()"
   ]
  },
  {
   "cell_type": "markdown",
   "id": "650a25a0",
   "metadata": {},
   "source": [
    "在一些 python 编译软件中，例如 Spyder，当鼠标停留在某个函数或类名时，自动显示该函数或类的说明（docstring），极大地增加了代码的可读性。"
   ]
  },
  {
   "cell_type": "markdown",
   "id": "ea156278",
   "metadata": {
    "slideshow": {
     "slide_type": "slide"
    }
   },
   "source": [
    "### 函数参数的传递类型\n",
    "\n",
    "根据输入参数的值是否可以改变，函数的参数传递类型包括以下两种：\n",
    "\n",
    "- 不可变类型：数字，字符串，元组\n",
    "- 可变类型：列表，字典，集合"
   ]
  },
  {
   "cell_type": "markdown",
   "id": "0e203efd",
   "metadata": {
    "slideshow": {
     "slide_type": "subslide"
    }
   },
   "source": [
    "对于不可变类型，函数调用参数后，参数原来的值不变，例如："
   ]
  },
  {
   "cell_type": "code",
   "execution_count": 16,
   "id": "b0170bfe",
   "metadata": {
    "slideshow": {
     "slide_type": "fragment"
    }
   },
   "outputs": [
    {
     "name": "stdout",
     "output_type": "stream",
     "text": [
      "2\n"
     ]
    }
   ],
   "source": [
    "def changeNum(a):\n",
    "    a = 10\n",
    "\n",
    "b = 2\n",
    "changeNum(b)\n",
    "print(b)    # 结果还是 2"
   ]
  },
  {
   "cell_type": "markdown",
   "id": "6b3fbe94",
   "metadata": {
    "slideshow": {
     "slide_type": "fragment"
    }
   },
   "source": [
    "上面的代码中，由于传递的是数字类型，调用函数后，参数原来的数值不变，对于字符串或元组类型，传递时也是这样。"
   ]
  },
  {
   "cell_type": "markdown",
   "id": "80bac7a0",
   "metadata": {
    "slideshow": {
     "slide_type": "subslide"
    }
   },
   "source": [
    "对于可变类型，函数调用参数后，参数原来的值也改变，例如："
   ]
  },
  {
   "cell_type": "code",
   "execution_count": 17,
   "id": "38997f71",
   "metadata": {
    "slideshow": {
     "slide_type": "fragment"
    }
   },
   "outputs": [
    {
     "name": "stdout",
     "output_type": "stream",
     "text": [
      "[10, 20, 30, 1, 2, 3]\n"
     ]
    }
   ],
   "source": [
    "def changeList(mylist):\n",
    "  mylist.extend([1, 2, 3])\n",
    "  return mylist\n",
    "\n",
    "listTry = [10, 20, 30]\n",
    "changeList(listTry)\n",
    "print(listTry)  # 结果是 [10, 20, 30, 1, 2, 3]，改变了列表原来的值"
   ]
  },
  {
   "cell_type": "markdown",
   "id": "dc6909b2",
   "metadata": {
    "slideshow": {
     "slide_type": "subslide"
    }
   },
   "source": [
    "###  函数的参数传入方法\n",
    "\n",
    "函数的参数传入方法主要有4种类型：\n",
    "\n",
    "\n",
    "- 顺序传入\n",
    "- 赋值传入\n",
    "- 默认参数值传入\n",
    "- 不定长参数传入"
   ]
  },
  {
   "cell_type": "markdown",
   "id": "67309bbb",
   "metadata": {
    "slideshow": {
     "slide_type": "subslide"
    }
   },
   "source": [
    "对于顺序传入，函数的参数值跟输入的顺序一一对应："
   ]
  },
  {
   "cell_type": "code",
   "execution_count": 18,
   "id": "3f08b458",
   "metadata": {
    "slideshow": {
     "slide_type": "fragment"
    }
   },
   "outputs": [
    {
     "name": "stdout",
     "output_type": "stream",
     "text": [
      "4\n"
     ]
    }
   ],
   "source": [
    "def minus(x1, x2):\n",
    "    z = x1 - x2\n",
    "    return z\n",
    "\n",
    "print(minus(10, 6))"
   ]
  },
  {
   "cell_type": "markdown",
   "id": "f009adf6",
   "metadata": {
    "slideshow": {
     "slide_type": "fragment"
    }
   },
   "source": [
    "在上面的代码中，调用 minus 函数，按照参数的顺序，认为 x1 的值为 10， x2 的值为 6。"
   ]
  },
  {
   "cell_type": "markdown",
   "id": "d209e00f",
   "metadata": {
    "slideshow": {
     "slide_type": "subslide"
    }
   },
   "source": [
    "赋值传入的意思是：在调用函数时，可以在输入参数时直接给参数赋值，Python 自动根据括号内的参数名匹配参数值，例如："
   ]
  },
  {
   "cell_type": "code",
   "execution_count": 19,
   "id": "5e7f00d0",
   "metadata": {
    "slideshow": {
     "slide_type": "fragment"
    }
   },
   "outputs": [
    {
     "name": "stdout",
     "output_type": "stream",
     "text": [
      "-4\n"
     ]
    }
   ],
   "source": [
    "def minus(x1, x2):\n",
    "    z = x1 - x2\n",
    "    return z\n",
    "\n",
    "print(minus(x2 = 10, x1 = 6))"
   ]
  },
  {
   "cell_type": "markdown",
   "id": "83671143",
   "metadata": {
    "slideshow": {
     "slide_type": "fragment"
    }
   },
   "source": [
    "在上面的代码中，调用 minus 函数时，在小括号内对参数进行了赋值，认为 x2 的值为 10， x1 的值为 6。"
   ]
  },
  {
   "cell_type": "markdown",
   "id": "7ebaeb44",
   "metadata": {
    "slideshow": {
     "slide_type": "subslide"
    }
   },
   "source": [
    "Python 在定义函数时，可以设置参数的默认值，当调用参数时，若没有给参数赋值，则使用参数的默认值，例如："
   ]
  },
  {
   "cell_type": "code",
   "execution_count": 20,
   "id": "3d06ef4f",
   "metadata": {
    "slideshow": {
     "slide_type": "fragment"
    }
   },
   "outputs": [
    {
     "name": "stdout",
     "output_type": "stream",
     "text": [
      "4\n",
      "5\n"
     ]
    }
   ],
   "source": [
    "def minus(x1, x2 = 6):\n",
    "    z = x1 - x2\n",
    "    return z\n",
    "\n",
    "print(minus(x1 = 10))  # 输出：4，没有传递参数值时默认参数值\n",
    "print(minus(x1 = 10, x2 = 5))  # 输出：5，有传递参数值时，覆盖默认参数值"
   ]
  },
  {
   "cell_type": "markdown",
   "id": "7c2efe4e",
   "metadata": {
    "slideshow": {
     "slide_type": "subslide"
    }
   },
   "source": [
    "当一个函数传递多个参数，但不太确定究竟是多少个时，可以用 *args 表示多个参数，例如："
   ]
  },
  {
   "cell_type": "code",
   "execution_count": 21,
   "id": "8b3849bf",
   "metadata": {
    "slideshow": {
     "slide_type": "fragment"
    }
   },
   "outputs": [
    {
     "name": "stdout",
     "output_type": "stream",
     "text": [
      "x is 3\n",
      "final x is 12\n",
      "x is 3\n",
      "final x is 18\n"
     ]
    }
   ],
   "source": [
    "def plus(x, *args):\n",
    "    print('x is %d' % x)\n",
    "    for var in args:\n",
    "        x += var\n",
    "    print('final x is %d' % x)\n",
    "\n",
    "plus(3, 4, 5) # *args 是 4, 5\n",
    "plus(3, 4, 5, 6) # *args 是 4, 5, 6"
   ]
  },
  {
   "cell_type": "markdown",
   "id": "990d8967",
   "metadata": {
    "slideshow": {
     "slide_type": "subslide"
    }
   },
   "source": [
    "可以用 \\*\\*args 来传递不定长的多个赋值的参数，例如："
   ]
  },
  {
   "cell_type": "code",
   "execution_count": 22,
   "id": "d72d76cc",
   "metadata": {
    "slideshow": {
     "slide_type": "fragment"
    }
   },
   "outputs": [
    {
     "name": "stdout",
     "output_type": "stream",
     "text": [
      "7\n"
     ]
    }
   ],
   "source": [
    "def minus(x1, **args):\n",
    "    sum = 0\n",
    "    for key in args:\n",
    "        sum += args[key]\n",
    "        return x1 - sum\n",
    "\n",
    "print(minus(10, x2 = 3, x3 = 5))"
   ]
  },
  {
   "cell_type": "markdown",
   "id": "fb92e2b5",
   "metadata": {
    "slideshow": {
     "slide_type": "fragment"
    }
   },
   "source": [
    "上面的代码中，用 \\*\\*args 表示 x2 = 3, x3 = 5。"
   ]
  },
  {
   "cell_type": "markdown",
   "id": "61b3df72",
   "metadata": {
    "slideshow": {
     "slide_type": "subslide"
    }
   },
   "source": [
    "## lambda, map, filter, reduce 函数\n",
    "\n",
    "Python 使用``lambda``来创建匿名函数。所谓匿名，即不再使用 def 语句这样标准的形式定义一个函数。**lambda 函数只有一行**，用一个冒号分割传递参数与函数的返回值。非常简洁，在 Pandas 处理数据时经常结合 apply 函数使用。"
   ]
  },
  {
   "cell_type": "markdown",
   "id": "2125e601",
   "metadata": {
    "slideshow": {
     "slide_type": "fragment"
    }
   },
   "source": [
    "<table>   \n",
    "    <tr style=\"border-top:solid; border-bottom:solid\">\n",
    "            <th style=\"text-align:center\">lambda 函数的一般用法</th>\n",
    "    </tr>\n",
    "    <tr style=\"border-bottom:solid\">\n",
    "        <td style=\"text-align:left\"><函数名> = lambda <参数列表>: <表达式></td>\n",
    "    </tr>    \n",
    "</table>\n",
    "<br />"
   ]
  },
  {
   "cell_type": "code",
   "execution_count": 23,
   "id": "4f5b2685",
   "metadata": {
    "slideshow": {
     "slide_type": "subslide"
    }
   },
   "outputs": [
    {
     "name": "stdout",
     "output_type": "stream",
     "text": [
      "16\n"
     ]
    }
   ],
   "source": [
    "add = lambda x1, x2: x1 + x2\n",
    "print(add(10, 6)) "
   ]
  },
  {
   "cell_type": "markdown",
   "id": "422f5b13",
   "metadata": {
    "slideshow": {
     "slide_type": "subslide"
    }
   },
   "source": [
    "也可以结合 if-else 语句定义 lambda 函数。"
   ]
  },
  {
   "cell_type": "code",
   "execution_count": 1,
   "id": "f9d044b1",
   "metadata": {
    "slideshow": {
     "slide_type": "fragment"
    }
   },
   "outputs": [
    {
     "name": "stdout",
     "output_type": "stream",
     "text": [
      "20\n"
     ]
    }
   ],
   "source": [
    "Max = lambda a, b: a if a > b else b\n",
    "print(Max(12, 20))"
   ]
  },
  {
   "cell_type": "markdown",
   "id": "21c95313",
   "metadata": {},
   "source": [
    "``map(fun, iter)`` 对每一个可迭代对象 iter 中的元素应用 fun 函数，并返回一个 map 类型的可迭代对象。fun 函数既可以使用 lambda 匿名函数，也可以用 def 自定义一个函数。"
   ]
  },
  {
   "cell_type": "code",
   "execution_count": 25,
   "id": "af5986a4",
   "metadata": {},
   "outputs": [
    {
     "data": {
      "text/plain": [
       "<map at 0x7fcc1803d6c0>"
      ]
     },
     "execution_count": 25,
     "metadata": {},
     "output_type": "execute_result"
    }
   ],
   "source": [
    "a = [1, 2, 3]\n",
    "b = map(lambda x: x**2, a) # 对 a 中每个元素平方\n",
    "b"
   ]
  },
  {
   "cell_type": "markdown",
   "id": "9501b7f6",
   "metadata": {},
   "source": [
    "可以用``list()``函数将这个可迭代对象转化为 list 类型："
   ]
  },
  {
   "cell_type": "code",
   "execution_count": 26,
   "id": "53efe894",
   "metadata": {},
   "outputs": [
    {
     "data": {
      "text/plain": [
       "[1, 4, 9]"
      ]
     },
     "execution_count": 26,
     "metadata": {},
     "output_type": "execute_result"
    }
   ],
   "source": [
    "list(b)"
   ]
  },
  {
   "cell_type": "markdown",
   "id": "972a50e9",
   "metadata": {},
   "source": [
    "``filter(fun, iter)`` 对可迭代对象 iter 中的每一个元素应用判断函数 fun 过滤，并返回一个 filter 类型的可迭代对象。"
   ]
  },
  {
   "cell_type": "code",
   "execution_count": 27,
   "id": "eabb18c8",
   "metadata": {},
   "outputs": [
    {
     "data": {
      "text/plain": [
       "[2, 3]"
      ]
     },
     "execution_count": 27,
     "metadata": {},
     "output_type": "execute_result"
    }
   ],
   "source": [
    "a = [1, 2, 3]\n",
    "b = filter(lambda x: x >= 2, a) # 将大于等于 2 的元素过滤出来\n",
    "list(b)"
   ]
  },
  {
   "cell_type": "markdown",
   "id": "6740fdfb",
   "metadata": {},
   "source": [
    "``reduce(fun, iter)``首先对可迭代对象 iter 中的前两个元素应用函数 fun，然后将其结果作为 fun 的第一个输入值，再对第 3 个元素应用 fun 函数；以此类推，最后返回一个数。使用 reduce 函数需要从工具包 functools 中提前导入。"
   ]
  },
  {
   "cell_type": "code",
   "execution_count": 28,
   "id": "d256d221",
   "metadata": {},
   "outputs": [
    {
     "data": {
      "text/plain": [
       "10"
      ]
     },
     "execution_count": 28,
     "metadata": {},
     "output_type": "execute_result"
    }
   ],
   "source": [
    "from functools import reduce # 从工具包 functools 中导入 reduce\n",
    "\n",
    "a = [1, 2, 3, 4]\n",
    "b = reduce(lambda x1, x2: x1 + x2, a) # 求和\n",
    "b"
   ]
  },
  {
   "cell_type": "markdown",
   "id": "cf1ca4b1",
   "metadata": {},
   "source": [
    "``reduce``也可以跟 3 个参数，即``reduce(fun, iter, start=None)``。此时，首先对一个初始值 start 与可迭代对象 iter 中的第一个元素应用函数 fun，然后将其结果作为 fun 的第一个输入值，再对第 2 个元素应用 fun 函数；以此类推，最后返回一个数。"
   ]
  },
  {
   "cell_type": "code",
   "execution_count": 29,
   "id": "0284389b",
   "metadata": {},
   "outputs": [
    {
     "data": {
      "text/plain": [
       "20"
      ]
     },
     "execution_count": 29,
     "metadata": {},
     "output_type": "execute_result"
    }
   ],
   "source": [
    "a = [1, 2, 3, 4]\n",
    "b = reduce(lambda x1, x2: x1 + x2, a, 10) # 求和，起始值为 10\n",
    "b"
   ]
  },
  {
   "cell_type": "markdown",
   "id": "fcf82d92",
   "metadata": {
    "slideshow": {
     "slide_type": "slide"
    }
   },
   "source": [
    "## try-except 语句调试\n",
    "\n",
    "在编写程序时，有时候不知道程序能否正确运行，想试试程序运行结果如何，可以使用 try-except语句；若 try 块中的语句无法执行通过，则执行 except 块中的语句。\n"
   ]
  },
  {
   "cell_type": "markdown",
   "id": "6fa5b48b",
   "metadata": {},
   "source": [
    "<table>   \n",
    "    <tr style=\"border-top:solid; border-bottom:solid\">\n",
    "            <th style=\"text-align:center\">try-excpet 语句的一般用法</th>\n",
    "    </tr>\n",
    "    <tr>\n",
    "        <td style=\"text-align:left\">try:</td>\n",
    "    </tr> \n",
    "    <tr>\n",
    "        <td style=\"text-align:left\">&nbsp;&nbsp;&nbsp;&nbsp;&nbsp;&nbsp;<语句块1></td>\n",
    "    </tr>\n",
    "    <tr>\n",
    "        <td style=\"text-align:left\">except [异常类型]:</td>\n",
    "    </tr> \n",
    "    <tr>\n",
    "        <td style=\"text-align:left\">&nbsp;&nbsp;&nbsp;&nbsp;&nbsp;&nbsp;<语句块2></td>\n",
    "    </tr>\n",
    "</table>\n",
    "<br />"
   ]
  },
  {
   "cell_type": "markdown",
   "id": "58012dd5",
   "metadata": {
    "slideshow": {
     "slide_type": "subslide"
    }
   },
   "source": [
    "这个语句在程序调试时经常使用，下面的代码定义了一个除法函数："
   ]
  },
  {
   "cell_type": "code",
   "execution_count": 30,
   "id": "c2a26fe6",
   "metadata": {
    "slideshow": {
     "slide_type": "fragment"
    }
   },
   "outputs": [
    {
     "name": "stdout",
     "output_type": "stream",
     "text": [
      "x2 should not be zero\n"
     ]
    }
   ],
   "source": [
    "def devide(x1, x2):\n",
    "    try:\n",
    "        z = x1/x2\n",
    "        print(z)\n",
    "    except ZeroDivisionError: # ZeroDivisionError 表示试图除以零时发生的错误\n",
    "        print('x2 should not be zero')\n",
    "\n",
    "devide(5, 0)"
   ]
  },
  {
   "cell_type": "markdown",
   "id": "c9fc66d2",
   "metadata": {
    "slideshow": {
     "slide_type": "fragment"
    }
   },
   "source": [
    "上面的代码中，若 x1 能除以 x2，则输出除法结果，否则提示 x2 不能为零。"
   ]
  },
  {
   "cell_type": "markdown",
   "id": "018b410a",
   "metadata": {
    "slideshow": {
     "slide_type": "subslide"
    }
   },
   "source": [
    "Python 还有一个关键字``pass``，不执行任何命令。一般用做占位语句，在程序调试时可以使用。"
   ]
  },
  {
   "cell_type": "code",
   "execution_count": 2,
   "id": "f367b794",
   "metadata": {
    "slideshow": {
     "slide_type": "fragment"
    }
   },
   "outputs": [],
   "source": [
    "def devide(x1, x2):\n",
    "    try:\n",
    "        z = x1/x2\n",
    "        print(z)\n",
    "    except:\n",
    "        pass\n",
    "\n",
    "devide(5, 0)"
   ]
  },
  {
   "cell_type": "markdown",
   "id": "fe0abd18",
   "metadata": {
    "slideshow": {
     "slide_type": "fragment"
    }
   },
   "source": [
    "上面的代码中，若 x1 能除以 x2，则输出除法结果，否则程序不输出任何结果。"
   ]
  },
  {
   "cell_type": "markdown",
   "id": "db9d3805",
   "metadata": {},
   "source": [
    "常见的异常类型还有："
   ]
  },
  {
   "cell_type": "markdown",
   "id": "62ffa30a",
   "metadata": {},
   "source": [
    "<table>   \n",
    "    <tr style=\"border-top:solid\">\n",
    "        <td style=\"text-align:left\">AttributeError</td>\n",
    "        <td style=\"text-align:left\">访问对象不存在的属性或方法</td>\n",
    "    </tr>\n",
    "    <tr>\n",
    "        <td style=\"text-align:left\">IndexErro</td>\n",
    "        <td style=\"text-align:left\">访问超出列表范围的索引</td>\n",
    "    </tr>\n",
    "    <tr>\n",
    "        <td style=\"text-align:left\">SyntaxError</td>\n",
    "        <td style=\"text-align:left\">语法错误</td>\n",
    "    </tr>\n",
    "    <tr>\n",
    "        <td style=\"text-align:left\">NameError</td>\n",
    "        <td style=\"text-align:left\">访问未定义的变量或函数时发生的错误</td>\n",
    "    </tr>\n",
    "    <tr>\n",
    "        <td style=\"text-align:left\">TypeError</td>\n",
    "        <td style=\"text-align:left\">调用函数时，传递参数的类型错误</td>\n",
    "    </tr>\n",
    "    <tr style=\"border-bottom:solid\">\n",
    "        <td style=\"text-align:left\">ModuleNotFoundError</td>\n",
    "        <td style=\"text-align:left\">导入不存在的模块或找不到模块</td>\n",
    "    </tr>\n",
    "</table>\n",
    "</br>"
   ]
  },
  {
   "cell_type": "markdown",
   "id": "43683bc0",
   "metadata": {},
   "source": [
    "## 一些常用的内置函数\n",
    "\n",
    "Python 内置了一些常用的函数，可以方便使用。本书简单介绍以下几个内置函数：\n",
    "\n",
    "<table>\n",
    "    <tr style=\"border-top:solid\">\n",
    "        <td style=\"text-align:left\">sum</td>\n",
    "        <td style=\"text-align:left\">对可迭代对象（如列表，元组，集合）求和</td>\n",
    "    </tr>\n",
    "    <tr>\n",
    "        <td style=\"text-align:left\">max</td>\n",
    "        <td style=\"text-align:left\">返回输入参数中的最大值</td>\n",
    "    </tr>\n",
    "    <tr>\n",
    "        <td style=\"text-align:left\">min</td>\n",
    "        <td style=\"text-align:left\">返回输入参数中的最小值</td>\n",
    "    </tr>\n",
    "    <tr>\n",
    "        <td style=\"text-align:left\">abs</td>\n",
    "        <td style=\"text-align:left\">返回输入数值的绝对值</td>\n",
    "    </tr>\n",
    "    <tr>\n",
    "        <td style=\"text-align:left\">round</td>\n",
    "        <td style=\"text-align:left\">返回输入数值的四舍五入值</td>\n",
    "    </tr>\n",
    "    <tr>\n",
    "        <td style=\"text-align:left\">range</td>\n",
    "        <td style=\"text-align:left\">创建一个整数序列类型，多用于 for 循环</td>\n",
    "    </tr>\n",
    "    <tr>\n",
    "        <td style=\"text-align:left\">enumerate</td>\n",
    "        <td style=\"text-align:left\">将一个可迭代的对象，同时列出各个数据和对应索引，常用在 for 循环中</td>\n",
    "    </tr>\n",
    "    <tr style=\"border-bottom:solid\">\n",
    "        <td style=\"text-align:left\">sorted</td>\n",
    "        <td style=\"text-align:left\">对可迭代对象进行排序，默认升序</td>\n",
    "    </tr>\n",
    "</table>\n",
    "</br>"
   ]
  },
  {
   "cell_type": "code",
   "execution_count": null,
   "id": "a3b8e5b5",
   "metadata": {},
   "outputs": [],
   "source": [
    "round(3.1415926, 2)  # 四舍五入时保留两位小数"
   ]
  },
  {
   "cell_type": "code",
   "execution_count": null,
   "id": "de3e70cf",
   "metadata": {},
   "outputs": [],
   "source": [
    "round(3.1415926) # 默认四舍五入为整数"
   ]
  },
  {
   "cell_type": "markdown",
   "id": "0a06e911",
   "metadata": {},
   "source": [
    "range 被 Python 直接视为一种数据类型，表示一个整数数列。包含终点（必有），起点（可选），步长（可选）。可以用``list()``将 range 类型转化为列表类型。"
   ]
  },
  {
   "cell_type": "code",
   "execution_count": null,
   "id": "4cf8b77f",
   "metadata": {},
   "outputs": [],
   "source": [
    "range(10)  # 创建一个从 0 到 10 (不包括 10) 的整数序列，默认起点为 0，默认步长值为 1"
   ]
  },
  {
   "cell_type": "code",
   "execution_count": null,
   "id": "787c7d9e",
   "metadata": {},
   "outputs": [],
   "source": [
    "list(range(10))"
   ]
  },
  {
   "cell_type": "code",
   "execution_count": null,
   "id": "301909d7",
   "metadata": {},
   "outputs": [],
   "source": [
    "range(2, 10)  # 创建一个从 2 到 10 的整数序列"
   ]
  },
  {
   "cell_type": "code",
   "execution_count": null,
   "id": "a1009a7b",
   "metadata": {},
   "outputs": [],
   "source": [
    "range(2, 10, 2) # 创建一个从 2 到 10 的整数序列，并且步长值为 2"
   ]
  },
  {
   "cell_type": "code",
   "execution_count": null,
   "id": "518e4f50",
   "metadata": {},
   "outputs": [],
   "source": [
    "list(range(2, 10, 2))"
   ]
  },
  {
   "cell_type": "markdown",
   "id": "1f368a55",
   "metadata": {},
   "source": [
    "eumerate 经常结合 for 循环使用。"
   ]
  },
  {
   "cell_type": "code",
   "execution_count": null,
   "id": "abf37c31",
   "metadata": {},
   "outputs": [],
   "source": [
    "a = [20, 30, 40, 50]\n",
    "for i in range(len(a)):\n",
    "    print(a[i], i)"
   ]
  },
  {
   "cell_type": "markdown",
   "id": "cce6ea09",
   "metadata": {},
   "source": [
    "使用 enumerate 则上述代码更简洁些："
   ]
  },
  {
   "cell_type": "code",
   "execution_count": null,
   "id": "e4b83b3c",
   "metadata": {},
   "outputs": [],
   "source": [
    "a = [20, 30, 40, 50]\n",
    "for item, i in enumerate(a):\n",
    "    print(item, i)"
   ]
  },
  {
   "cell_type": "markdown",
   "id": "7ecea52e",
   "metadata": {},
   "source": [
    "sorted 函数可以对可迭代对象进行排序，默认为升序，可迭代对象一般是列表。"
   ]
  },
  {
   "cell_type": "code",
   "execution_count": null,
   "id": "2a2b9a16",
   "metadata": {},
   "outputs": [],
   "source": [
    "arr = [23, 54, 12, 37]\n",
    "sorted(arr)  # 对列表升序排列"
   ]
  },
  {
   "cell_type": "code",
   "execution_count": null,
   "id": "8121b58a",
   "metadata": {},
   "outputs": [],
   "source": [
    "sorted(arr, reverse = True)  # 对列表降序排列"
   ]
  },
  {
   "cell_type": "markdown",
   "id": "83c3ed65",
   "metadata": {},
   "source": [
    "## 练习"
   ]
  },
  {
   "cell_type": "markdown",
   "id": "f7e03cda",
   "metadata": {},
   "source": [
    "```{exercise}\n",
    ":label: judge-leap-year\n",
    "判断用户输入的年份是否为闰年。\n",
    "```"
   ]
  },
  {
   "cell_type": "markdown",
   "id": "41bed2ac",
   "metadata": {},
   "source": [
    "````{solution} judge-leap-year\n",
    ":class: dropdown\n",
    "\n",
    "```{code-block} python\n",
    "year = int(input(\"输入一个年份: \"))\n",
    "if (year % 4) == 0:\n",
    "   if (year % 100) == 0:\n",
    "       if (year % 400) == 0:\n",
    "           print(\"{0} 是闰年\".format(year))   # 整百年能被400整除的是闰年\n",
    "       else:\n",
    "           print(\"{0} 不是闰年\".format(year))\n",
    "   else:\n",
    "       print(\"{0} 是闰年\".format(year))       # 非整百年能被4整除的为闰年\n",
    "else:\n",
    "   print(\"{0} 不是闰年\".format(year))\n",
    "```\n",
    "````"
   ]
  },
  {
   "cell_type": "markdown",
   "id": "7d5d06e2",
   "metadata": {},
   "source": [
    "```{exercise}\n",
    ":label: print-multiplication-table\n",
    "编写一个程序，打印出九九乘法表。\n",
    "```"
   ]
  },
  {
   "cell_type": "markdown",
   "id": "8f6ded21",
   "metadata": {},
   "source": [
    "````{solution} print-multiplication-table\n",
    ":class: dropdown\n",
    "\n",
    "```{code-block} python\n",
    "for i in range(1, 10):\n",
    "    for j in range(1, i+1):\n",
    "        print('{}*{}={}\\t'.format(j, i, i*j), end='')\n",
    "    print()\n",
    "```\n",
    "````"
   ]
  },
  {
   "cell_type": "markdown",
   "id": "a684f652",
   "metadata": {},
   "source": [
    "```{exercise}\n",
    ":label: sum-cub\n",
    "自定义一个函数，给定数值 $n$，能够计算 从 1 到 $n$ 所有自然数的立方和。\n",
    "```"
   ]
  },
  {
   "cell_type": "markdown",
   "id": "880db8c8",
   "metadata": {},
   "source": [
    "````{solution} sum-cub\n",
    ":class: dropdown\n",
    "\n",
    "```{code-block} python\n",
    "def sumOfCube(n):\n",
    "    sum = 0\n",
    "    for i in range(1, n+1):\n",
    "        sum += i*i*i\n",
    "         \n",
    "    return sum\n",
    " \n",
    "   \n",
    "# 调用函数\n",
    "n = 10\n",
    "print(sumOfCube(n))\n",
    "```\n",
    "````"
   ]
  },
  {
   "cell_type": "markdown",
   "id": "a7bd31f5",
   "metadata": {},
   "source": [
    "```{exercise}\n",
    ":label: great-common-devisor\n",
    "从键盘输入两个整数，编写一个程序可以求出这两个整数的最大公约数。\n",
    "```"
   ]
  },
  {
   "cell_type": "markdown",
   "id": "09f27d06",
   "metadata": {},
   "source": [
    "````{solution} great-common-devisor\n",
    ":class: dropdown\n",
    "\n",
    "```{code-block} python\n",
    "# 定义一个函数\n",
    "def gcd(x, y):\n",
    "   gcd = 1 # 初始值为 1\n",
    " \n",
    "   # 获取两个数的最小值\n",
    "   if x > y:\n",
    "       smaller = y\n",
    "   else:\n",
    "       smaller = x\n",
    " \n",
    "   for i in range(1, smaller + 1):\n",
    "       if((x % i == 0) and (y % i == 0)):\n",
    "           gcd = i\n",
    " \n",
    "   return gcd\n",
    " \n",
    " \n",
    "# 用户输入两个数字\n",
    "num1 = int(input(\"输入第一个数字: \"))\n",
    "num2 = int(input(\"输入第二个数字: \"))\n",
    " \n",
    "print( num1,\"和\", num2,\"的最大公约数为\", gcd(num1, num2))\n",
    "```\n",
    "````"
   ]
  },
  {
   "cell_type": "markdown",
   "id": "88f70fe8",
   "metadata": {},
   "source": [
    "```{exercise}\n",
    ":label: fib-sequence\n",
    "输出指定数目的斐波那契数列。\n",
    "```"
   ]
  },
  {
   "cell_type": "markdown",
   "id": "7a0683e6",
   "metadata": {},
   "source": [
    "````{solution} fib-sequence\n",
    ":class: dropdown\n",
    "\n",
    "```{code-block} python\n",
    "# 获取用户输入数据\n",
    "nterms = int(input(\"the number of sequence:\"))\n",
    "\n",
    "# 第一和第二项\n",
    "n1 = 0\n",
    "n2 = 1\n",
    "count = 2\n",
    " \n",
    "# 判断输入的值是否合法\n",
    "if nterms <= 0:\n",
    "   print(\"please input a positive value\")\n",
    "elif nterms == 1:\n",
    "   print(\"斐波那契数列：\")\n",
    "   print(n1)\n",
    "else:\n",
    "   print(\"斐波那契数列：\")\n",
    "   print(n1, end=\", \")\n",
    "   print(n2, end=\", \")\n",
    "   while count < nterms - 1:\n",
    "       nth = n1 + n2\n",
    "       print(nth, end=\", \")\n",
    "       # 更新值\n",
    "       n1 = n2\n",
    "       n2 = nth\n",
    "       count += 1\n",
    "nth = n1 + n2\n",
    "print(nth)\n",
    "```\n",
    "````"
   ]
  },
  {
   "cell_type": "markdown",
   "id": "1d6eef05",
   "metadata": {},
   "source": [
    "````{solution} fib-sequence\n",
    ":class: dropdown\n",
    "\n",
    "```{code-block} python\n",
    "def recur_fibo(n):\n",
    "   \"\"\"递归函数\n",
    "   输出斐波那契数列\"\"\"\n",
    "   if n <= 1:\n",
    "       return n\n",
    "   else:\n",
    "       return(recur_fibo(n-1) + recur_fibo(n-2))\n",
    " \n",
    " \n",
    "# 获取用户输入\n",
    "nterms = int(input(\"您要输出几项? \"))\n",
    " \n",
    "# 检查输入的数字是否正确\n",
    "if nterms <= 0:\n",
    "   print(\"输入正数\")\n",
    "else:\n",
    "   print(\"斐波那契数列:\")\n",
    "   for i in range(nterms):\n",
    "       print(recur_fibo(i))\n",
    "```\n",
    "````"
   ]
  },
  {
   "cell_type": "markdown",
   "id": "2e230e40",
   "metadata": {},
   "source": [
    "```{exercise}\n",
    ":label: range-prime-numbers\n",
    "输出指定范围内的素数。\n",
    "```"
   ]
  },
  {
   "cell_type": "markdown",
   "id": "9e997299",
   "metadata": {},
   "source": [
    "````{solution} range-prime-numbers\n",
    ":class: dropdown\n",
    "\n",
    "```{code-block} python\n",
    "# take input from the user\n",
    "lower = int(input(\"输入区间最小值: \"))\n",
    "upper = int(input(\"输入区间最大值: \"))\n",
    " \n",
    "for num in range(lower,upper + 1):\n",
    "    # 素数大于 1\n",
    "    if num > 1:\n",
    "        for i in range(2,num):\n",
    "            if (num % i) == 0:\n",
    "                break\n",
    "        else:\n",
    "            print(num)\n",
    "```\n",
    "````"
   ]
  },
  {
   "cell_type": "markdown",
   "id": "890f54bc",
   "metadata": {},
   "source": [
    "```{exercise}\n",
    ":label: get-date\n",
    "编写一个程序，能够得到昨天的日期。（提示：使用 datatime 库）\n",
    "```"
   ]
  },
  {
   "cell_type": "markdown",
   "id": "2d10610d",
   "metadata": {},
   "source": [
    "````{solution} range-prime-numbers\n",
    ":class: dropdown\n",
    "\n",
    "```{code-block} python\n",
    "import datetime\n",
    "\n",
    "def getYesterday(): \n",
    "    today = datetime.date.today() \n",
    "    oneday = datetime.timedelta(days = 1) \n",
    "    yesterday = today - oneday  \n",
    "    return yesterday\n",
    " \n",
    "# 输出\n",
    "print(getYesterday())\n",
    "```\n",
    "````"
   ]
  },
  {
   "cell_type": "markdown",
   "id": "b918cbd3",
   "metadata": {},
   "source": [
    "```{exercise}\n",
    ":label: second-watch\n",
    "编写一个程序，实现秒表功能。（提示：使用 time 库）\n",
    "```"
   ]
  },
  {
   "cell_type": "markdown",
   "id": "cea8eb71",
   "metadata": {},
   "source": [
    "````{solution} second-watch\n",
    ":class: dropdown\n",
    "\n",
    "```{code-block} python\n",
    "import time\n",
    "\n",
    "\n",
    "print('按下回车开始计时，按下任意键停止计时。')\n",
    "while True:\n",
    "    input('')\n",
    "    starttime = time.time()\n",
    "    print('开始')\n",
    "    try:\n",
    "        while True:\n",
    "            print('计时: ', round(time.time() - starttime, 0), 's')\n",
    "            time.sleep(1)\n",
    "    except KeyboardInterrupt:\n",
    "        print('结束')\n",
    "        endtime = time.time()\n",
    "        print('总共的时间为:', round(endtime - starttime, 2),'s')\n",
    "        break\n",
    "```\n",
    "````"
   ]
  },
  {
   "cell_type": "markdown",
   "id": "1932f957",
   "metadata": {},
   "source": [
    "<script src=\"https://giscus.app/client.js\"\n",
    "        data-repo=\"robinchen121/book-Python-Data-Science\"\n",
    "        data-repo-id=\"R_kgDOKFdyOw\"\n",
    "        data-category=\"Announcements\"\n",
    "        data-category-id=\"DIC_kwDOKFdyO84CgWHi\"\n",
    "        data-mapping=\"pathname\"\n",
    "        data-strict=\"0\"\n",
    "        data-reactions-enabled=\"1\"\n",
    "        data-emit-metadata=\"0\"\n",
    "        data-input-position=\"bottom\"\n",
    "        data-theme=\"light\"\n",
    "        data-lang=\"en\"\n",
    "        crossorigin=\"anonymous\"\n",
    "        async>\n",
    "</script>"
   ]
  }
 ],
 "metadata": {
  "celltoolbar": "幻灯片",
  "kernelspec": {
   "display_name": "Python 3 (ipykernel)",
   "language": "python",
   "name": "python3"
  },
  "language_info": {
   "codemirror_mode": {
    "name": "ipython",
    "version": 3
   },
   "file_extension": ".py",
   "mimetype": "text/x-python",
   "name": "python",
   "nbconvert_exporter": "python",
   "pygments_lexer": "ipython3",
   "version": "3.10.9"
  }
 },
 "nbformat": 4,
 "nbformat_minor": 5
}
