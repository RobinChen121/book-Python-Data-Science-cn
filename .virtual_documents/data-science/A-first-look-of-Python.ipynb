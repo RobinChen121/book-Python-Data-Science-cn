












































print("my university") # 打印一个字符串




















a = 10
if a > 10:
    a = 25
    print("Value of a is greater than 10") # this line is not implemented
while a < 20:
    print(a)
    a = a + 2
print(a + 100)





a = 10
if a > 10:
    a = 25
print("Value of a is greater than 10") # will print the string
while a < 20:
    print(a)
    a = a + 2
print(a + 100)





# 这是一个单行注释


"""
这是一个
多行注释
"""
print('hello')








print('these codes are\
too long') # 多行代码











name = 'chen'
Name = 'zhang'
print(Name)





average_score = 87
print(average_score)



































import numpy








import numpy as np





np.log10(200) # 使用 numpy 中的 log10 函数






from numpy import log10 # 从 Numpy 包中导入 log10 函数

log10(200) # 函数名字前面没有包的名字





from numpy import *





log2(16) # 函数名字前面没有包的名字














import math

math.fsum([1, 2, 4])


math.factorial(5)





math.exp(2)





math.sin(math.pi/2)






























