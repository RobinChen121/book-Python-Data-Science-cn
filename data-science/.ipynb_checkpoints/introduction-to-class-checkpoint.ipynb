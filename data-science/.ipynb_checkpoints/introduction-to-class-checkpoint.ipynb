{
 "cells": [
  {
   "cell_type": "markdown",
   "id": "d86ec693",
   "metadata": {},
   "source": [
    "# Python 面向对象编程"
   ]
  },
  {
   "cell_type": "markdown",
   "id": "0f8ce7a6",
   "metadata": {},
   "source": [
    "Python 是一种支持面向对象编程（Object Oriented Programming, OOP）的语言。面向对象编程是一种编程范式，它将数据和操作数据的函数封装在对象中，通过类（Class）和对象（Object）来组织代码，使得代码更易于理解、维护、扩展和重用, 特别适合开发大型、复杂的系统。\n",
    "\n",
    "面向对象编程中，类是对象的模板或蓝图，描述一类事物的属性（变量）和行为（方法）；而对象是类的实例，具体体现类的属性和行为。例如，定义企业员工为一个类，该类中，可以包含姓名，工资，工龄，职务等属性；而具体的一个企业员工张三或李四就是这个类的一个实例。打个比喻，类就像是“蛋糕模具”，对象是用这个模具做出的“蛋糕”。"
   ]
  },
  {
   "cell_type": "markdown",
   "id": "cb007720",
   "metadata": {},
   "source": [
    "Python 通过 `class` 来定义一个类，并在类中进一步定义类的属性（数据）和方法（函数）。语法格式如下："
   ]
  },
  {
   "cell_type": "markdown",
   "id": "91715f15",
   "metadata": {},
   "source": [
    "<table>   \n",
    "    <tr style=\"border-bottom:solid\">\n",
    "     </tr>\n",
    "    <tr>\n",
    "        <td style=\"text-align:left\">class ClassName:</td>\n",
    "    </tr>\n",
    "    <tr>\n",
    "        <td style=\"text-align:left\">&nbsp;&nbsp;&nbsp;&nbsp;&nbsp;&nbsp;&lt;statement_block_1&gt;</td>\n",
    "    </tr>\n",
    "    <tr>\n",
    "        <td style=\"text-align:left\">&nbsp;&nbsp;&nbsp;&nbsp;&nbsp;&nbsp;&lt;statement_block_2&gt;</td>\n",
    "    </tr>\n",
    "    <tr>\n",
    "        <td style=\"text-align:left\">&nbsp;&nbsp;&nbsp;&nbsp;&nbsp;&nbsp;&nbsp;...</td>\n",
    "    </tr>\n",
    "    <tr style=\"border-bottom:solid\">\n",
    "        <td style=\"text-align:left\">&nbsp;&nbsp;&nbsp;&nbsp;&nbsp;&nbsp;&lt;statement_block_N&gt;</td>\n",
    "    </tr>\n",
    "</table>\n",
    "<br />"
   ]
  },
  {
   "cell_type": "markdown",
   "id": "506ee3ae",
   "metadata": {},
   "source": [
    "下面的例子中，我们定义一个员工类："
   ]
  },
  {
   "cell_type": "code",
   "execution_count": 42,
   "id": "3026edf1",
   "metadata": {},
   "outputs": [
    {
     "name": "stdout",
     "output_type": "stream",
     "text": [
      "Hello, everyone!\n",
      "My department is business schoool.\n"
     ]
    }
   ],
   "source": [
    "class Employee:  \n",
    "    # 类的属性\n",
    "    department = 'business schoool' # 普通属性\n",
    "    __age = 20 # 前缀双下划线命名的变量为类的私有属性\n",
    "    \n",
    "    # 类的方法\n",
    "    def get_age(self):\n",
    "        return self.__age\n",
    "    \n",
    "    def say_hello(self):\n",
    "        print('Hello, everyone!')\n",
    "    \n",
    "john = Employee() # 实例化一个类\n",
    "john.say_hello() # 访问类里的方法\n",
    "print('My department is %s.' % john.department) # 访问类里的属性  "
   ]
  },
  {
   "cell_type": "markdown",
   "id": "e1c88d9d",
   "metadata": {},
   "source": [
    "上面的例子中，我们定义了一个 Employee 类，有两个属性：一个普通属性和一个私有属性。前缀双下划线命名的变量为类的私有属性，**不能在类外部直接访问**，但可以在类里面定义一个访问私有属性的方法，然后调用方法进行访问。"
   ]
  },
  {
   "cell_type": "code",
   "execution_count": 25,
   "id": "ec5ffd29",
   "metadata": {},
   "outputs": [
    {
     "name": "stdout",
     "output_type": "stream",
     "text": [
      "age is 20\n"
     ]
    }
   ],
   "source": [
    "print('age is', john.get_age())"
   ]
  },
  {
   "cell_type": "markdown",
   "id": "e0fa4d90",
   "metadata": {},
   "source": [
    "通过实例化一个类，我们就可以通过实例访问类里面的一些属性和方法。"
   ]
  },
  {
   "cell_type": "markdown",
   "id": "90e83802",
   "metadata": {},
   "source": [
    "````{note}\n",
    "前缀单下划线命名的变量为类的守保护属性，可以直接访问，但不推荐访问。\n",
    "````"
   ]
  },
  {
   "cell_type": "markdown",
   "id": "2cfad51f",
   "metadata": {},
   "source": [
    "## 类的初始化 \\_\\_init\\_\\_"
   ]
  },
  {
   "cell_type": "markdown",
   "id": "f656b0db",
   "metadata": {},
   "source": [
    "类有一个名为 \\_\\_init\\_\\_() 的特殊方法，该方法在类实例化时会自动调用，进行实例的初始化。例如："
   ]
  },
  {
   "cell_type": "code",
   "execution_count": 45,
   "id": "f49420d5",
   "metadata": {},
   "outputs": [
    {
     "name": "stdout",
     "output_type": "stream",
     "text": [
      "Hello, everyone! My name is John.\n",
      "My department is engineering school.\n"
     ]
    }
   ],
   "source": [
    "class Employee:  \n",
    "    # 类的属性\n",
    "    department = 'business schoool' # 普通属性\n",
    "    __age = 20 # 前缀双下划线命名的变量为类的私有属性\n",
    "    \n",
    "    # 类的初始化方法\n",
    "    def __init__(self, name, age, department):\n",
    "        self.name = name\n",
    "        self.__age = age\n",
    "        self.department = department\n",
    "    \n",
    "    # 类的方法\n",
    "    def get_age(self):\n",
    "        return self.__age\n",
    "    \n",
    "    def say_hello(self):\n",
    "        print('Hello, everyone! My name is %s.'% self.name)\n",
    "    \n",
    "john = Employee('John', 25, 'engineering school') # 实例化一个类，自动调用  __init__(）初始化\n",
    "john.say_hello() # 访问类里的方法\n",
    "print('My department is %s.' % john.department) # 访问类里的属性  "
   ]
  },
  {
   "cell_type": "markdown",
   "id": "25a5d8e1",
   "metadata": {},
   "source": [
    "上面的例子中，\\_\\_init\\_\\_ 方法初始化了类的多个属性，可以包括\\_\\_init\\_\\_ 方法前面未被类声明的属性。而已经声明的属性值被\\_\\_init\\_\\_ 方法中的参数值覆盖。"
   ]
  },
  {
   "cell_type": "markdown",
   "id": "60aae455",
   "metadata": {},
   "source": [
    "````{note}\n",
    "类的方法与普通函数有一个显著的区别，它们的第一个参数总是 self，self 代表的是类的实例。\n",
    "````"
   ]
  },
  {
   "cell_type": "markdown",
   "id": "d140507c",
   "metadata": {},
   "source": [
    "## 类的继承"
   ]
  },
  {
   "cell_type": "code",
   "execution_count": null,
   "id": "5625cf96",
   "metadata": {},
   "outputs": [],
   "source": []
  },
  {
   "cell_type": "code",
   "execution_count": null,
   "id": "68cba5a5",
   "metadata": {},
   "outputs": [],
   "source": []
  },
  {
   "cell_type": "code",
   "execution_count": null,
   "id": "cc22e273",
   "metadata": {},
   "outputs": [],
   "source": []
  },
  {
   "cell_type": "code",
   "execution_count": null,
   "id": "6f3f6321",
   "metadata": {},
   "outputs": [],
   "source": []
  },
  {
   "cell_type": "markdown",
   "id": "7476b35b",
   "metadata": {},
   "source": [
    "<script src=\"https://giscus.app/client.js\"\n",
    "        data-repo=\"robinchen121/book-Python-Data-Science\"\n",
    "        data-repo-id=\"R_kgDOKFdyOw\"\n",
    "        data-category=\"Announcements\"\n",
    "        data-category-id=\"DIC_kwDOKFdyO84CgWHi\"\n",
    "        data-mapping=\"pathname\"\n",
    "        data-strict=\"0\"\n",
    "        data-reactions-enabled=\"1\"\n",
    "        data-emit-metadata=\"0\"\n",
    "        data-input-position=\"bottom\"\n",
    "        data-theme=\"light\"\n",
    "        data-lang=\"en\"\n",
    "        crossorigin=\"anonymous\"\n",
    "        async>\n",
    "</script>"
   ]
  },
  {
   "cell_type": "markdown",
   "id": "24c4c8e8",
   "metadata": {},
   "source": [
    "<!-- Toogle google translation -->\n",
    "<div id=\"google_translate_element\"></div>\n",
    "<script type=\"text/javascript\">\n",
    "      function googleTranslateElementInit() {\n",
    "        new google.translate.TranslateElement({ pageLanguage: 'zh-CN',\n",
    "                  includedLanguages: 'en,zh-CN,zh-TW,ja,ko,de,ru,fr,es,it,pt,hi,ar,fa',\n",
    "layout: google.translate.TranslateElement.InlineLayout.SIMPLE }, 'google_translate_element');\n",
    "      }\n",
    "</script>\n",
    "<script type=\"text/javascript\"\n",
    "      src=\"https://translate.google.com/translate_a/element.js?cb=googleTranslateElementInit\"\n",
    "></script>\n",
    "<br>"
   ]
  },
  {
   "cell_type": "code",
   "execution_count": null,
   "id": "8b2947c1",
   "metadata": {},
   "outputs": [],
   "source": []
  }
 ],
 "metadata": {
  "kernelspec": {
   "display_name": "Python 3 (ipykernel)",
   "language": "python",
   "name": "python3"
  },
  "language_info": {
   "codemirror_mode": {
    "name": "ipython",
    "version": 3
   },
   "file_extension": ".py",
   "mimetype": "text/x-python",
   "name": "python",
   "nbconvert_exporter": "python",
   "pygments_lexer": "ipython3",
   "version": "3.10.9"
  }
 },
 "nbformat": 4,
 "nbformat_minor": 5
}
