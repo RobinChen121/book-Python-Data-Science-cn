{
 "cells": [
  {
   "cell_type": "markdown",
   "id": "fcf6d8c3",
   "metadata": {
    "slideshow": {
     "slide_type": "slide"
    }
   },
   "source": [
    "# Numpy 简介\n",
    "<hr>\n",
    "\n",
    "Numpy (Numerical Python) 是 Python 语言一个重要的扩展库，支持大量的数组与矩阵运算，此外也提供大量的数学函数库，用于模仿数学软件 MatLab 的功能。Numpy 通常与其他库 SciPy（Scientific Python）和 Matplotlib（绘图库）一起使用。"
   ]
  },
  {
   "cell_type": "markdown",
   "id": "084838f6",
   "metadata": {
    "slideshow": {
     "slide_type": "fragment"
    }
   },
   "source": [
    "Numpy 的主要特点是：\n",
    "\n",
    "- 一个强大的 N 维数组对象 ndarray\n",
    "\n",
    "- 矩阵运算、傅里叶变换、生成随机数功能等"
   ]
  },
  {
   "cell_type": "markdown",
   "id": "a44917dc",
   "metadata": {
    "slideshow": {
     "slide_type": "subslide"
    }
   },
   "source": [
    "使用 numpy 需要首先导入 numpy 包："
   ]
  },
  {
   "cell_type": "code",
   "execution_count": 1,
   "id": "f7b7518f",
   "metadata": {
    "slideshow": {
     "slide_type": "fragment"
    }
   },
   "outputs": [],
   "source": [
    "import numpy as np"
   ]
  },
  {
   "cell_type": "markdown",
   "id": "e8b920a4",
   "metadata": {
    "slideshow": {
     "slide_type": "subslide"
    }
   },
   "source": [
    "## 创建数组\n",
    "<hr>\n",
    "\n",
    "用 Numpy 创建数组有多种方法。首先，Numpy 中的``array``函数可以直接将 Python 的 list 类型转化为 Numpy 的数组类型 ndarray。例如，一个一维数组："
   ]
  },
  {
   "cell_type": "code",
   "execution_count": 2,
   "id": "5217a923",
   "metadata": {
    "slideshow": {
     "slide_type": "fragment"
    }
   },
   "outputs": [
    {
     "data": {
      "text/plain": [
       "array([1, 2, 3, 4])"
      ]
     },
     "execution_count": 2,
     "metadata": {},
     "output_type": "execute_result"
    }
   ],
   "source": [
    "a = np.array([1, 2, 3, 4])\n",
    "a"
   ]
  },
  {
   "cell_type": "markdown",
   "id": "27e84cc5",
   "metadata": {
    "slideshow": {
     "slide_type": "subslide"
    }
   },
   "source": [
    "一个二维数组："
   ]
  },
  {
   "cell_type": "code",
   "execution_count": 3,
   "id": "f4d487d4",
   "metadata": {
    "slideshow": {
     "slide_type": "fragment"
    }
   },
   "outputs": [
    {
     "data": {
      "text/plain": [
       "array([[1, 2],\n",
       "       [3, 4]])"
      ]
     },
     "execution_count": 3,
     "metadata": {},
     "output_type": "execute_result"
    }
   ],
   "source": [
    "b = [[1, 2], [3, 4]]\n",
    "a = np.array(b)\n",
    "a"
   ]
  },
  {
   "cell_type": "markdown",
   "id": "01368b72",
   "metadata": {
    "slideshow": {
     "slide_type": "fragment"
    }
   },
   "source": [
    "注意，``array``函数中的小括号中要包括一个用中括号括起来的 list，不能直接写成 np.array(1, 2, 3, 4)。"
   ]
  },
  {
   "cell_type": "markdown",
   "id": "dd0807ef",
   "metadata": {
    "slideshow": {
     "slide_type": "subslide"
    }
   },
   "source": [
    "Numpy 中的``zeros``函数可以创建元素值全为 0 的矩阵，``ones``函数可以创建元素值全为 1 的矩阵，而``empty``函数可以创建一个元素值任意的一个空矩阵。例如："
   ]
  },
  {
   "cell_type": "code",
   "execution_count": 4,
   "id": "cd6e38ca",
   "metadata": {
    "slideshow": {
     "slide_type": "fragment"
    }
   },
   "outputs": [
    {
     "data": {
      "text/plain": [
       "array([[0., 0., 0., 0.],\n",
       "       [0., 0., 0., 0.],\n",
       "       [0., 0., 0., 0.]])"
      ]
     },
     "execution_count": 4,
     "metadata": {},
     "output_type": "execute_result"
    }
   ],
   "source": [
    "np.zeros((3, 4)) # 3 行 4 列的零矩阵"
   ]
  },
  {
   "cell_type": "code",
   "execution_count": 5,
   "id": "ee2bd8bc",
   "metadata": {
    "slideshow": {
     "slide_type": "fragment"
    }
   },
   "outputs": [
    {
     "data": {
      "text/plain": [
       "array([[1., 1., 1., 1.],\n",
       "       [1., 1., 1., 1.],\n",
       "       [1., 1., 1., 1.]])"
      ]
     },
     "execution_count": 5,
     "metadata": {},
     "output_type": "execute_result"
    }
   ],
   "source": [
    "np.ones((3, 4)) # 3 行 4 列的一矩阵"
   ]
  },
  {
   "cell_type": "code",
   "execution_count": 6,
   "id": "88d1cf82",
   "metadata": {
    "slideshow": {
     "slide_type": "subslide"
    }
   },
   "outputs": [
    {
     "data": {
      "text/plain": [
       "array([[0., 0., 0.],\n",
       "       [0., 0., 0.]])"
      ]
     },
     "execution_count": 6,
     "metadata": {},
     "output_type": "execute_result"
    }
   ],
   "source": [
    "np.empty((2, 3)) # 2 行 3 列的空矩阵"
   ]
  },
  {
   "cell_type": "markdown",
   "id": "2b5f25a0",
   "metadata": {
    "slideshow": {
     "slide_type": "subslide"
    }
   },
   "source": [
    "Numpy 中的``arange``函数可以生成一个等差数列的数组，例如："
   ]
  },
  {
   "cell_type": "code",
   "execution_count": 7,
   "id": "c654a1c1",
   "metadata": {
    "slideshow": {
     "slide_type": "fragment"
    }
   },
   "outputs": [
    {
     "data": {
      "text/plain": [
       "array([0, 1, 2, 3, 4, 5, 6, 7, 8, 9])"
      ]
     },
     "execution_count": 7,
     "metadata": {},
     "output_type": "execute_result"
    }
   ],
   "source": [
    "np.arange(10) # 生成一个从 0 到 9 之间的数组，默认步长为 1"
   ]
  },
  {
   "cell_type": "code",
   "execution_count": 8,
   "id": "80e850f7",
   "metadata": {
    "slideshow": {
     "slide_type": "fragment"
    }
   },
   "outputs": [
    {
     "data": {
      "text/plain": [
       "array([5, 6, 7, 8, 9])"
      ]
     },
     "execution_count": 8,
     "metadata": {},
     "output_type": "execute_result"
    }
   ],
   "source": [
    "np.arange(5, 10) # 生成一个从 5 到 9 之间的数组，默认步长为 1"
   ]
  },
  {
   "cell_type": "code",
   "execution_count": 9,
   "id": "fc416f91",
   "metadata": {
    "slideshow": {
     "slide_type": "fragment"
    }
   },
   "outputs": [
    {
     "data": {
      "text/plain": [
       "array([5, 7, 9])"
      ]
     },
     "execution_count": 9,
     "metadata": {},
     "output_type": "execute_result"
    }
   ],
   "source": [
    "np.arange(5, 10, 2) # 生成一个从 5 到 9 之间的数组，且步长为 2"
   ]
  },
  {
   "cell_type": "markdown",
   "id": "4472e4e4",
   "metadata": {
    "slideshow": {
     "slide_type": "subslide"
    }
   },
   "source": [
    "另外一个类似的函数为``linespace``，不同的地方在于：``arange``函数中第三个参数表示等差数组的步长，而``linespace``函数第三个参数表示一共生成的元素个数。若生成一系列等差的浮点数，则用``linespace``更好些。"
   ]
  },
  {
   "cell_type": "code",
   "execution_count": 10,
   "id": "66d916ac",
   "metadata": {
    "slideshow": {
     "slide_type": "fragment"
    }
   },
   "outputs": [
    {
     "data": {
      "text/plain": [
       "array([0.  , 0.25, 0.5 , 0.75, 1.  , 1.25, 1.5 , 1.75, 2.  ])"
      ]
     },
     "execution_count": 10,
     "metadata": {},
     "output_type": "execute_result"
    }
   ],
   "source": [
    "np.linspace(0, 2, 9 ) # 生成从 0 到 2 之间共 9 个数"
   ]
  },
  {
   "cell_type": "markdown",
   "id": "38be0bce",
   "metadata": {
    "slideshow": {
     "slide_type": "subslide"
    }
   },
   "source": [
    "Python 的 list 类型可以与 Numpy 的数组类型 ndarray 互换，例如："
   ]
  },
  {
   "cell_type": "code",
   "execution_count": 11,
   "id": "49e64a22",
   "metadata": {
    "slideshow": {
     "slide_type": "fragment"
    }
   },
   "outputs": [
    {
     "data": {
      "text/plain": [
       "[0, 1, 2, 3, 4, 5, 6, 7, 8, 9]"
      ]
     },
     "execution_count": 11,
     "metadata": {},
     "output_type": "execute_result"
    }
   ],
   "source": [
    "a = np.arange(10)\n",
    "list(a)"
   ]
  },
  {
   "cell_type": "markdown",
   "id": "bf98d097",
   "metadata": {
    "slideshow": {
     "slide_type": "subslide"
    }
   },
   "source": [
    "numpy 库中常见的数组创建函数如下表所示：\n",
    "\n",
    "|函数|描述|\n",
    "|:--:|:--:|\n",
    "|np.arrange(x, y, i)|创建一个由 x 到 y，以 i 为步长的数组|\n",
    "|np.linspace(x, y, n)|创建一个由 x 到 y，等分为 n 个元素的数组|\n",
    "|np.ones((m,n))|创建一个 m 行 n 列全是 1 的数组|\n",
    "|np.empty((m,n))|创建一个 m 行 n 列全是 0 的数组|"
   ]
  },
  {
   "cell_type": "markdown",
   "id": "52e6163d",
   "metadata": {
    "slideshow": {
     "slide_type": "subslide"
    }
   },
   "source": [
    "numpy 创建的数组类型为 ndarray类型，它的常用属性如下表所示：\n",
    "\n",
    "|函数|描述|\n",
    "|:--:|:--:|\n",
    "|ndarray.ndim|数组的行数|\n",
    "|ndarray.shape|数组在每个维度上大小的整数元组|\n",
    "|ndarray.size|数组中元素的个数|\n",
    "|ndarray.dtype|数组中元素的数据类型|"
   ]
  },
  {
   "cell_type": "code",
   "execution_count": 12,
   "id": "e24ad931",
   "metadata": {
    "slideshow": {
     "slide_type": "subslide"
    }
   },
   "outputs": [
    {
     "data": {
      "text/plain": [
       "2"
      ]
     },
     "execution_count": 12,
     "metadata": {},
     "output_type": "execute_result"
    }
   ],
   "source": [
    "a = np.ones((2,3))\n",
    "a.ndim"
   ]
  },
  {
   "cell_type": "code",
   "execution_count": 13,
   "id": "bcc004b5",
   "metadata": {
    "slideshow": {
     "slide_type": "fragment"
    }
   },
   "outputs": [
    {
     "data": {
      "text/plain": [
       "(2, 3)"
      ]
     },
     "execution_count": 13,
     "metadata": {},
     "output_type": "execute_result"
    }
   ],
   "source": [
    "a.shape"
   ]
  },
  {
   "cell_type": "code",
   "execution_count": 14,
   "id": "ca58b4b4",
   "metadata": {
    "slideshow": {
     "slide_type": "subslide"
    }
   },
   "outputs": [
    {
     "data": {
      "text/plain": [
       "6"
      ]
     },
     "execution_count": 14,
     "metadata": {},
     "output_type": "execute_result"
    }
   ],
   "source": [
    "a.size"
   ]
  },
  {
   "cell_type": "code",
   "execution_count": 15,
   "id": "b9956c2c",
   "metadata": {
    "slideshow": {
     "slide_type": "fragment"
    }
   },
   "outputs": [
    {
     "data": {
      "text/plain": [
       "dtype('float64')"
      ]
     },
     "execution_count": 15,
     "metadata": {},
     "output_type": "execute_result"
    }
   ],
   "source": [
    "a.dtype"
   ]
  },
  {
   "cell_type": "markdown",
   "id": "79c669cd",
   "metadata": {
    "slideshow": {
     "slide_type": "subslide"
    }
   },
   "source": [
    "## 数组索引和切片\n",
    "<hr>\n",
    "\n",
    "对于一维数组，numpy 的索引切片类似 Python list 类型的索引切片，例如："
   ]
  },
  {
   "cell_type": "code",
   "execution_count": 16,
   "id": "5963dc4b",
   "metadata": {
    "slideshow": {
     "slide_type": "fragment"
    }
   },
   "outputs": [
    {
     "data": {
      "text/plain": [
       "array([4, 5, 6, 7, 8, 9])"
      ]
     },
     "execution_count": 16,
     "metadata": {},
     "output_type": "execute_result"
    }
   ],
   "source": [
    "a = np.arange(4, 10) # 生成一个从 4 到 9 之间的数组\n",
    "a"
   ]
  },
  {
   "cell_type": "code",
   "execution_count": 17,
   "id": "9a03e234",
   "metadata": {
    "slideshow": {
     "slide_type": "fragment"
    }
   },
   "outputs": [
    {
     "data": {
      "text/plain": [
       "6"
      ]
     },
     "execution_count": 17,
     "metadata": {},
     "output_type": "execute_result"
    }
   ],
   "source": [
    "a[2] # 数组 a 的第 3 个元素"
   ]
  },
  {
   "cell_type": "code",
   "execution_count": 18,
   "id": "25f8faa5",
   "metadata": {
    "slideshow": {
     "slide_type": "fragment"
    }
   },
   "outputs": [
    {
     "data": {
      "text/plain": [
       "array([6, 7])"
      ]
     },
     "execution_count": 18,
     "metadata": {},
     "output_type": "execute_result"
    }
   ],
   "source": [
    "a[2:4] # 数组 a 的第 3 与第 4 个元素"
   ]
  },
  {
   "cell_type": "code",
   "execution_count": 19,
   "id": "2955d047",
   "metadata": {
    "slideshow": {
     "slide_type": "fragment"
    }
   },
   "outputs": [
    {
     "data": {
      "text/plain": [
       "9"
      ]
     },
     "execution_count": 19,
     "metadata": {},
     "output_type": "execute_result"
    }
   ],
   "source": [
    "a[-1] # 数组 a 的最后一个元素"
   ]
  },
  {
   "cell_type": "code",
   "execution_count": 20,
   "id": "8c04ff35",
   "metadata": {
    "slideshow": {
     "slide_type": "fragment"
    }
   },
   "outputs": [
    {
     "data": {
      "text/plain": [
       "array([9, 8, 7, 6, 5, 4])"
      ]
     },
     "execution_count": 20,
     "metadata": {},
     "output_type": "execute_result"
    }
   ],
   "source": [
    "a[:: -1] # 数组 a 倒序"
   ]
  },
  {
   "cell_type": "markdown",
   "id": "007e1ff8",
   "metadata": {
    "slideshow": {
     "slide_type": "subslide"
    }
   },
   "source": [
    "对于多维数组，Numpy 数组的索引和切片在**一个中括号**里面用逗号分隔不同维度，例如："
   ]
  },
  {
   "cell_type": "code",
   "execution_count": 21,
   "id": "f28789cc",
   "metadata": {
    "slideshow": {
     "slide_type": "fragment"
    }
   },
   "outputs": [
    {
     "data": {
      "text/plain": [
       "array([[ 0,  1,  2,  3],\n",
       "       [ 4,  5,  6,  7],\n",
       "       [ 8,  9, 10, 11]])"
      ]
     },
     "execution_count": 21,
     "metadata": {},
     "output_type": "execute_result"
    }
   ],
   "source": [
    "b = np.arange(12).reshape(3,4) # 创建一个 3 行 4 列的二维数组，reshape函数不改变数值，将原数组重组为一个指定行数列数的数组\n",
    "b"
   ]
  },
  {
   "cell_type": "code",
   "execution_count": 22,
   "id": "7bd79961",
   "metadata": {
    "slideshow": {
     "slide_type": "fragment"
    }
   },
   "outputs": [
    {
     "data": {
      "text/plain": [
       "6"
      ]
     },
     "execution_count": 22,
     "metadata": {},
     "output_type": "execute_result"
    }
   ],
   "source": [
    "b[1, 2] # 二维数组第 2 行第 3 列中的元素"
   ]
  },
  {
   "cell_type": "code",
   "execution_count": 23,
   "id": "8ba07b9a",
   "metadata": {
    "slideshow": {
     "slide_type": "fragment"
    }
   },
   "outputs": [
    {
     "data": {
      "text/plain": [
       "array([ 6, 10])"
      ]
     },
     "execution_count": 23,
     "metadata": {},
     "output_type": "execute_result"
    }
   ],
   "source": [
    "b[1:3, 2] # 二维数组第 3 列中， 第 2 行到第 3 行的元素"
   ]
  },
  {
   "cell_type": "code",
   "execution_count": 24,
   "id": "fc994235",
   "metadata": {
    "slideshow": {
     "slide_type": "fragment"
    }
   },
   "outputs": [
    {
     "data": {
      "text/plain": [
       "array([ 8,  9, 10, 11])"
      ]
     },
     "execution_count": 24,
     "metadata": {},
     "output_type": "execute_result"
    }
   ],
   "source": [
    "b[2, :] # 第 3 行的全部元素"
   ]
  },
  {
   "cell_type": "code",
   "execution_count": 25,
   "id": "d760181a",
   "metadata": {
    "slideshow": {
     "slide_type": "fragment"
    }
   },
   "outputs": [
    {
     "data": {
      "text/plain": [
       "[array([0, 1, 2, 3]), array([4, 5, 6, 7]), array([ 8,  9, 10, 11])]"
      ]
     },
     "execution_count": 25,
     "metadata": {},
     "output_type": "execute_result"
    }
   ],
   "source": [
    "list(b)"
   ]
  },
  {
   "cell_type": "markdown",
   "id": "a7e5e659",
   "metadata": {
    "slideshow": {
     "slide_type": "subslide"
    }
   },
   "source": [
    "## 数组拼接\n",
    "<hr>\n",
    "\n",
    "Numpy 中拼接两个数组用``append``函数。"
   ]
  },
  {
   "cell_type": "code",
   "execution_count": 26,
   "id": "8c5544c5",
   "metadata": {
    "slideshow": {
     "slide_type": "fragment"
    }
   },
   "outputs": [
    {
     "data": {
      "text/plain": [
       "array([0, 1, 2, 3, 4])"
      ]
     },
     "execution_count": 26,
     "metadata": {},
     "output_type": "execute_result"
    }
   ],
   "source": [
    "a = np.arange(5)\n",
    "a"
   ]
  },
  {
   "cell_type": "code",
   "execution_count": 27,
   "id": "2ae12233",
   "metadata": {
    "slideshow": {
     "slide_type": "fragment"
    }
   },
   "outputs": [
    {
     "data": {
      "text/plain": [
       "array([0, 1, 2])"
      ]
     },
     "execution_count": 27,
     "metadata": {},
     "output_type": "execute_result"
    }
   ],
   "source": [
    "b = np.arange(3)\n",
    "b"
   ]
  },
  {
   "cell_type": "code",
   "execution_count": 28,
   "id": "f35b0b7d",
   "metadata": {
    "slideshow": {
     "slide_type": "fragment"
    }
   },
   "outputs": [
    {
     "data": {
      "text/plain": [
       "array([0, 1, 2, 3, 4, 0, 1, 2])"
      ]
     },
     "execution_count": 28,
     "metadata": {},
     "output_type": "execute_result"
    }
   ],
   "source": [
    "np.append(a, b)"
   ]
  },
  {
   "cell_type": "markdown",
   "id": "5371479d",
   "metadata": {
    "slideshow": {
     "slide_type": "subslide"
    }
   },
   "source": [
    "多个数组拼接，可以用``concatenate``。"
   ]
  },
  {
   "cell_type": "code",
   "execution_count": 29,
   "id": "ef57543f",
   "metadata": {
    "slideshow": {
     "slide_type": "fragment"
    }
   },
   "outputs": [
    {
     "data": {
      "text/plain": [
       "array([0, 1, 2, 3])"
      ]
     },
     "execution_count": 29,
     "metadata": {},
     "output_type": "execute_result"
    }
   ],
   "source": [
    "c = np.arange(4)\n",
    "c"
   ]
  },
  {
   "cell_type": "code",
   "execution_count": 30,
   "id": "9c6ad7a7",
   "metadata": {
    "slideshow": {
     "slide_type": "fragment"
    }
   },
   "outputs": [
    {
     "data": {
      "text/plain": [
       "array([0, 1, 2, 3, 4, 0, 1, 2, 0, 1, 2, 3])"
      ]
     },
     "execution_count": 30,
     "metadata": {},
     "output_type": "execute_result"
    }
   ],
   "source": [
    "np.concatenate((a, b, c)) # 注意里面还有一对小括号"
   ]
  },
  {
   "cell_type": "markdown",
   "id": "40d284ce",
   "metadata": {
    "slideshow": {
     "slide_type": "subslide"
    }
   },
   "source": [
    "## 数组运算\n",
    "<hr>\n",
    "\n",
    "Numpy 可以对数组进行多种代数运算，例如："
   ]
  },
  {
   "cell_type": "code",
   "execution_count": 31,
   "id": "2d9f21df",
   "metadata": {
    "slideshow": {
     "slide_type": "fragment"
    }
   },
   "outputs": [
    {
     "data": {
      "text/plain": [
       "array([0, 1, 2, 3])"
      ]
     },
     "execution_count": 31,
     "metadata": {},
     "output_type": "execute_result"
    }
   ],
   "source": [
    "a = np.arange(4)\n",
    "a"
   ]
  },
  {
   "cell_type": "code",
   "execution_count": 32,
   "id": "d46e68b8",
   "metadata": {
    "slideshow": {
     "slide_type": "fragment"
    }
   },
   "outputs": [
    {
     "data": {
      "text/plain": [
       "array([3, 4, 5, 6])"
      ]
     },
     "execution_count": 32,
     "metadata": {},
     "output_type": "execute_result"
    }
   ],
   "source": [
    "b = np.arange(3, 7)\n",
    "b"
   ]
  },
  {
   "cell_type": "code",
   "execution_count": 33,
   "id": "35c124e1",
   "metadata": {
    "slideshow": {
     "slide_type": "fragment"
    }
   },
   "outputs": [
    {
     "data": {
      "text/plain": [
       "array([-3, -3, -3, -3])"
      ]
     },
     "execution_count": 33,
     "metadata": {},
     "output_type": "execute_result"
    }
   ],
   "source": [
    "a - b # 两数组相减"
   ]
  },
  {
   "cell_type": "code",
   "execution_count": 34,
   "id": "c48bbfcd",
   "metadata": {
    "slideshow": {
     "slide_type": "subslide"
    }
   },
   "outputs": [
    {
     "data": {
      "text/plain": [
       "array([3, 5, 7, 9])"
      ]
     },
     "execution_count": 34,
     "metadata": {},
     "output_type": "execute_result"
    }
   ],
   "source": [
    "a + b # 两数组相加"
   ]
  },
  {
   "cell_type": "code",
   "execution_count": 35,
   "id": "6ff35bcb",
   "metadata": {
    "slideshow": {
     "slide_type": "fragment"
    }
   },
   "outputs": [
    {
     "data": {
      "text/plain": [
       "array([0, 2, 4, 6])"
      ]
     },
     "execution_count": 35,
     "metadata": {},
     "output_type": "execute_result"
    }
   ],
   "source": [
    "a * 2 # 数组每个元素乘以一个数值"
   ]
  },
  {
   "cell_type": "code",
   "execution_count": 36,
   "id": "f7c67b36",
   "metadata": {
    "slideshow": {
     "slide_type": "fragment"
    }
   },
   "outputs": [
    {
     "data": {
      "text/plain": [
       "array([0, 1, 4, 9])"
      ]
     },
     "execution_count": 36,
     "metadata": {},
     "output_type": "execute_result"
    }
   ],
   "source": [
    "a ** 2 # 数组每个元素都平方"
   ]
  },
  {
   "cell_type": "code",
   "execution_count": 37,
   "id": "280eaffe",
   "metadata": {
    "slideshow": {
     "slide_type": "fragment"
    }
   },
   "outputs": [
    {
     "data": {
      "text/plain": [
       "array([False, False, False,  True])"
      ]
     },
     "execution_count": 37,
     "metadata": {},
     "output_type": "execute_result"
    }
   ],
   "source": [
    "a > 2 # 数组每个元素与一个数值比较大小"
   ]
  },
  {
   "cell_type": "code",
   "execution_count": 38,
   "id": "efd273bd",
   "metadata": {
    "slideshow": {
     "slide_type": "subslide"
    }
   },
   "outputs": [
    {
     "data": {
      "text/plain": [
       "array([[4., 5.],\n",
       "       [6., 7.]])"
      ]
     },
     "execution_count": 38,
     "metadata": {},
     "output_type": "execute_result"
    }
   ],
   "source": [
    "c = np.array([[4.0, 5.0], [6.0, 7.0]])\n",
    "c"
   ]
  },
  {
   "cell_type": "code",
   "execution_count": 39,
   "id": "6f62f8fa",
   "metadata": {
    "slideshow": {
     "slide_type": "fragment"
    }
   },
   "outputs": [
    {
     "data": {
      "text/plain": [
       "array([[4., 6.],\n",
       "       [5., 7.]])"
      ]
     },
     "execution_count": 39,
     "metadata": {},
     "output_type": "execute_result"
    }
   ],
   "source": [
    "c.transpose() # c 的转置矩阵"
   ]
  },
  {
   "cell_type": "code",
   "execution_count": 40,
   "id": "3ad167dc",
   "metadata": {
    "slideshow": {
     "slide_type": "fragment"
    }
   },
   "outputs": [
    {
     "data": {
      "text/plain": [
       "array([[-3.5,  2.5],\n",
       "       [ 3. , -2. ]])"
      ]
     },
     "execution_count": 40,
     "metadata": {},
     "output_type": "execute_result"
    }
   ],
   "source": [
    "np.linalg.inv(c) # c 的逆矩阵"
   ]
  },
  {
   "cell_type": "code",
   "execution_count": 41,
   "id": "de86d4e1",
   "metadata": {
    "slideshow": {
     "slide_type": "subslide"
    }
   },
   "outputs": [
    {
     "name": "stdout",
     "output_type": "stream",
     "text": [
      "eigenvalues are  [-0.17890835 11.17890835]\n",
      "eigenvectors are [[-0.76729658 -0.57152478]\n",
      " [ 0.64129241 -0.82058481]]\n"
     ]
    }
   ],
   "source": [
    "eigenvalues, eigenvectors = np.linalg.eig(c) # c 的特征值与特征向量\n",
    "print('eigenvalues are ', eigenvalues)\n",
    "print('eigenvectors are', eigenvectors)"
   ]
  },
  {
   "cell_type": "code",
   "execution_count": 42,
   "id": "11a92f3d",
   "metadata": {
    "slideshow": {
     "slide_type": "fragment"
    }
   },
   "outputs": [
    {
     "data": {
      "text/plain": [
       "array([[1., 2.],\n",
       "       [3., 4.]])"
      ]
     },
     "execution_count": 42,
     "metadata": {},
     "output_type": "execute_result"
    }
   ],
   "source": [
    "d = np.array([[1.0, 2.0], [3.0, 4.0]])\n",
    "d"
   ]
  },
  {
   "cell_type": "code",
   "execution_count": 43,
   "id": "d0f5562c",
   "metadata": {
    "slideshow": {
     "slide_type": "fragment"
    }
   },
   "outputs": [
    {
     "data": {
      "text/plain": [
       "array([[19., 28.],\n",
       "       [27., 40.]])"
      ]
     },
     "execution_count": 43,
     "metadata": {},
     "output_type": "execute_result"
    }
   ],
   "source": [
    "np.dot(c, d) # 矩阵 c 和 d 的乘积"
   ]
  },
  {
   "cell_type": "code",
   "execution_count": 44,
   "id": "56a954e3",
   "metadata": {
    "slideshow": {
     "slide_type": "subslide"
    }
   },
   "outputs": [
    {
     "data": {
      "text/plain": [
       "array([[ 4., 10.],\n",
       "       [18., 28.]])"
      ]
     },
     "execution_count": 44,
     "metadata": {},
     "output_type": "execute_result"
    }
   ],
   "source": [
    "np.multiply(c, d) # 矩阵 c 和 d 对应元素相乘"
   ]
  },
  {
   "cell_type": "markdown",
   "id": "0ab32aa9",
   "metadata": {
    "slideshow": {
     "slide_type": "subslide"
    }
   },
   "source": [
    "numpy 库还有一些其他常用的函数，如下表所示：\n",
    "\n",
    "|函数|描述|\n",
    "|:--:|:--:|\n",
    "|np.abs(x)|计算每个元素的绝对值|\n",
    "|np.sqrt(x)|计算每个元素的平方根|\n",
    "|np.squre(x)|计算每个元素的平方|\n",
    "|np.sign(x)|计算每个元素的正负号|\n",
    "|np.ceil(x)|计算每个元素向上取整的数值|\n",
    "|np.floor(x)|计算每个元素向下取整的数值|\n",
    "|np.exp(x)|计算每个元素的指数值|\n",
    "|np.log(x),np.log10(x),np.log2(x)|计算每个元素的自然对数值，基于10、2的对数值|"
   ]
  },
  {
   "cell_type": "markdown",
   "id": "df139cda",
   "metadata": {
    "slideshow": {
     "slide_type": "fragment"
    }
   },
   "source": [
    "另外，Numpy 还有专门的二维数组的类型 Matrix，可以更方便地进行一些矩阵运算，感兴趣的读者可以参见官网。"
   ]
  },
  {
   "cell_type": "markdown",
   "id": "89993edc",
   "metadata": {},
   "source": [
    "## 生成随机数\n",
    "<hr>\n",
    "\n",
    "numpy 包的`random`方法基本支持所有分布，并且能够一次生成多行多列的随机数, 例如："
   ]
  },
  {
   "cell_type": "code",
   "execution_count": 45,
   "id": "3d509090",
   "metadata": {},
   "outputs": [
    {
     "data": {
      "text/plain": [
       "array([[4.93275383, 3.51478805],\n",
       "       [6.91968133, 8.75478504]])"
      ]
     },
     "execution_count": 45,
     "metadata": {},
     "output_type": "execute_result"
    }
   ],
   "source": [
    "import numpy as np\n",
    "\n",
    "np.random.uniform(1, 10, [2,2]) # 生成 [1, 10] 内的均匀分布随机数， 2 行 2 列"
   ]
  },
  {
   "cell_type": "code",
   "execution_count": 46,
   "id": "d1ec01c9",
   "metadata": {},
   "outputs": [
    {
     "data": {
      "text/plain": [
       "array([4.35431437, 6.72196329, 1.52868038, 4.5615047 , 4.96642431])"
      ]
     },
     "execution_count": 46,
     "metadata": {},
     "output_type": "execute_result"
    }
   ],
   "source": [
    "np.random.uniform(1, 10, 5) # 生成 5 个 [1, 10] 内的均匀分布随机数"
   ]
  },
  {
   "cell_type": "code",
   "execution_count": 47,
   "id": "cd09f9a4",
   "metadata": {},
   "outputs": [
    {
     "data": {
      "text/plain": [
       "array([[7, 2],\n",
       "       [3, 4]])"
      ]
     },
     "execution_count": 47,
     "metadata": {},
     "output_type": "execute_result"
    }
   ],
   "source": [
    "np.random.randint(1, 10, [2,2]) # 生成 [1, 10] 内的随机整数， 2 行 2 列"
   ]
  },
  {
   "cell_type": "code",
   "execution_count": 48,
   "id": "fc68fdca",
   "metadata": {},
   "outputs": [
    {
     "data": {
      "text/plain": [
       "array([[4.65317243, 5.31332217],\n",
       "       [5.17795779, 4.45061493]])"
      ]
     },
     "execution_count": 48,
     "metadata": {},
     "output_type": "execute_result"
    }
   ],
   "source": [
    "np.random.normal(5, 1, [2,2]) # 生成一个正态分布的随机数，均值为 5， 标准差为 1， 2 行 2 列"
   ]
  },
  {
   "cell_type": "code",
   "execution_count": 49,
   "id": "168bb719",
   "metadata": {},
   "outputs": [
    {
     "data": {
      "text/plain": [
       "array([[4, 1],\n",
       "       [3, 6]])"
      ]
     },
     "execution_count": 49,
     "metadata": {},
     "output_type": "execute_result"
    }
   ],
   "source": [
    "np.random.poisson(5, [2,2]) # 生成一个泊松分布的随机数，均值为 5， 2 行 2 列"
   ]
  },
  {
   "cell_type": "markdown",
   "id": "105c1387",
   "metadata": {},
   "source": [
    "numpy 还可以通过`random.seed()`参数设定随机数生成器的种子，同样的种子生成的随机数应该是相同的。"
   ]
  },
  {
   "cell_type": "code",
   "execution_count": 50,
   "id": "2db96cd7",
   "metadata": {},
   "outputs": [
    {
     "data": {
      "text/plain": [
       "array([4.62263642, 5.16675892, 5.68280238, 6.92137877, 4.8029632 ,\n",
       "       4.24012124])"
      ]
     },
     "execution_count": 50,
     "metadata": {},
     "output_type": "execute_result"
    }
   ],
   "source": [
    "np.random.seed(500)\n",
    "np.random.normal(5, 1, 6) # 生成 6 个正态分布的随机数，均值为 5， 标准差为 1"
   ]
  },
  {
   "cell_type": "markdown",
   "id": "3bcca3ff",
   "metadata": {},
   "source": [
    "另外 numpy 还可以通过`RandomState()`来定义一个随机数生成器对象，小括号里面的参数为随机数种子，然后用这个对象调用具体的各个随机分布生成器函数。例如："
   ]
  },
  {
   "cell_type": "code",
   "execution_count": 51,
   "id": "dc41938f",
   "metadata": {},
   "outputs": [
    {
     "data": {
      "text/plain": [
       "array([4.62263642, 5.16675892, 5.68280238, 6.92137877, 4.8029632 ,\n",
       "       4.24012124])"
      ]
     },
     "execution_count": 51,
     "metadata": {},
     "output_type": "execute_result"
    }
   ],
   "source": [
    "rvs = np.random.RandomState(500)\n",
    "rvs.normal(5, 1, 6) # 生成 6 个正态分布的随机数，均值为 5， 标准差为 1"
   ]
  },
  {
   "cell_type": "markdown",
   "id": "13328b43",
   "metadata": {},
   "source": [
    "<script src=\"https://giscus.app/client.js\"\n",
    "        data-repo=\"robinchen121/book-Python-Data-Science\"\n",
    "        data-repo-id=\"R_kgDOKFdyOw\"\n",
    "        data-category=\"Announcements\"\n",
    "        data-category-id=\"DIC_kwDOKFdyO84CgWHi\"\n",
    "        data-mapping=\"pathname\"\n",
    "        data-strict=\"0\"\n",
    "        data-reactions-enabled=\"1\"\n",
    "        data-emit-metadata=\"0\"\n",
    "        data-input-position=\"bottom\"\n",
    "        data-theme=\"light\"\n",
    "        data-lang=\"en\"\n",
    "        crossorigin=\"anonymous\"\n",
    "        async>\n",
    "</script>"
   ]
  },
  {
   "cell_type": "markdown",
   "id": "fd65a152",
   "metadata": {},
   "source": [
    "<!-- Toogle google translation -->\n",
    "<div id=\"google_translate_element\"></div>\n",
    "\n",
    "<script type=\"text/javascript\">\n",
    "      function googleTranslateElementInit() {\n",
    "        new google.translate.TranslateElement({ pageLanguage: 'zh-CN',\n",
    "                  includedLanguages: 'en,zh-CN,zh-TW,ja,ko,de,ru,fr,es,it,pt,hi,ar,fa',\n",
    "layout: google.translate.TranslateElement.InlineLayout.SIMPLE }, 'google_translate_element');\n",
    "      }\n",
    "</script>\n",
    "<script type=\"text/javascript\"\n",
    "      src=\"https://translate.google.com/translate_a/element.js?cb=googleTranslateElementInit\"\n",
    "></script>\n",
    "<br>"
   ]
  }
 ],
 "metadata": {
  "celltoolbar": "幻灯片",
  "kernelspec": {
   "display_name": "Python 3 (ipykernel)",
   "language": "python",
   "name": "python3"
  },
  "language_info": {
   "codemirror_mode": {
    "name": "ipython",
    "version": 3
   },
   "file_extension": ".py",
   "mimetype": "text/x-python",
   "name": "python",
   "nbconvert_exporter": "python",
   "pygments_lexer": "ipython3",
   "version": "3.10.9"
  }
 },
 "nbformat": 4,
 "nbformat_minor": 5
}