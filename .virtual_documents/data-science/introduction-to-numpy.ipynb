








import numpy as np





a = np.array([1, 2, 3, 4])
a





b = [[1, 2], [3, 4]]
a = np.array(b)
a








np.zeros((3, 4)) # 3 行 4 列的零矩阵


np.ones((3, 4)) # 3 行 4 列的一矩阵


np.empty((2, 3)) # 2 行 3 列的空矩阵





np.arange(10) # 生成一个从 0 到 9 之间的数组，默认步长为 1


np.arange(5, 10) # 生成一个从 5 到 9 之间的数组，默认步长为 1


np.arange(5, 10, 2) # 生成一个从 5 到 9 之间的数组，且步长为 2





np.linspace(0, 2, 9 ) # 生成从 0 到 2 之间共 9 个数





a = np.arange(10)
list(a)








a = np.ones((2,3))
a.ndim


a.shape


a.size


a.dtype





a = np.arange(4, 10) # 生成一个从 4 到 9 之间的数组
a


a[2] # 数组 a 的第 3 个元素


a[2:4] # 数组 a 的第 3 与第 4 个元素


a[-1] # 数组 a 的最后一个元素


a[:: -1] # 数组 a 倒序





b = np.arange(12).reshape(3,4) # 创建一个 3 行 4 列的二维数组，reshape函数不改变数值，将原数组重组为一个指定行数列数的数组
b


b[1, 2] # 二维数组第 2 行第 3 列中的元素


b[1:3, 2] # 二维数组第 3 列中， 第 2 行到第 3 行的元素


b[2, :] # 第 3 行的全部元素


list(b)





a = np.arange(5)
a


b = np.arange(3)
b


np.append(a, b)





c = np.arange(4)
c


np.concatenate((a, b, c)) # 注意里面还有一对小括号





a = np.arange(4)
a


b = np.arange(3, 7)
b


a - b # 两数组相减


a + b # 两数组相加


a * 2 # 数组每个元素乘以一个数值


a ** 2 # 数组每个元素都平方


a > 2 # 数组每个元素与一个数值比较大小


c = np.array([[4.0, 5.0], [6.0, 7.0]])
c


c.transpose() # c 的转置矩阵


np.linalg.inv(c) # c 的逆矩阵


eigenvalues, eigenvectors = np.linalg.eig(c) # c 的特征值与特征向量
print('eigenvalues are ', eigenvalues)
print('eigenvectors are', eigenvectors)


d = np.array([[1.0, 2.0], [3.0, 4.0]])
d


np.dot(c, d) # 矩阵 c 和 d 的乘积


np.multiply(c, d) # 矩阵 c 和 d 对应元素相乘











import numpy as np

np.random.uniform(1, 10, [2,2]) # 生成 [1, 10] 内的均匀分布随机数， 2 行 2 列


np.random.uniform(1, 10, 5) # 生成 5 个 [1, 10] 内的均匀分布随机数


np.random.randint(1, 10, [2,2]) # 生成 [1, 10] 内的随机整数， 2 行 2 列


np.random.normal(5, 1, [2,2]) # 生成一个正态分布的随机数，均值为 5， 标准差为 1， 2 行 2 列


np.random.poisson(5, [2,2]) # 生成一个泊松分布的随机数，均值为 5， 2 行 2 列





np.random.seed(500)
np.random.normal(5, 1, 6) # 生成 6 个正态分布的随机数，均值为 5， 标准差为 1





rvs = np.random.RandomState(500)
rvs.normal(5, 1, 6) # 生成 6 个正态分布的随机数，均值为 5， 标准差为 1









