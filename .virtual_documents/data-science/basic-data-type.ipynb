














a = 1
a


b = 2.2
b











type(a)


type(b)





float(a) # 将整形数据 a 转化为浮点型数据


int(b) # 将浮点型数据 b 转化为整形数据





1 + 2


20 - 5 * 2


(10 - 5) / 2


9 / 5











8 % 5


3 ** 2


4.5//3











x = 1
x += 3 #与 x = x + 3 等价
print('x = ', x)

y = 2
y *= 3 #与 y = y*3 等价
print('y = ', y)





abs(-2.5)


round(3.4)


round(3.45, 1) # 四舍五入保留一位小数


max(10, 20)


min(10, 20)





import math

math.sin(math.pi/2) # 正弦函数


math.log10(100) # 对数函数








name = "chen"
name


city = 'Beijing'
city





name + city





','.join(['chen', 'zhang', 'li'])  # 将三个字符串用逗号拼接


'-'.join(['2020', '05', '13'])  # 将三个字符串用横线拼接





name = 'chen'
name * 2





name[0] # 0 代表第 1 个索引





name[0:3] # 截取字符串中的一部分，遵循“左闭右开”原则，得到第 1 到第 3 个字符





'c' not in name


'Bei' in city





str(123)


str([1, 2, 3])





str = 'python data science'
str.split()


str = 'python Data Science'
str.lower()





list1 = [34, 10, 25]
list1


list2 = ['chen', 'zhang', 'wang']
list2


list3 = [10, 'wang', 33]
list3





list1[0] # list1 的第 1 个元素


list2[1] # list2 的第 2 个元素


list1[0:2] # “左闭右开”原则，list1 第 1 到第 2 个元素


list1[0:] # list1 第 1 到之后的所有元素


list3 = [4, 7, 8, 9]
list3[1:3:2] # list 从第 2 到第 4，步长为 2的所有元素





 list1[-1] # list1 的倒数第 1 个元素


list2[-2] # list2 的倒数第 2 个元素


list1[::-1] # 两个冒号跟上 -1 表示倒序





list = [21, 16, 30]
list[1] = 10 # 将 list 第 2 个元素更改为 10
list





list = [34, 46, 23]
del list[1]
list





list = [13, 23]
list = list + [21, 65]
list


list * 2


12 in list


12 not in list





a = [[1, 2, 3], [4, 5]]
a





a[1][0]





list = [34, 46, 23]
list.append(3) # 在列表末尾添加一个元素
list


list.insert(1, 10) # 在列表第二个位置添加一个元素 10
list


list.extend([4, 5, 6]) # 将另一个列表（元组类型也可以）添加到该列表末尾
list





a = [1, 2, 3]
a.pop(-1)
print(a)





dict = {'name' : 'chen', 'score' : 95}
dict





dict['name']


dict['score']





dict['major'] = 'economy'
dict





dict['name'] = 'wang'
dict['mark'] = 80
dict





del dict['name']
dict








for i in dict:
    print(i)





for i in dict:
    print(dict[i])





tup = (13, 'zh', 20)
tup[1]


tup[0:2]


tup[0:]





tup = (13, 'zh', 20)
del tup # 完全删除 tup


tup = (23, 45, 21)
tup = tup + (32, 21)
tup


tup * 2


25 in tup


25 not in tup








set1 = {34, 23, 'chen'}
set1


set2 = {12, '34', 10}
set2





set1 = {34, 12, 'chen'}
set2 = {12, 'wang', 10}
set1 - set2


set1 | set2


set1 & set2


set1 ^ set2





set = {13, 45, 67}
set.add(10)
set


set.remove(10)
set


set.update([80, 44])
set


44 in set


44 not in set








10 > 3


3 == 4





a = 3  # 一个等号表示将 a 赋值为 3
a == 4  # 两个等号表示判断 a 是否等于 4





10 > 3 and 3 > 2


10 > 3 and 3 > 4


10 > 3 or 3 > 4


not 3 > 4














import random

random.random() # 没有设置种子，每次运行显示的随机数不一样


random.seed(100)
random.random() # 设置了种子，每次运行显示的随机数相同



















































