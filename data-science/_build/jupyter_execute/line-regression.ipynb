{
 "cells": [
  {
   "cell_type": "markdown",
   "id": "d1d4fd5e",
   "metadata": {
    "slideshow": {
     "slide_type": "slide"
    }
   },
   "source": [
    "# 线性回归"
   ]
  },
  {
   "cell_type": "markdown",
   "id": "720254c8",
   "metadata": {
    "slideshow": {
     "slide_type": "fragment"
    }
   },
   "source": [
    "使用 Python 做线性回归分析有好几种方式，常见的是用`statsmodels`包或者`sklearn`包。"
   ]
  },
  {
   "cell_type": "markdown",
   "id": "0de4e90e",
   "metadata": {
    "slideshow": {
     "slide_type": "subslide"
    }
   },
   "source": [
    "假设有下面的数据存储在 excel 文件 line_regression.xlsx 中：\n",
    "\n",
    "| 不良贷款  | 各项贷款余额 | 本年累计应收贷款 | 贷款项目个数 | 本年固定资产投资额 |\n",
    "|-------|--------|----------|--------|-----------|\n",
    "| 0\\.9  | 67\\.3  | 6\\.8     | 5      | 51\\.9     |\n",
    "| 1\\.1  | 111\\.3 | 19\\.8    | 16     | 90\\.9     |\n",
    "| 4\\.8  | 173\\.0 | 7\\.7     | 17     | 73\\.7     |\n",
    "| 3\\.2  | 80\\.8  | 7\\.2     | 10     | 14\\.5     |\n",
    "| 7\\.8  | 199\\.7 | 16\\.5    | 19     | 63\\.2     |\n",
    "| 2\\.7  | 16\\.2  | 2\\.2     | 1      | 2\\.2      |\n",
    "| 1\\.6  | 107\\.4 | 10\\.7    | 17     | 20\\.2     |\n",
    "| 12\\.5 | 185\\.4 | 27\\.1    | 18     | 43\\.8     |\n",
    "| 1\\.0  | 96\\.1  | 1\\.7     | 10     | 55\\.9     |\n",
    "| 2\\.6  | 72\\.8  | 9\\.1     | 14     | 64\\.3     |\n",
    "| 0\\.3  | 64\\.2  | 2\\.1     | 11     | 42\\.7     |\n",
    "| 4\\.0  | 132\\.2 | 11\\.2    | 23     | 76\\.7     |\n",
    "| 0\\.8  | 58\\.6  | 6\\.0     | 14     | 22\\.8     |\n",
    "| 3\\.5  | 174\\.6 | 12\\.7    | 26     | 117\\.1    |\n",
    "| 10\\.2 | 263\\.5 | 15\\.6    | 34     | 146\\.7    |\n",
    "| 3\\.0  | 79\\.3  | 8\\.9     | 15     | 29\\.9     |\n",
    "| 0\\.2  | 14\\.8  | 0\\.6     | 2      | 42\\.1     |\n",
    "| 0\\.4  | 73\\.5  | 5\\.9     | 11     | 25\\.3     |\n",
    "| 1\\.0  | 24\\.7  | 5\\.0     | 4      | 13\\.4     |\n",
    "| 6\\.8  | 139\\.4 | 7\\.2     | 28     | 64\\.3     |\n",
    "| 11\\.6 | 368\\.2 | 16\\.8    | 32     | 163\\.9    |\n",
    "| 1\\.6  | 95\\.7  | 3\\.8     | 10     | 44\\.5     |\n",
    "| 1\\.2  | 109\\.6 | 10\\.3    | 14     | 67\\.9     |\n",
    "| 7\\.2  | 196\\.2 | 15\\.8    | 16     | 39\\.7     |\n",
    "| 3\\.2  | 102\\.2 | 12\\.0    | 10     | 97\\.1     |"
   ]
  },
  {
   "cell_type": "markdown",
   "id": "b8aaa899",
   "metadata": {},
   "source": [
    "首先使用 pandas 读取 excel 数据："
   ]
  },
  {
   "cell_type": "code",
   "execution_count": 1,
   "id": "fba8382a",
   "metadata": {},
   "outputs": [],
   "source": [
    "import pandas as pd\n",
    "\n",
    "# 读取 excel 数据，引号里面是 excel 文件在电脑的存储位置\n",
    "datas = pd.read_excel('datas\\linear_regression.xlsx')"
   ]
  },
  {
   "cell_type": "code",
   "execution_count": 2,
   "id": "c588d022",
   "metadata": {},
   "outputs": [
    {
     "data": {
      "text/html": [
       "<div>\n",
       "<style scoped>\n",
       "    .dataframe tbody tr th:only-of-type {\n",
       "        vertical-align: middle;\n",
       "    }\n",
       "\n",
       "    .dataframe tbody tr th {\n",
       "        vertical-align: top;\n",
       "    }\n",
       "\n",
       "    .dataframe thead th {\n",
       "        text-align: right;\n",
       "    }\n",
       "</style>\n",
       "<table border=\"1\" class=\"dataframe\">\n",
       "  <thead>\n",
       "    <tr style=\"text-align: right;\">\n",
       "      <th></th>\n",
       "      <th>不良贷款</th>\n",
       "      <th>各项贷款余额</th>\n",
       "      <th>本年累计应收贷款</th>\n",
       "      <th>贷款项目个数</th>\n",
       "      <th>本年固定资产投资额</th>\n",
       "    </tr>\n",
       "  </thead>\n",
       "  <tbody>\n",
       "    <tr>\n",
       "      <th>0</th>\n",
       "      <td>0.9</td>\n",
       "      <td>67.3</td>\n",
       "      <td>6.8</td>\n",
       "      <td>5</td>\n",
       "      <td>51.9</td>\n",
       "    </tr>\n",
       "    <tr>\n",
       "      <th>1</th>\n",
       "      <td>1.1</td>\n",
       "      <td>111.3</td>\n",
       "      <td>19.8</td>\n",
       "      <td>16</td>\n",
       "      <td>90.9</td>\n",
       "    </tr>\n",
       "    <tr>\n",
       "      <th>2</th>\n",
       "      <td>4.8</td>\n",
       "      <td>173.0</td>\n",
       "      <td>7.7</td>\n",
       "      <td>17</td>\n",
       "      <td>73.7</td>\n",
       "    </tr>\n",
       "    <tr>\n",
       "      <th>3</th>\n",
       "      <td>3.2</td>\n",
       "      <td>80.8</td>\n",
       "      <td>7.2</td>\n",
       "      <td>10</td>\n",
       "      <td>14.5</td>\n",
       "    </tr>\n",
       "    <tr>\n",
       "      <th>4</th>\n",
       "      <td>7.8</td>\n",
       "      <td>199.7</td>\n",
       "      <td>16.5</td>\n",
       "      <td>19</td>\n",
       "      <td>63.2</td>\n",
       "    </tr>\n",
       "  </tbody>\n",
       "</table>\n",
       "</div>"
      ],
      "text/plain": [
       "   不良贷款  各项贷款余额  本年累计应收贷款  贷款项目个数  本年固定资产投资额\n",
       "0   0.9    67.3       6.8       5       51.9\n",
       "1   1.1   111.3      19.8      16       90.9\n",
       "2   4.8   173.0       7.7      17       73.7\n",
       "3   3.2    80.8       7.2      10       14.5\n",
       "4   7.8   199.7      16.5      19       63.2"
      ]
     },
     "execution_count": 2,
     "metadata": {},
     "output_type": "execute_result"
    }
   ],
   "source": [
    "datas.head()"
   ]
  },
  {
   "cell_type": "markdown",
   "id": "2c2fb41d",
   "metadata": {},
   "source": [
    "## `statsmodels` 做线性回归"
   ]
  },
  {
   "cell_type": "markdown",
   "id": "d625e4c2",
   "metadata": {},
   "source": [
    "完整代码如下："
   ]
  },
  {
   "cell_type": "code",
   "execution_count": 3,
   "id": "b8c3789a",
   "metadata": {},
   "outputs": [
    {
     "name": "stdout",
     "output_type": "stream",
     "text": [
      "                            OLS Regression Results                            \n",
      "==============================================================================\n",
      "Dep. Variable:                 各项贷款余额   R-squared:                       0.461\n",
      "Model:                            OLS   Adj. R-squared:                  0.437\n",
      "Method:                 Least Squares   F-statistic:                     19.65\n",
      "Date:                Wed, 01 Nov 2023   Prob (F-statistic):           0.000191\n",
      "Time:                        10:58:15   Log-Likelihood:                -136.90\n",
      "No. Observations:                  25   AIC:                             277.8\n",
      "Df Residuals:                      23   BIC:                             280.2\n",
      "Df Model:                           1                                         \n",
      "Covariance Type:            nonrobust                                         \n",
      "==============================================================================\n",
      "                 coef    std err          t      P>|t|      [0.025      0.975]\n",
      "------------------------------------------------------------------------------\n",
      "const         36.6902     22.378      1.640      0.115      -9.603      82.983\n",
      "本年累计应收贷款       8.6092      1.942      4.433      0.000       4.592      12.627\n",
      "==============================================================================\n",
      "Omnibus:                       12.343   Durbin-Watson:                   1.987\n",
      "Prob(Omnibus):                  0.002   Jarque-Bera (JB):               11.774\n",
      "Skew:                           1.224   Prob(JB):                      0.00278\n",
      "Kurtosis:                       5.305   Cond. No.                         21.5\n",
      "==============================================================================\n",
      "\n",
      "Notes:\n",
      "[1] Standard Errors assume that the covariance matrix of the errors is correctly specified.\n"
     ]
    },
    {
     "data": {
      "image/png": "[encoded data removed]",
      "text/plain": [
       "<Figure size 640x480 with 1 Axes>"
      ]
     },
     "metadata": {},
     "output_type": "display_data"
    }
   ],
   "source": [
    "import pandas as pd\n",
    "import statsmodels.api as sm\n",
    "import matplotlib.pyplot as plt\n",
    "\n",
    "datas = pd.read_excel(r'datas\\linear_regression.xlsx') # 读取 excel 数据，引号里面是 excel 文件的位置\n",
    "y = datas.iloc[:, 1] # 因变量为第 2 列数据\n",
    "x = datas.iloc[:, 2] # 自变量为第 3 列数据\n",
    "x = sm.add_constant(x) # 若模型中有截距，必须有这一步\n",
    "model = sm.OLS(y, x).fit() # 构建最小二乘模型并拟合\n",
    "print(model.summary()) # 输出回归结果\n",
    "\n",
    "# 画图\n",
    "# 这两行代码在画图时添加中文必须用\n",
    "plt.rcParams['font.sans-serif'] = ['SimHei']\n",
    "plt.rcParams['axes.unicode_minus'] = False\n",
    "\n",
    "predicts = model.predict() # 模型的预测值\n",
    "x = datas.iloc[:, 2] # 自变量为第 3 列数据\n",
    "plt.scatter(x, y, label='实际值') # 散点图\n",
    "plt.plot(x, predicts, color = 'red', label='预测值')\n",
    "plt.legend() # 显示图例，即每条线对应 label 中的内容\n",
    "plt.show() # 显示图形"
   ]
  },
  {
   "cell_type": "code",
   "execution_count": null,
   "id": "d7410cf2",
   "metadata": {},
   "outputs": [],
   "source": []
  }
 ],
 "metadata": {
  "celltoolbar": "幻灯片",
  "kernelspec": {
   "display_name": "Python 3 (ipykernel)",
   "language": "python",
   "name": "python3"
  },
  "language_info": {
   "codemirror_mode": {
    "name": "ipython",
    "version": 3
   },
   "file_extension": ".py",
   "mimetype": "text/x-python",
   "name": "python",
   "nbconvert_exporter": "python",
   "pygments_lexer": "ipython3",
   "version": "3.11.4"
  }
 },
 "nbformat": 4,
 "nbformat_minor": 5
}