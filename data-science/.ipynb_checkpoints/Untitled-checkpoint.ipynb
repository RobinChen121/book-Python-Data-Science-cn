{
 "cells": [
  {
   "cell_type": "markdown",
   "id": "c650c30d",
   "metadata": {},
   "source": [
    "# Python 爬虫入门\n",
    "\n",
    "Python 的爬虫功能使得程序员可以快速抓取并分析网页中的信息，本章主要介绍三个爬虫相关的库`requests`，`beautifulsoup`, `selenium`。"
   ]
  },
  {
   "cell_type": "markdown",
   "id": "ea5205ee",
   "metadata": {},
   "source": [
    "## `requests` 库"
   ]
  },
  {
   "cell_type": "code",
   "execution_count": null,
   "id": "758da34a",
   "metadata": {},
   "outputs": [],
   "source": []
  }
 ],
 "metadata": {
  "kernelspec": {
   "display_name": "Python 3 (ipykernel)",
   "language": "python",
   "name": "python3"
  },
  "language_info": {
   "codemirror_mode": {
    "name": "ipython",
    "version": 3
   },
   "file_extension": ".py",
   "mimetype": "text/x-python",
   "name": "python",
   "nbconvert_exporter": "python",
   "pygments_lexer": "ipython3",
   "version": "3.11.4"
  }
 },
 "nbformat": 4,
 "nbformat_minor": 5
}
