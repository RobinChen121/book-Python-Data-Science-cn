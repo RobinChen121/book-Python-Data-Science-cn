{
 "cells": [
  {
   "cell_type": "markdown",
   "id": "88b4c035",
   "metadata": {},
   "source": [
    "# Python 并行计算\n",
    "<hr>"
   ]
  },
  {
   "cell_type": "markdown",
   "id": "517179c9",
   "metadata": {},
   "source": [
    "在进入并行计算前，我们首先需要了解一下一些计算机操作系统的知识。"
   ]
  },
  {
   "cell_type": "markdown",
   "id": "810abae1",
   "metadata": {},
   "source": [
    "## 进程与线程\n",
    "<hr>"
   ]
  },
  {
   "cell_type": "markdown",
   "id": "4738ad73-b051-4421-addf-676f8c24ceb0",
   "metadata": {},
   "source": [
    "- **进程**是一个程序的运行实例，每个进程有独立的内存空间，**相互隔离**，不会直接共享数据。\n",
    "- **线程**是进程内部的一个执行单元，一个进程可以有多个线程，它们**共享同一个进程的内存**。"
   ]
  },
  {
   "cell_type": "markdown",
   "id": "071cc335-aa9c-4b0d-b72a-7a22700a5185",
   "metadata": {},
   "source": [
    "现代浏览器（如 Chrome）普遍采用多进程架构，打开一些网页时，可能包含多个进程：\n",
    "\n",
    "- 主进程：管理 UI、窗口、用户输入等。\n",
    "- 渲染进程：负责渲染网页（HTML、CSS、JavaScript），通常每个标签页一个渲染进程。\n",
    "- 插件进程：用于运行 Flash、PDF 之类的插件。\n",
    "- GPU 进程：负责 GPU 加速绘图。"
   ]
  },
  {
   "cell_type": "markdown",
   "id": "0805edb1-a2ea-4390-b978-7ccb1a508412",
   "metadata": {},
   "source": [
    "当我们打开两个网页时，浏览器运行的进程结构如下："
   ]
  },
  {
   "cell_type": "markdown",
   "id": "c35e44d4-1171-44db-a6a9-ef39daf26d62",
   "metadata": {},
   "source": [
    "```\n",
    "├── 浏览器主进程\n",
    "├── 渲染进程（网页A）\n",
    "├── 渲染进程（网页B）\n",
    "├── GPU 进程\n",
    "├── 插件进程\n",
    "```\n"
   ]
  },
  {
   "cell_type": "markdown",
   "id": "906516ed-98f8-4f48-9a50-9580310f8b76",
   "metadata": {},
   "source": [
    "进程的特点是：\n",
    "\n",
    "- 进程之间相互隔离，例如一个网页崩溃不会影响其他网页。\n",
    "- 进程有独立的内存空间，所以更安全，但开销较大（占用更多内存）。"
   ]
  },
  {
   "cell_type": "markdown",
   "id": "d989e956-7b12-4dd1-962c-2238a31a69c5",
   "metadata": {},
   "source": [
    "在浏览器的渲染进程中，负责执行 JavaScript、渲染页面的任务实际上是由多个线程完成的：\n",
    "- 主线程（Main Thread）：执行 JavaScript、解析 HTML、CSS、布局计算、渲染等。\n",
    "- 工作线程（Worker Thread）：通过 Web Worker 执行耗时任务（如数据处理），避免阻塞主线程。\n",
    "- 网络线程：负责处理 HTTP 请求、下载资源。\n",
    "- GPU 线程：处理页面渲染加速。"
   ]
  },
  {
   "cell_type": "markdown",
   "id": "341fe621-77d1-4eeb-82b6-16f1423db41c",
   "metadata": {},
   "source": [
    "其中，渲染进程的线程结构如下\n",
    "```\n",
    "渲染进程（网页A）\n",
    "├── 主线程（执行 JavaScript、渲染页面）\n",
    "├── 工作线程（Web Worker 处理数据）\n",
    "├── 网络线程（加载图片、请求 API）\n",
    "├── GPU 线程（处理绘图）\n",
    "```"
   ]
  },
  {
   "cell_type": "markdown",
   "id": "cf352d12-40f4-467c-aea2-ce2736f7007b",
   "metadata": {},
   "source": [
    "线程的特点：\n",
    "\n",
    "- 线程共享同一个进程的内存，可以快速通信，但可能会引起数据竞争问题（需要同步）。\n",
    "- 线程的开销比进程小，但如果主线程被阻塞，其他线程可能受影响，例如整个网页可能会卡死。"
   ]
  },
  {
   "cell_type": "markdown",
   "id": "998ec1b9-0f62-4858-ab97-4131b4a12970",
   "metadata": {},
   "source": [
    "下面这个例子显著地描述了进程与线程的区别。"
   ]
  },
  {
   "cell_type": "markdown",
   "id": "f051b4e8-daa0-4b54-bec9-6d2573b0bdde",
   "metadata": {},
   "source": [
    "- 进程 = 一家餐厅，每个进程是一个独立的厨房\n",
    "    - 每个厨房（进程）都独立工作，互不影响，即使一个厨房着火（崩溃），其他厨房还能正常运作。\n",
    "- 线程 = 厨房里的厨师\n",
    "    - 一个厨房（进程）里有多个厨师（线程），他们共享同一套厨房用具（内存）。\n",
    "    - 如果厨师合作良好，出餐效率高；但如果一个厨师卡住（主线程阻塞），整个厨房可能会停滞。"
   ]
  },
  {
   "cell_type": "markdown",
   "id": "45cace3f-ff62-40e4-a560-1d7127f23bd5",
   "metadata": {},
   "source": [
<<<<<<< Updated upstream
    "## multirpocess 包"
=======
    "## multirpocess 包\n",
    "<hr>"
>>>>>>> Stashed changes
   ]
  },
  {
   "cell_type": "code",
   "execution_count": null,
   "id": "e443aed7-c9b1-4138-8eb8-7ac4858ee576",
   "metadata": {},
   "outputs": [],
   "source": []
  },
  {
   "cell_type": "markdown",
   "id": "ff1e1508",
   "metadata": {},
   "source": [
    "<script src=\"https://giscus.app/client.js\"\n",
    "        data-repo=\"robinchen121/book-Python-Data-Science\"\n",
    "        data-repo-id=\"R_kgDOKFdyOw\"\n",
    "        data-category=\"Announcements\"\n",
    "        data-category-id=\"DIC_kwDOKFdyO84CgWHi\"\n",
    "        data-mapping=\"pathname\"\n",
    "        data-strict=\"0\"\n",
    "        data-reactions-enabled=\"1\"\n",
    "        data-emit-metadata=\"0\"\n",
    "        data-input-position=\"bottom\"\n",
    "        data-theme=\"light\"\n",
    "        data-lang=\"en\"\n",
    "        crossorigin=\"anonymous\"\n",
    "        async>\n",
    "</script>"
   ]
  },
  {
   "cell_type": "markdown",
   "id": "4060a1c0",
   "metadata": {},
   "source": [
    "<!-- Toogle google translation -->\n",
    "<div id=\"google_translate_element\"></div>\n",
    "<script type=\"text/javascript\">\n",
    "      function googleTranslateElementInit() {\n",
    "        new google.translate.TranslateElement({ pageLanguage: 'zh-CN',\n",
    "                  includedLanguages: 'en,zh-CN,zh-TW,ja,ko,de,ru,fr,es,it,pt,hi,ar,fa',\n",
    "layout: google.translate.TranslateElement.InlineLayout.SIMPLE }, 'google_translate_element');\n",
    "      }\n",
    "</script>\n",
    "<script type=\"text/javascript\"\n",
    "      src=\"https://translate.google.com/translate_a/element.js?cb=googleTranslateElementInit\"\n",
    "></script>\n",
    "<br>"
   ]
  }
 ],
 "metadata": {
  "kernelspec": {
   "display_name": "Python 3 (ipykernel)",
   "language": "python",
   "name": "python3"
  },
  "language_info": {
   "codemirror_mode": {
    "name": "ipython",
    "version": 3
   },
   "file_extension": ".py",
   "mimetype": "text/x-python",
   "name": "python",
   "nbconvert_exporter": "python",
   "pygments_lexer": "ipython3",
   "version": "3.10.9"
  }
 },
 "nbformat": 4,
 "nbformat_minor": 5
}
