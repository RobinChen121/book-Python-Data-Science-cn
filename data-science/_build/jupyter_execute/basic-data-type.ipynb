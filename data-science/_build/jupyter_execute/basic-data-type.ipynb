{
 "cells": [
  {
   "cell_type": "markdown",
   "id": "b2182dbe",
   "metadata": {
    "slideshow": {
     "slide_type": "slide"
    }
   },
   "source": [
    "# Python 的常用数据类型\n",
    "<hr>"
   ]
  },
  {
   "cell_type": "markdown",
   "id": "5ed7d166",
   "metadata": {},
   "source": [
    "Python 的常用数据类型包括数字，字符串，列表，字典等。"
   ]
  },
  {
   "cell_type": "markdown",
   "id": "20bbc8dd",
   "metadata": {},
   "source": [
    "## 数字类型: 整数型，浮点型\n",
    "<hr>"
   ]
  },
  {
   "cell_type": "code",
   "execution_count": 1,
   "id": "4ecc902a",
   "metadata": {
    "slideshow": {
     "slide_type": "fragment"
    }
   },
   "outputs": [
    {
     "data": {
      "text/plain": [
       "1"
      ]
     },
     "execution_count": 1,
     "metadata": {},
     "output_type": "execute_result"
    }
   ],
   "source": [
    "a = 1\n",
    "a"
   ]
  },
  {
   "cell_type": "code",
   "execution_count": 2,
   "id": "8cff8309",
   "metadata": {
    "slideshow": {
     "slide_type": "fragment"
    }
   },
   "outputs": [
    {
     "data": {
      "text/plain": [
       "2.2"
      ]
     },
     "execution_count": 2,
     "metadata": {},
     "output_type": "execute_result"
    }
   ],
   "source": [
    "b = 2.2\n",
    "b"
   ]
  },
  {
   "cell_type": "markdown",
   "id": "f40d182f",
   "metadata": {
    "slideshow": {
     "slide_type": "fragment"
    }
   },
   "source": [
    "在上面的这段代码中，定义了一个数字型变量 a，并将其赋值为 1；定义了一个浮点型变量 b，并将其赋值为 2.2。\n",
    "\n",
    "Python 并不像其他的一些编程语言那样需要明确数字的细分类型：整数型（int），浮点型（float）等。Python 可以自己判断数字类型，例如在上面的代码中，由于 a 没有小数点，Python 认为 a 是整数型，b 带了小数点，Python 认为 b 是浮点型。\n",
    "\n",
    "我们可以利用 type 函数检验下："
   ]
  },
  {
   "cell_type": "code",
   "execution_count": 3,
   "id": "70166e84",
   "metadata": {
    "slideshow": {
     "slide_type": "subslide"
    }
   },
   "outputs": [
    {
     "data": {
      "text/plain": [
       "int"
      ]
     },
     "execution_count": 3,
     "metadata": {},
     "output_type": "execute_result"
    }
   ],
   "source": [
    "type(a)"
   ]
  },
  {
   "cell_type": "code",
   "execution_count": 4,
   "id": "7ebb68df",
   "metadata": {
    "slideshow": {
     "slide_type": "fragment"
    }
   },
   "outputs": [
    {
     "data": {
      "text/plain": [
       "float"
      ]
     },
     "execution_count": 4,
     "metadata": {},
     "output_type": "execute_result"
    }
   ],
   "source": [
    "type(b)"
   ]
  },
  {
   "cell_type": "markdown",
   "id": "36cdf0db",
   "metadata": {
    "slideshow": {
     "slide_type": "subslide"
    }
   },
   "source": [
    "Python 中数字类型的互换也非常方便，只需要将数据类型作为函数名即可，如下面代码："
   ]
  },
  {
   "cell_type": "code",
   "execution_count": 5,
   "id": "3fed5892",
   "metadata": {
    "slideshow": {
     "slide_type": "fragment"
    }
   },
   "outputs": [
    {
     "data": {
      "text/plain": [
       "1.0"
      ]
     },
     "execution_count": 5,
     "metadata": {},
     "output_type": "execute_result"
    }
   ],
   "source": [
    "float(a) # 将整形数据 a 转化为浮点型数据"
   ]
  },
  {
   "cell_type": "code",
   "execution_count": 6,
   "id": "9138a49a",
   "metadata": {
    "slideshow": {
     "slide_type": "fragment"
    }
   },
   "outputs": [
    {
     "data": {
      "text/plain": [
       "2"
      ]
     },
     "execution_count": 6,
     "metadata": {},
     "output_type": "execute_result"
    }
   ],
   "source": [
    "int(b) # 将浮点型数据 b 转化为整形数据"
   ]
  },
  {
   "cell_type": "markdown",
   "id": "869c3216",
   "metadata": {
    "slideshow": {
     "slide_type": "subslide"
    }
   },
   "source": [
    "对于四则运算：加减乘除，则用 + - * / () 符号直接输入即可："
   ]
  },
  {
   "cell_type": "code",
   "execution_count": 7,
   "id": "95065355",
   "metadata": {
    "slideshow": {
     "slide_type": "fragment"
    }
   },
   "outputs": [
    {
     "data": {
      "text/plain": [
       "3"
      ]
     },
     "execution_count": 7,
     "metadata": {},
     "output_type": "execute_result"
    }
   ],
   "source": [
    "1 + 2"
   ]
  },
  {
   "cell_type": "code",
   "execution_count": 8,
   "id": "df7a65d6",
   "metadata": {
    "slideshow": {
     "slide_type": "fragment"
    }
   },
   "outputs": [
    {
     "data": {
      "text/plain": [
       "10"
      ]
     },
     "execution_count": 8,
     "metadata": {},
     "output_type": "execute_result"
    }
   ],
   "source": [
    "20 - 5 * 2"
   ]
  },
  {
   "cell_type": "code",
   "execution_count": 9,
   "id": "27a5ddbd",
   "metadata": {
    "slideshow": {
     "slide_type": "fragment"
    }
   },
   "outputs": [
    {
     "data": {
      "text/plain": [
       "2.5"
      ]
     },
     "execution_count": 9,
     "metadata": {},
     "output_type": "execute_result"
    }
   ],
   "source": [
    "(10 - 5) / 2"
   ]
  },
  {
   "cell_type": "code",
   "execution_count": 10,
   "id": "d72f5b1d",
   "metadata": {
    "slideshow": {
     "slide_type": "fragment"
    }
   },
   "outputs": [
    {
     "data": {
      "text/plain": [
       "1.8"
      ]
     },
     "execution_count": 10,
     "metadata": {},
     "output_type": "execute_result"
    }
   ],
   "source": [
    "9 / 5"
   ]
  },
  {
   "cell_type": "markdown",
   "id": "beaedc10",
   "metadata": {
    "slideshow": {
     "slide_type": "subslide"
    }
   },
   "source": [
    "数字类型之间的相互运算的所生成的结果是“更宽”的数字类型：\n",
    "\n"
   ]
  },
  {
   "cell_type": "markdown",
   "id": "87e13e4b",
   "metadata": {
    "slideshow": {
     "slide_type": "fragment"
    }
   },
   "source": [
    "- 整数之间运算，如果数学意义上的结果是小数，结果是浮点数\n",
    "- 整数之间运算，如果数学意义上的结果是整数，结果是整数\n",
    "- 整数和浮点数的混合运算，输出结果是浮点数"
   ]
  },
  {
   "cell_type": "markdown",
   "id": "0a0ca6b0",
   "metadata": {
    "slideshow": {
     "slide_type": "subslide"
    }
   },
   "source": [
    "求余数用百分号`%`，幂运算用两个星号`**`，两个数的整数商用符号 `//`，例如："
   ]
  },
  {
   "cell_type": "code",
   "execution_count": 11,
   "id": "2e612364",
   "metadata": {
    "slideshow": {
     "slide_type": "fragment"
    }
   },
   "outputs": [
    {
     "data": {
      "text/plain": [
       "3"
      ]
     },
     "execution_count": 11,
     "metadata": {},
     "output_type": "execute_result"
    }
   ],
   "source": [
    "8 % 5"
   ]
  },
  {
   "cell_type": "code",
   "execution_count": 12,
   "id": "fd5bbd47",
   "metadata": {
    "slideshow": {
     "slide_type": "fragment"
    }
   },
   "outputs": [
    {
     "data": {
      "text/plain": [
       "9"
      ]
     },
     "execution_count": 12,
     "metadata": {},
     "output_type": "execute_result"
    }
   ],
   "source": [
    "3 ** 2"
   ]
  },
  {
   "cell_type": "code",
   "execution_count": 13,
   "id": "a2cdc5b1",
   "metadata": {
    "slideshow": {
     "slide_type": "fragment"
    }
   },
   "outputs": [
    {
     "data": {
      "text/plain": [
       "1.0"
      ]
     },
     "execution_count": 13,
     "metadata": {},
     "output_type": "execute_result"
    }
   ],
   "source": [
    "4.5//3"
   ]
  },
  {
   "cell_type": "markdown",
   "id": "c2d7b37b",
   "metadata": {
    "slideshow": {
     "slide_type": "subslide"
    }
   },
   "source": [
    "等号`=`结合其他运算符号(operator)，Python 能够实现快速赋值操作："
   ]
  },
  {
   "cell_type": "markdown",
   "id": "d90297ce",
   "metadata": {
    "slideshow": {
     "slide_type": "fragment"
    }
   },
   "source": [
    "x operator= y 等价于 x = x operator y"
   ]
  },
  {
   "cell_type": "markdown",
   "id": "efd72905",
   "metadata": {
    "slideshow": {
     "slide_type": "fragment"
    }
   },
   "source": [
    "例如："
   ]
  },
  {
   "cell_type": "code",
   "execution_count": 14,
   "id": "26714c3a",
   "metadata": {
    "slideshow": {
     "slide_type": "fragment"
    }
   },
   "outputs": [
    {
     "name": "stdout",
     "output_type": "stream",
     "text": [
      "x =  4\n",
      "y =  6\n"
     ]
    }
   ],
   "source": [
    "x = 1\n",
    "x += 3 #与 x = x + 3 等价\n",
    "print('x = ', x)\n",
    "\n",
    "y = 2\n",
    "y *= 3 #与 y = y*3 等价\n",
    "print('y = ', y)"
   ]
  },
  {
   "cell_type": "markdown",
   "id": "c7c6c713",
   "metadata": {
    "slideshow": {
     "slide_type": "subslide"
    }
   },
   "source": [
    "Python 对数字类型还有一些其他内置函数，例如求绝对值用函数``abs``，四舍五入函数用``round``，求最大值函数``max``，求最小值函数``min``："
   ]
  },
  {
   "cell_type": "code",
   "execution_count": 15,
   "id": "c5390af5",
   "metadata": {
    "slideshow": {
     "slide_type": "fragment"
    }
   },
   "outputs": [
    {
     "data": {
      "text/plain": [
       "2.5"
      ]
     },
     "execution_count": 15,
     "metadata": {},
     "output_type": "execute_result"
    }
   ],
   "source": [
    "abs(-2.5)"
   ]
  },
  {
   "cell_type": "code",
   "execution_count": 16,
   "id": "db02d491",
   "metadata": {
    "slideshow": {
     "slide_type": "fragment"
    }
   },
   "outputs": [
    {
     "data": {
      "text/plain": [
       "3"
      ]
     },
     "execution_count": 16,
     "metadata": {},
     "output_type": "execute_result"
    }
   ],
   "source": [
    "round(3.4)"
   ]
  },
  {
   "cell_type": "code",
   "execution_count": 17,
   "id": "4036e285",
   "metadata": {
    "slideshow": {
     "slide_type": "fragment"
    }
   },
   "outputs": [
    {
     "data": {
      "text/plain": [
       "3.5"
      ]
     },
     "execution_count": 17,
     "metadata": {},
     "output_type": "execute_result"
    }
   ],
   "source": [
    "round(3.45, 1) # 四舍五入保留一位小数"
   ]
  },
  {
   "cell_type": "code",
   "execution_count": 18,
   "id": "2de824e8",
   "metadata": {
    "slideshow": {
     "slide_type": "subslide"
    }
   },
   "outputs": [
    {
     "data": {
      "text/plain": [
       "20"
      ]
     },
     "execution_count": 18,
     "metadata": {},
     "output_type": "execute_result"
    }
   ],
   "source": [
    "max(10, 20)"
   ]
  },
  {
   "cell_type": "code",
   "execution_count": 19,
   "id": "224fbf2c",
   "metadata": {
    "slideshow": {
     "slide_type": "fragment"
    }
   },
   "outputs": [
    {
     "data": {
      "text/plain": [
       "10"
      ]
     },
     "execution_count": 19,
     "metadata": {},
     "output_type": "execute_result"
    }
   ],
   "source": [
    "min(10, 20)"
   ]
  },
  {
   "cell_type": "markdown",
   "id": "f7339256",
   "metadata": {
    "slideshow": {
     "slide_type": "subslide"
    }
   },
   "source": [
    "更复杂的数学运算需要调用数学包``math``，例如："
   ]
  },
  {
   "cell_type": "code",
   "execution_count": 20,
   "id": "12b9a843",
   "metadata": {
    "slideshow": {
     "slide_type": "fragment"
    }
   },
   "outputs": [
    {
     "data": {
      "text/plain": [
       "1.0"
      ]
     },
     "execution_count": 20,
     "metadata": {},
     "output_type": "execute_result"
    }
   ],
   "source": [
    "import math\n",
    "\n",
    "math.sin(math.pi/2) # 正弦函数"
   ]
  },
  {
   "cell_type": "code",
   "execution_count": 21,
   "id": "b4e62ced",
   "metadata": {
    "slideshow": {
     "slide_type": "fragment"
    }
   },
   "outputs": [
    {
     "data": {
      "text/plain": [
       "2.0"
      ]
     },
     "execution_count": 21,
     "metadata": {},
     "output_type": "execute_result"
    }
   ],
   "source": [
    "math.log10(100) # 对数函数"
   ]
  },
  {
   "cell_type": "markdown",
   "id": "4958909b",
   "metadata": {
    "slideshow": {
     "slide_type": "fragment"
    }
   },
   "source": [
    "第一行代码调用 math 中的 sin 函数求 $sin(\\pi/2)$，其中调用了 math 中的 pi 函数表示 $\\pi$，第二行代码调用了对数函数求 $\\ln(100)$。"
   ]
  },
  {
   "cell_type": "markdown",
   "id": "ada5f997",
   "metadata": {
    "slideshow": {
     "slide_type": "slide"
    }
   },
   "source": [
    "## 字符串类型\n",
    "<hr>\n",
    "\n",
    "字符串也是 Python 中比较常见的数据类型，可以用单引号或双引号表示字符串。例如："
   ]
  },
  {
   "cell_type": "code",
   "execution_count": 22,
   "id": "d76f4e74",
   "metadata": {
    "slideshow": {
     "slide_type": "fragment"
    }
   },
   "outputs": [
    {
     "data": {
      "text/plain": [
       "'chen'"
      ]
     },
     "execution_count": 22,
     "metadata": {},
     "output_type": "execute_result"
    }
   ],
   "source": [
    "name = \"chen\"\n",
    "name"
   ]
  },
  {
   "cell_type": "code",
   "execution_count": 23,
   "id": "6b622017",
   "metadata": {
    "slideshow": {
     "slide_type": "fragment"
    }
   },
   "outputs": [
    {
     "data": {
      "text/plain": [
       "'Beijing'"
      ]
     },
     "execution_count": 23,
     "metadata": {},
     "output_type": "execute_result"
    }
   ],
   "source": [
    "city = 'Beijing'\n",
    "city"
   ]
  },
  {
   "cell_type": "markdown",
   "id": "0bf0bc8b",
   "metadata": {
    "slideshow": {
     "slide_type": "subslide"
    }
   },
   "source": [
    "字符串的拼接直接用加号 + 即可："
   ]
  },
  {
   "cell_type": "code",
   "execution_count": 24,
   "id": "04c8d79d",
   "metadata": {
    "slideshow": {
     "slide_type": "fragment"
    }
   },
   "outputs": [
    {
     "data": {
      "text/plain": [
       "'chenBeijing'"
      ]
     },
     "execution_count": 24,
     "metadata": {},
     "output_type": "execute_result"
    }
   ],
   "source": [
    "name + city"
   ]
  },
  {
   "cell_type": "markdown",
   "id": "eb2b44b1",
   "metadata": {
    "slideshow": {
     "slide_type": "subslide"
    }
   },
   "source": [
    "还有一种常用的拼接方式是用``join``函数：str.join(sequence)，将序列中的元素以指定的字符连接生成一个新的字符串。例如:"
   ]
  },
  {
   "cell_type": "code",
   "execution_count": 25,
   "id": "d8f8f7ca",
   "metadata": {
    "slideshow": {
     "slide_type": "fragment"
    }
   },
   "outputs": [
    {
     "data": {
      "text/plain": [
       "'chen,zhang,li'"
      ]
     },
     "execution_count": 25,
     "metadata": {},
     "output_type": "execute_result"
    }
   ],
   "source": [
    "','.join(['chen', 'zhang', 'li'])  # 将三个字符串用逗号拼接"
   ]
  },
  {
   "cell_type": "code",
   "execution_count": 26,
   "id": "2ba3c042",
   "metadata": {
    "slideshow": {
     "slide_type": "fragment"
    }
   },
   "outputs": [
    {
     "data": {
      "text/plain": [
       "'2020-05-13'"
      ]
     },
     "execution_count": 26,
     "metadata": {},
     "output_type": "execute_result"
    }
   ],
   "source": [
    "'-'.join(['2020', '05', '13'])  # 将三个字符串用横线拼接"
   ]
  },
  {
   "cell_type": "markdown",
   "id": "2f888dda",
   "metadata": {
    "slideshow": {
     "slide_type": "subslide"
    }
   },
   "source": [
    "若重复输出字符串，可以使用星号 *："
   ]
  },
  {
   "cell_type": "code",
   "execution_count": 27,
   "id": "e8201c18",
   "metadata": {
    "slideshow": {
     "slide_type": "fragment"
    }
   },
   "outputs": [
    {
     "data": {
      "text/plain": [
       "'chenchen'"
      ]
     },
     "execution_count": 27,
     "metadata": {},
     "output_type": "execute_result"
    }
   ],
   "source": [
    "name = 'chen'\n",
    "name * 2"
   ]
  },
  {
   "cell_type": "markdown",
   "id": "c5ad17a2",
   "metadata": {
    "slideshow": {
     "slide_type": "fragment"
    }
   },
   "source": [
    "可以将字符串视为一个数组，利用数组的索引得到字符串中的字符，例如："
   ]
  },
  {
   "cell_type": "code",
   "execution_count": 28,
   "id": "57147f6e",
   "metadata": {
    "slideshow": {
     "slide_type": "fragment"
    }
   },
   "outputs": [
    {
     "data": {
      "text/plain": [
       "'c'"
      ]
     },
     "execution_count": 28,
     "metadata": {},
     "output_type": "execute_result"
    }
   ],
   "source": [
    "name[0] # 0 代表第 1 个索引"
   ]
  },
  {
   "cell_type": "markdown",
   "id": "500ccadd",
   "metadata": {
    "slideshow": {
     "slide_type": "subslide"
    }
   },
   "source": [
    "```{note}\n",
    "计算机中，数组第一个元素的索引是 0；Python 支持倒序索引，最后一个元素的索引是 -1。\n",
    "```"
   ]
  },
  {
   "cell_type": "code",
   "execution_count": 29,
   "id": "2614265f",
   "metadata": {
    "slideshow": {
     "slide_type": "fragment"
    }
   },
   "outputs": [
    {
     "data": {
      "text/plain": [
       "'che'"
      ]
     },
     "execution_count": 29,
     "metadata": {},
     "output_type": "execute_result"
    }
   ],
   "source": [
    "name[0:3] # 截取字符串中的一部分，遵循“左闭右开”原则，得到第 1 到第 3 个字符"
   ]
  },
  {
   "cell_type": "markdown",
   "id": "88442d9c",
   "metadata": {
    "slideshow": {
     "slide_type": "fragment"
    }
   },
   "source": [
    "判断某个字符或某段字符串是否在字符串中，可以用``in``或``not in``："
   ]
  },
  {
   "cell_type": "code",
   "execution_count": 30,
   "id": "34e794a6",
   "metadata": {
    "slideshow": {
     "slide_type": "fragment"
    }
   },
   "outputs": [
    {
     "data": {
      "text/plain": [
       "False"
      ]
     },
     "execution_count": 30,
     "metadata": {},
     "output_type": "execute_result"
    }
   ],
   "source": [
    "'c' not in name"
   ]
  },
  {
   "cell_type": "code",
   "execution_count": 31,
   "id": "cb5f42ed",
   "metadata": {
    "slideshow": {
     "slide_type": "fragment"
    }
   },
   "outputs": [
    {
     "data": {
      "text/plain": [
       "True"
      ]
     },
     "execution_count": 31,
     "metadata": {},
     "output_type": "execute_result"
    }
   ],
   "source": [
    "'Bei' in city"
   ]
  },
  {
   "cell_type": "markdown",
   "id": "a632b690",
   "metadata": {
    "slideshow": {
     "slide_type": "subslide"
    }
   },
   "source": [
    "将其他数据类型转化为字符串类型，可以用``str``函数："
   ]
  },
  {
   "cell_type": "code",
   "execution_count": 32,
   "id": "c61675e3",
   "metadata": {
    "slideshow": {
     "slide_type": "fragment"
    }
   },
   "outputs": [
    {
     "data": {
      "text/plain": [
       "'123'"
      ]
     },
     "execution_count": 32,
     "metadata": {},
     "output_type": "execute_result"
    }
   ],
   "source": [
    "str(123)"
   ]
  },
  {
   "cell_type": "code",
   "execution_count": 33,
   "id": "53f163e1",
   "metadata": {
    "slideshow": {
     "slide_type": "fragment"
    }
   },
   "outputs": [
    {
     "data": {
      "text/plain": [
       "'[1, 2, 3]'"
      ]
     },
     "execution_count": 33,
     "metadata": {},
     "output_type": "execute_result"
    }
   ],
   "source": [
    "str([1, 2, 3])"
   ]
  },
  {
   "cell_type": "markdown",
   "id": "3c17db1c",
   "metadata": {
    "slideshow": {
     "slide_type": "subslide"
    }
   },
   "source": [
    "Python 中常用的字符串处理函数有：\n",
    "\n",
    "<table>   \n",
    "    <tr style=\"border-top:solid\">\n",
    "        <td style=\"text-align:left\">capitalize(str)</td>\n",
    "        <td style=\"text-align:left\">将字符串 str 内容转为大写</td>\n",
    "    </tr>\n",
    "    <tr>\n",
    "        <td style=\"text-align:left\">lower(str)</td>\n",
    "        <td style=\"text-align:left\">将字符串 str 内容转为小写</td>\n",
    "    </tr>\n",
    "    <tr>\n",
    "        <td style=\"text-align:left\">len(str)</td>\n",
    "        <td style=\"text-align:left\">字符串 str 的长度</td>\n",
    "    </tr>\n",
    "    <tr>\n",
    "        <td style=\"text-align:left\">isnumeric()</td>\n",
    "        <td style=\"text-align:left\">如果字符串 str 中只包含数字字符，则返回 True，否则返回 False</td>\n",
    "    </tr>\n",
    "    <tr>\n",
    "        <td style=\"text-align:left\">isspace()</td>\n",
    "        <td style=\"text-align:left\">如果字符串 str 都是空格，则返回 True，否则返回 False</td>\n",
    "    </tr>\n",
    "    <tr>\n",
    "        <td style=\"text-align:left\">isalpha()</td>\n",
    "        <td style=\"text-align:left\">如果字符串 str 的字符都是字母则返回 True, 否则返回 False</td>\n",
    "    </tr>\n",
    "    <tr>\n",
    "        <td style=\"text-align:left\" rowspan=\"2\">replace(old, new[, count])</td>\n",
    "        <td style=\"text-align:left\">返回字符串的副本，old 子串被替换为 new，如果 count 给出，</td>\n",
    "    </tr>\n",
    "    <tr>\n",
    "        <td style=\"text-align:left\">\n",
    "        则前 count 次出现的子串被替换    \n",
    "        </td>\n",
    "    </tr>\n",
    "    <tr>\n",
    "        <td style=\"text-align:left\">strip([chars])</td>\n",
    "        <td style=\"text-align:left\">返回字符串的副本，在其左侧和右侧去掉 chars 中列出的字符</td>\n",
    "    </tr>\n",
    "    <tr style=\"border-bottom:solid\">\n",
    "        <td style=\"text-align:left\">split(sep=None, maxsplit=-1)</td>\n",
    "        <td style=\"text-align:left\">返回一个根据 sep 分割的字符串列表</td>\n",
    "    </tr>\n",
    "</table>\n",
    "<br />"
   ]
  },
  {
   "cell_type": "code",
   "execution_count": 34,
   "id": "92fc1f7b",
   "metadata": {
    "slideshow": {
     "slide_type": "subslide"
    }
   },
   "outputs": [
    {
     "data": {
      "text/plain": [
       "['python', 'data', 'science']"
      ]
     },
     "execution_count": 34,
     "metadata": {},
     "output_type": "execute_result"
    }
   ],
   "source": [
    "str = 'python data science'\n",
    "str.split()"
   ]
  },
  {
   "cell_type": "markdown",
   "id": "ea504e55",
   "metadata": {
    "slideshow": {
     "slide_type": "slide"
    }
   },
   "source": [
    "## 列表类型\n",
    "<hr>\n",
    "\n",
    "列表（List）是最常用的 Python 数据类型，它由一个**中括号**``[ ]``以及逗号分隔的不同数值或字符串组成，例如："
   ]
  },
  {
   "cell_type": "code",
   "execution_count": 35,
   "id": "0ee29fce",
   "metadata": {
    "slideshow": {
     "slide_type": "fragment"
    }
   },
   "outputs": [
    {
     "data": {
      "text/plain": [
       "[34, 10, 25]"
      ]
     },
     "execution_count": 35,
     "metadata": {},
     "output_type": "execute_result"
    }
   ],
   "source": [
    "list1 = [34, 10, 25]\n",
    "list1"
   ]
  },
  {
   "cell_type": "code",
   "execution_count": 36,
   "id": "9851382e",
   "metadata": {
    "slideshow": {
     "slide_type": "fragment"
    }
   },
   "outputs": [
    {
     "data": {
      "text/plain": [
       "['chen', 'zhang', 'wang']"
      ]
     },
     "execution_count": 36,
     "metadata": {},
     "output_type": "execute_result"
    }
   ],
   "source": [
    "list2 = ['chen', 'zhang', 'wang']\n",
    "list2"
   ]
  },
  {
   "cell_type": "code",
   "execution_count": 37,
   "id": "40090b34",
   "metadata": {
    "slideshow": {
     "slide_type": "fragment"
    }
   },
   "outputs": [
    {
     "data": {
      "text/plain": [
       "[10, 'wang', 33]"
      ]
     },
     "execution_count": 37,
     "metadata": {},
     "output_type": "execute_result"
    }
   ],
   "source": [
    "list3 = [10, 'wang', 33]\n",
    "list3"
   ]
  },
  {
   "cell_type": "markdown",
   "id": "ef007396",
   "metadata": {
    "slideshow": {
     "slide_type": "subslide"
    }
   },
   "source": [
    "与字符串的索引一样，列表索引从 0 开始，第一个值的索引是位置 0，第二个索引是 1，依此类推。"
   ]
  },
  {
   "cell_type": "code",
   "execution_count": 38,
   "id": "13bd36e9",
   "metadata": {
    "slideshow": {
     "slide_type": "fragment"
    }
   },
   "outputs": [
    {
     "data": {
      "text/plain": [
       "34"
      ]
     },
     "execution_count": 38,
     "metadata": {},
     "output_type": "execute_result"
    }
   ],
   "source": [
    "list1[0] # list1 的第 1 个元素"
   ]
  },
  {
   "cell_type": "code",
   "execution_count": 39,
   "id": "f0e25920",
   "metadata": {
    "slideshow": {
     "slide_type": "fragment"
    }
   },
   "outputs": [
    {
     "data": {
      "text/plain": [
       "'zhang'"
      ]
     },
     "execution_count": 39,
     "metadata": {},
     "output_type": "execute_result"
    }
   ],
   "source": [
    "list2[1] # list2 的第 2 个元素"
   ]
  },
  {
   "cell_type": "code",
   "execution_count": 40,
   "id": "2cc9e00b",
   "metadata": {
    "slideshow": {
     "slide_type": "fragment"
    }
   },
   "outputs": [
    {
     "data": {
      "text/plain": [
       "[34, 10]"
      ]
     },
     "execution_count": 40,
     "metadata": {},
     "output_type": "execute_result"
    }
   ],
   "source": [
    "list1[0:2] # “左闭右开”原则，list1 第 1 到第 2 个元素"
   ]
  },
  {
   "cell_type": "code",
   "execution_count": 41,
   "id": "a9daa29b",
   "metadata": {
    "slideshow": {
     "slide_type": "fragment"
    }
   },
   "outputs": [
    {
     "data": {
      "text/plain": [
       "[34, 10, 25]"
      ]
     },
     "execution_count": 41,
     "metadata": {},
     "output_type": "execute_result"
    }
   ],
   "source": [
    "list1[0:] # list1 第 1 到之后的所有元素"
   ]
  },
  {
   "cell_type": "code",
   "execution_count": 42,
   "id": "548076e5",
   "metadata": {
    "slideshow": {
     "slide_type": "subslide"
    }
   },
   "outputs": [
    {
     "data": {
      "text/plain": [
       "[7]"
      ]
     },
     "execution_count": 42,
     "metadata": {},
     "output_type": "execute_result"
    }
   ],
   "source": [
    "list3 = [4, 7, 8, 9]\n",
    "list3[1:3:2] # list 从第 2 到第 4，步长为 2的所有元素"
   ]
  },
  {
   "cell_type": "markdown",
   "id": "ab3edd83",
   "metadata": {
    "slideshow": {
     "slide_type": "subslide"
    }
   },
   "source": [
    "另外，**Python 支持倒序索引**，-1 表示倒数第 1 个元素，-2 表示倒数第 2 个元素，依次类推。"
   ]
  },
  {
   "cell_type": "code",
   "execution_count": 43,
   "id": "220ee4b1",
   "metadata": {
    "slideshow": {
     "slide_type": "fragment"
    }
   },
   "outputs": [
    {
     "data": {
      "text/plain": [
       "25"
      ]
     },
     "execution_count": 43,
     "metadata": {},
     "output_type": "execute_result"
    }
   ],
   "source": [
    " list1[-1] # list1 的倒数第 1 个元素"
   ]
  },
  {
   "cell_type": "code",
   "execution_count": 44,
   "id": "5cdd83df",
   "metadata": {
    "slideshow": {
     "slide_type": "fragment"
    }
   },
   "outputs": [
    {
     "data": {
      "text/plain": [
       "'zhang'"
      ]
     },
     "execution_count": 44,
     "metadata": {},
     "output_type": "execute_result"
    }
   ],
   "source": [
    "list2[-2] # list2 的倒数第 2 个元素"
   ]
  },
  {
   "cell_type": "code",
   "execution_count": 45,
   "id": "2bff48aa",
   "metadata": {
    "slideshow": {
     "slide_type": "fragment"
    }
   },
   "outputs": [
    {
     "data": {
      "text/plain": [
       "[25, 10, 34]"
      ]
     },
     "execution_count": 45,
     "metadata": {},
     "output_type": "execute_result"
    }
   ],
   "source": [
    "list1[::-1] # 两个冒号跟上 -1 表示倒序"
   ]
  },
  {
   "cell_type": "markdown",
   "id": "365a8d43",
   "metadata": {
    "slideshow": {
     "slide_type": "subslide"
    }
   },
   "source": [
    "更改列表某个位置的元素，可以直接用索引更改。"
   ]
  },
  {
   "cell_type": "code",
   "execution_count": 46,
   "id": "13c0e166",
   "metadata": {
    "slideshow": {
     "slide_type": "fragment"
    }
   },
   "outputs": [
    {
     "data": {
      "text/plain": [
       "[21, 10, 30]"
      ]
     },
     "execution_count": 46,
     "metadata": {},
     "output_type": "execute_result"
    }
   ],
   "source": [
    "list = [21, 16, 30]\n",
    "list[1] = 10 # 将 list 第 2 个元素更改为 10\n",
    "list"
   ]
  },
  {
   "cell_type": "markdown",
   "id": "9044c38f",
   "metadata": {
    "slideshow": {
     "slide_type": "subslide"
    }
   },
   "source": [
    "删除列表某个索引的元素，用``del``："
   ]
  },
  {
   "cell_type": "code",
   "execution_count": 47,
   "id": "5587950f",
   "metadata": {
    "slideshow": {
     "slide_type": "fragment"
    }
   },
   "outputs": [
    {
     "data": {
      "text/plain": [
       "[34, 23]"
      ]
     },
     "execution_count": 47,
     "metadata": {},
     "output_type": "execute_result"
    }
   ],
   "source": [
    "list = [34, 46, 23]\n",
    "del list[1]\n",
    "list"
   ]
  },
  {
   "cell_type": "markdown",
   "id": "d0a3840d",
   "metadata": {
    "slideshow": {
     "slide_type": "subslide"
    }
   },
   "source": [
    "对于列表类型，运算符 + 、*、in、not in 的功能与字符串中的功能相同。下面举例说明："
   ]
  },
  {
   "cell_type": "code",
   "execution_count": 48,
   "id": "6cb504b7",
   "metadata": {
    "slideshow": {
     "slide_type": "fragment"
    }
   },
   "outputs": [
    {
     "data": {
      "text/plain": [
       "[13, 23, 21, 65]"
      ]
     },
     "execution_count": 48,
     "metadata": {},
     "output_type": "execute_result"
    }
   ],
   "source": [
    "list = [13, 23]\n",
    "list = list + [21, 65]\n",
    "list"
   ]
  },
  {
   "cell_type": "code",
   "execution_count": 49,
   "id": "df99847c",
   "metadata": {
    "slideshow": {
     "slide_type": "fragment"
    }
   },
   "outputs": [
    {
     "data": {
      "text/plain": [
       "[13, 23, 21, 65, 13, 23, 21, 65]"
      ]
     },
     "execution_count": 49,
     "metadata": {},
     "output_type": "execute_result"
    }
   ],
   "source": [
    "list * 2"
   ]
  },
  {
   "cell_type": "code",
   "execution_count": 50,
   "id": "e380215a",
   "metadata": {
    "slideshow": {
     "slide_type": "subslide"
    }
   },
   "outputs": [
    {
     "data": {
      "text/plain": [
       "False"
      ]
     },
     "execution_count": 50,
     "metadata": {},
     "output_type": "execute_result"
    }
   ],
   "source": [
    "12 in list"
   ]
  },
  {
   "cell_type": "code",
   "execution_count": 51,
   "id": "a82f840a",
   "metadata": {
    "slideshow": {
     "slide_type": "fragment"
    }
   },
   "outputs": [
    {
     "data": {
      "text/plain": [
       "True"
      ]
     },
     "execution_count": 51,
     "metadata": {},
     "output_type": "execute_result"
    }
   ],
   "source": [
    "12 not in list"
   ]
  },
  {
   "cell_type": "markdown",
   "id": "66dee779",
   "metadata": {
    "slideshow": {
     "slide_type": "subslide"
    }
   },
   "source": [
    "二维列表，用中括号套起多个一维列表生成："
   ]
  },
  {
   "cell_type": "code",
   "execution_count": 52,
   "id": "bb15a145",
   "metadata": {
    "slideshow": {
     "slide_type": "fragment"
    }
   },
   "outputs": [
    {
     "data": {
      "text/plain": [
       "[[1, 2, 3], [4, 5]]"
      ]
     },
     "execution_count": 52,
     "metadata": {},
     "output_type": "execute_result"
    }
   ],
   "source": [
    "a = [[1, 2, 3], [4, 5]]\n",
    "a"
   ]
  },
  {
   "cell_type": "markdown",
   "id": "8b81467d",
   "metadata": {
    "slideshow": {
     "slide_type": "fragment"
    }
   },
   "source": [
    "访问二维列表时，用两个中括号分别跟上索引："
   ]
  },
  {
   "cell_type": "code",
   "execution_count": 53,
   "id": "017a9e25",
   "metadata": {
    "slideshow": {
     "slide_type": "fragment"
    }
   },
   "outputs": [
    {
     "data": {
      "text/plain": [
       "4"
      ]
     },
     "execution_count": 53,
     "metadata": {},
     "output_type": "execute_result"
    }
   ],
   "source": [
    "a[1][0]"
   ]
  },
  {
   "cell_type": "markdown",
   "id": "bdfb8f4f",
   "metadata": {
    "slideshow": {
     "slide_type": "subslide"
    }
   },
   "source": [
    "常见的列表函数还有``insert``，``append``，``extend``："
   ]
  },
  {
   "cell_type": "code",
   "execution_count": 54,
   "id": "0a6d77fc",
   "metadata": {
    "slideshow": {
     "slide_type": "fragment"
    }
   },
   "outputs": [
    {
     "data": {
      "text/plain": [
       "[34, 46, 23, 3]"
      ]
     },
     "execution_count": 54,
     "metadata": {},
     "output_type": "execute_result"
    }
   ],
   "source": [
    "list = [34, 46, 23]\n",
    "list.append(3) # 在列表末尾添加一个元素\n",
    "list"
   ]
  },
  {
   "cell_type": "code",
   "execution_count": 55,
   "id": "295aed4c",
   "metadata": {
    "slideshow": {
     "slide_type": "fragment"
    }
   },
   "outputs": [
    {
     "data": {
      "text/plain": [
       "[34, 10, 46, 23, 3]"
      ]
     },
     "execution_count": 55,
     "metadata": {},
     "output_type": "execute_result"
    }
   ],
   "source": [
    "list.insert(1, 10) # 在列表第二个位置添加一个元素 10\n",
    "list"
   ]
  },
  {
   "cell_type": "code",
   "execution_count": 56,
   "id": "5e8882ef",
   "metadata": {
    "slideshow": {
     "slide_type": "fragment"
    }
   },
   "outputs": [
    {
     "data": {
      "text/plain": [
       "[34, 10, 46, 23, 3, 4, 5, 6]"
      ]
     },
     "execution_count": 56,
     "metadata": {},
     "output_type": "execute_result"
    }
   ],
   "source": [
    "list.extend([4, 5, 6]) # 将另一个列表（元组类型也可以）添加到该列表末尾\n",
    "list"
   ]
  },
  {
   "cell_type": "markdown",
   "id": "8b1a68de",
   "metadata": {
    "slideshow": {
     "slide_type": "subslide"
    }
   },
   "source": [
    "列表的其他函数还有：\n",
    "\n",
    "<table> \n",
    "    <tr style=\"border-top:solid\">\n",
    "        <td style=\"text-align:left\">max(list)</td>\n",
    "        <td style=\"text-align:left\">返回列表 list 中的最大值元素</td>\n",
    "    </tr>\n",
    "    <tr>\n",
    "        <td style=\"text-align:left\">min(list)</td>\n",
    "        <td style=\"text-align:left\">返回列表 list 中的最小值元素</td>\n",
    "    </tr>\n",
    "    <tr>\n",
    "        <td style=\"text-align:left\">list(seq)</td>\n",
    "        <td style=\"text-align:left\">将其他序列类型转化为列表</td>\n",
    "    </tr>\n",
    "    <tr>\n",
    "        <td style=\"text-align:left\">len(list)</td>\n",
    "        <td style=\"text-align:left\">返回列表 list 的长度</td>\n",
    "    </tr>\n",
    "    <tr>\n",
    "        <td style=\"text-align:left\">list.count(obj)</td>\n",
    "        <td style=\"text-align:left\">统计某个元素 obj 在列表中出现的次数</td>\n",
    "    </tr>\n",
    "    <tr>\n",
    "        <td style=\"text-align:left\">list.reverse()</td>\n",
    "        <td style=\"text-align:left\">将列表反转</td>\n",
    "    </tr>\n",
    "    <tr>\n",
    "        <td style=\"text-align:left\">list.pop(index)</td>\n",
    "        <td style=\"text-align:left\">移除列表中 index 位置的元素</td>\n",
    "    </tr>\n",
    "    <tr>\n",
    "        <td style=\"text-align:left\">list.remove(element)</td>\n",
    "        <td style=\"text-align:left\">移除列表中内容为 element 的元素</td>\n",
    "    </tr>\n",
    "    <tr style=\"border-bottom:solid\">\n",
    "        <td style=\"text-align:left\">list.clear()</td>\n",
    "        <td style=\"text-align:left\">清空列表</td>\n",
    "    </tr>\n",
    "</table>\n",
    "\n",
    "<br />"
   ]
  },
  {
   "cell_type": "code",
   "execution_count": 57,
   "id": "6c299332-64ab-478e-a747-eafe0781479f",
   "metadata": {},
   "outputs": [
    {
     "name": "stdout",
     "output_type": "stream",
     "text": [
      "[1, 2]\n"
     ]
    }
   ],
   "source": [
    "a = [1, 2, 3]\n",
    "a.pop(-1)\n",
    "print(a)"
   ]
  },
  {
   "cell_type": "markdown",
   "id": "d914a407",
   "metadata": {
    "slideshow": {
     "slide_type": "subslide"
    }
   },
   "source": [
    "## 字典类型\n",
    "<hr>\n",
    "\n",
    "字典是另一种可变容器模型，字典的格式为``{key : value}``，整个字典包括在花括号``{ }``中。**键（key）必须是唯一且不可变**，但值（value）可以取任何数据类型，也可以改变，key，value 之间用冒号``：``分割。\n"
   ]
  },
  {
   "cell_type": "code",
   "execution_count": 58,
   "id": "a4750274",
   "metadata": {
    "slideshow": {
     "slide_type": "fragment"
    }
   },
   "outputs": [
    {
     "data": {
      "text/plain": [
       "{'name': 'chen', 'score': 95}"
      ]
     },
     "execution_count": 58,
     "metadata": {},
     "output_type": "execute_result"
    }
   ],
   "source": [
    "dict = {'name' : 'chen', 'score' : 95}\n",
    "dict"
   ]
  },
  {
   "cell_type": "markdown",
   "id": "1a7fd97e",
   "metadata": {
    "slideshow": {
     "slide_type": "fragment"
    }
   },
   "source": [
    "访问字典里的值时，则把相应的键放入到方括号``[ ]``中："
   ]
  },
  {
   "cell_type": "code",
   "execution_count": 59,
   "id": "0354b562",
   "metadata": {
    "slideshow": {
     "slide_type": "subslide"
    }
   },
   "outputs": [
    {
     "data": {
      "text/plain": [
       "'chen'"
      ]
     },
     "execution_count": 59,
     "metadata": {},
     "output_type": "execute_result"
    }
   ],
   "source": [
    "dict['name']"
   ]
  },
  {
   "cell_type": "code",
   "execution_count": 60,
   "id": "88ade7d8",
   "metadata": {
    "slideshow": {
     "slide_type": "fragment"
    }
   },
   "outputs": [
    {
     "data": {
      "text/plain": [
       "95"
      ]
     },
     "execution_count": 60,
     "metadata": {},
     "output_type": "execute_result"
    }
   ],
   "source": [
    "dict['score']"
   ]
  },
  {
   "cell_type": "markdown",
   "id": "43b6dbfa",
   "metadata": {
    "slideshow": {
     "slide_type": "subslide"
    }
   },
   "source": [
    "向字典增加一项，可以直接用方括号`[ ]`增加元素："
   ]
  },
  {
   "cell_type": "code",
   "execution_count": 61,
   "id": "984bccfa",
   "metadata": {
    "slideshow": {
     "slide_type": "fragment"
    }
   },
   "outputs": [
    {
     "data": {
      "text/plain": [
       "{'name': 'chen', 'score': 95, 'major': 'economy'}"
      ]
     },
     "execution_count": 61,
     "metadata": {},
     "output_type": "execute_result"
    }
   ],
   "source": [
    "dict['major'] = 'economy'\n",
    "dict"
   ]
  },
  {
   "cell_type": "markdown",
   "id": "fd179f54",
   "metadata": {
    "slideshow": {
     "slide_type": "subslide"
    }
   },
   "source": [
    "修改字典里的值时，则把相应的键放入到方括号中，赋值进行修改即可："
   ]
  },
  {
   "cell_type": "code",
   "execution_count": 62,
   "id": "88e2e175",
   "metadata": {
    "slideshow": {
     "slide_type": "fragment"
    }
   },
   "outputs": [
    {
     "data": {
      "text/plain": [
       "{'name': 'wang', 'score': 95, 'major': 'economy', 'mark': 80}"
      ]
     },
     "execution_count": 62,
     "metadata": {},
     "output_type": "execute_result"
    }
   ],
   "source": [
    "dict['name'] = 'wang'\n",
    "dict['mark'] = 80\n",
    "dict"
   ]
  },
  {
   "cell_type": "markdown",
   "id": "3d24221b",
   "metadata": {
    "slideshow": {
     "slide_type": "fragment"
    }
   },
   "source": [
    "删除字典里的某个键值时，用 del："
   ]
  },
  {
   "cell_type": "code",
   "execution_count": 63,
   "id": "3ae2a135",
   "metadata": {
    "slideshow": {
     "slide_type": "fragment"
    }
   },
   "outputs": [
    {
     "data": {
      "text/plain": [
       "{'score': 95, 'major': 'economy', 'mark': 80}"
      ]
     },
     "execution_count": 63,
     "metadata": {},
     "output_type": "execute_result"
    }
   ],
   "source": [
    "del dict['name']\n",
    "dict"
   ]
  },
  {
   "cell_type": "markdown",
   "id": "9aca40c1",
   "metadata": {
    "slideshow": {
     "slide_type": "subslide"
    }
   },
   "source": [
    "注意：键必须不可变，所以可以用数字，字符串或元组充当，但用列表就不行。字典类型数据的常用函数还有：\n",
    "\n",
    "<table>\n",
    "    <tr style=\"border-top:solid\">\n",
    "        <td style=\"text-align:left\">len(dict)</td>\n",
    "        <td style=\"text-align:left\">返回字典 dict 中的元素个数，即键或值的个数</td>\n",
    "    </tr>\n",
    "    <tr>\n",
    "        <td style=\"text-align:left\">clear()</td>\n",
    "        <td style=\"text-align:left\">删除字典 dict 中的所有元素</td>\n",
    "    </tr>\n",
    "    <tr>\n",
    "        <td style=\"text-align:left\">get(key, default=None)</td>\n",
    "        <td style=\"text-align:left\">返回指定键的值，如果键不在字典中返回 default 设置的默认值</td>\n",
    "    </tr>\n",
    "    <tr>\n",
    "        <td style=\"text-align:left\">values()</td>\n",
    "        <td style=\"text-align:left\">返回一个迭代器，可以使用 list() 来转换为列表</td>\n",
    "    </tr>\n",
    "    <tr>\n",
    "        <td style=\"text-align:left\">keys()</td>\n",
    "        <td style=\"text-align:left\">返回一个迭代器，可以使用 list() 来转换为列表</td>\n",
    "    </tr>\n",
    "    <tr style=\"border-bottom:solid\">\n",
    "        <td style=\"text-align:left\">popitem()</td>\n",
    "        <td style=\"text-align:left\">删除字典的最后一项，并返回这个删除的项</td>\n",
    "    </tr>\n",
    "</table>"
   ]
  },
  {
   "cell_type": "markdown",
   "id": "adaba3c9",
   "metadata": {
    "slideshow": {
     "slide_type": "subslide"
    }
   },
   "source": [
    "与列表、字符串或者元组类型一样，字典可以通过`for-in`语句对其元素进行遍历，返回的是字典的 key。"
   ]
  },
  {
   "cell_type": "code",
   "execution_count": 64,
   "id": "601634e4",
   "metadata": {
    "slideshow": {
     "slide_type": "fragment"
    }
   },
   "outputs": [
    {
     "name": "stdout",
     "output_type": "stream",
     "text": [
      "score\n",
      "major\n",
      "mark\n"
     ]
    }
   ],
   "source": [
    "for i in dict:\n",
    "    print(i)"
   ]
  },
  {
   "cell_type": "markdown",
   "id": "6927c3cf",
   "metadata": {
    "slideshow": {
     "slide_type": "fragment"
    }
   },
   "source": [
    "若要输出 value，则可以用`get`函数或者用方括号`[ ]`里面跟 key。"
   ]
  },
  {
   "cell_type": "code",
   "execution_count": 65,
   "id": "ad5fbf1d",
   "metadata": {
    "slideshow": {
     "slide_type": "fragment"
    }
   },
   "outputs": [
    {
     "name": "stdout",
     "output_type": "stream",
     "text": [
      "95\n",
      "economy\n",
      "80\n"
     ]
    }
   ],
   "source": [
    "for i in dict:\n",
    "    print(dict[i])"
   ]
  },
  {
   "cell_type": "markdown",
   "id": "c86aa406",
   "metadata": {
    "slideshow": {
     "slide_type": "subslide"
    }
   },
   "source": [
    "## 元祖类型\n",
    "<hr>\n",
    "\n",
    "Python 的元组（tuple）与列表类似，不同之处在于**元组的元素不能修改**。元组使用**小括号**创建，并使用逗号隔开。访问列表元素或者截取部分元组与列表非常类似："
   ]
  },
  {
   "cell_type": "code",
   "execution_count": 66,
   "id": "4a4f3351",
   "metadata": {
    "slideshow": {
     "slide_type": "fragment"
    }
   },
   "outputs": [
    {
     "data": {
      "text/plain": [
       "'zh'"
      ]
     },
     "execution_count": 66,
     "metadata": {},
     "output_type": "execute_result"
    }
   ],
   "source": [
    "tup = (13, 'zh', 20)\n",
    "tup[1]"
   ]
  },
  {
   "cell_type": "code",
   "execution_count": 67,
   "id": "5c408101",
   "metadata": {
    "slideshow": {
     "slide_type": "fragment"
    }
   },
   "outputs": [
    {
     "data": {
      "text/plain": [
       "(13, 'zh')"
      ]
     },
     "execution_count": 67,
     "metadata": {},
     "output_type": "execute_result"
    }
   ],
   "source": [
    "tup[0:2]"
   ]
  },
  {
   "cell_type": "code",
   "execution_count": 68,
   "id": "2bd0a672",
   "metadata": {
    "slideshow": {
     "slide_type": "fragment"
    }
   },
   "outputs": [
    {
     "data": {
      "text/plain": [
       "(13, 'zh', 20)"
      ]
     },
     "execution_count": 68,
     "metadata": {},
     "output_type": "execute_result"
    }
   ],
   "source": [
    "tup[0:]"
   ]
  },
  {
   "cell_type": "markdown",
   "id": "fa97c423",
   "metadata": {
    "slideshow": {
     "slide_type": "subslide"
    }
   },
   "source": [
    "元组中的元素不能修改，但可以用 del 删除整个元组， 也可以用运算符 +、*、in、not in："
   ]
  },
  {
   "cell_type": "code",
   "execution_count": 69,
   "id": "38c085f9",
   "metadata": {
    "slideshow": {
     "slide_type": "fragment"
    }
   },
   "outputs": [],
   "source": [
    "tup = (13, 'zh', 20)\n",
    "del tup # 完全删除 tup"
   ]
  },
  {
   "cell_type": "code",
   "execution_count": 70,
   "id": "75e9af9a",
   "metadata": {
    "slideshow": {
     "slide_type": "fragment"
    }
   },
   "outputs": [
    {
     "data": {
      "text/plain": [
       "(23, 45, 21, 32, 21)"
      ]
     },
     "execution_count": 70,
     "metadata": {},
     "output_type": "execute_result"
    }
   ],
   "source": [
    "tup = (23, 45, 21)\n",
    "tup = tup + (32, 21)\n",
    "tup"
   ]
  },
  {
   "cell_type": "code",
   "execution_count": 71,
   "id": "573c846f",
   "metadata": {
    "slideshow": {
     "slide_type": "subslide"
    }
   },
   "outputs": [
    {
     "data": {
      "text/plain": [
       "(23, 45, 21, 32, 21, 23, 45, 21, 32, 21)"
      ]
     },
     "execution_count": 71,
     "metadata": {},
     "output_type": "execute_result"
    }
   ],
   "source": [
    "tup * 2"
   ]
  },
  {
   "cell_type": "code",
   "execution_count": 72,
   "id": "c2b700f3",
   "metadata": {
    "slideshow": {
     "slide_type": "fragment"
    }
   },
   "outputs": [
    {
     "data": {
      "text/plain": [
       "False"
      ]
     },
     "execution_count": 72,
     "metadata": {},
     "output_type": "execute_result"
    }
   ],
   "source": [
    "25 in tup"
   ]
  },
  {
   "cell_type": "code",
   "execution_count": 73,
   "id": "330969ac",
   "metadata": {
    "slideshow": {
     "slide_type": "fragment"
    }
   },
   "outputs": [
    {
     "data": {
      "text/plain": [
       "True"
      ]
     },
     "execution_count": 73,
     "metadata": {},
     "output_type": "execute_result"
    }
   ],
   "source": [
    "25 not in tup"
   ]
  },
  {
   "cell_type": "markdown",
   "id": "b604ec63",
   "metadata": {
    "slideshow": {
     "slide_type": "subslide"
    }
   },
   "source": [
    "<table>\n",
    "    <tr style=\"border-top:solid\">\n",
    "        <td style=\"text-align:left\">max(tup)</td>\n",
    "        <td style=\"text-align:left\">返回元组 tup 中的最大值元素</td>\n",
    "    </tr>\n",
    "    <tr>\n",
    "        <td style=\"text-align:left\">min(tup)</td>\n",
    "        <td style=\"text-align:left\">返回元组 tup 中的最小值元素</td>\n",
    "    </tr>\n",
    "    <tr>\n",
    "        <td style=\"text-align:left\">tuple(seq)</td>\n",
    "        <td style=\"text-align:left\">将列表转化为元组</td>\n",
    "    </tr>\n",
    "    <tr>\n",
    "        <td style=\"text-align:left\">len(tup)</td>\n",
    "        <td style=\"text-align:left\">返回元组 tup 的长度，即元素个数</td>\n",
    "    </tr>\n",
    "    <tr style=\"border-bottom:solid\">\n",
    "        <td style=\"text-align:left\">tup.count(obj)</td>\n",
    "        <td style=\"text-align:left\">统计某个元素在元组 tup 中出现的次数</td>\n",
    "    </tr>\n",
    "</table>"
   ]
  },
  {
   "cell_type": "markdown",
   "id": "266dee82",
   "metadata": {
    "slideshow": {
     "slide_type": "subslide"
    }
   },
   "source": [
    "## 集合类型\n",
    "<hr>\n",
    "\n",
    "集合（set）是一个无序的**不重复**元素序列，一般使用大括号 { } 创建。注意：创建一个空集合必须用 set() 而不是 { }，因为 { } 默认创建一个空字典）。"
   ]
  },
  {
   "cell_type": "code",
   "execution_count": 74,
   "id": "1778ffa0",
   "metadata": {
    "slideshow": {
     "slide_type": "fragment"
    }
   },
   "outputs": [
    {
     "data": {
      "text/plain": [
       "{23, 34, 'chen'}"
      ]
     },
     "execution_count": 74,
     "metadata": {},
     "output_type": "execute_result"
    }
   ],
   "source": [
    "set1 = {34, 23, 'chen'}\n",
    "set1"
   ]
  },
  {
   "cell_type": "code",
   "execution_count": 75,
   "id": "fc0a5e07",
   "metadata": {
    "slideshow": {
     "slide_type": "fragment"
    }
   },
   "outputs": [
    {
     "data": {
      "text/plain": [
       "{10, 12, '34'}"
      ]
     },
     "execution_count": 75,
     "metadata": {},
     "output_type": "execute_result"
    }
   ],
   "source": [
    "set2 = {12, '34', 10}\n",
    "set2"
   ]
  },
  {
   "cell_type": "markdown",
   "id": "3dca0b9e",
   "metadata": {
    "slideshow": {
     "slide_type": "subslide"
    }
   },
   "source": [
    "集合间的常用运算符包括：\n",
    "\n",
    "<table>\n",
    "    <tr style=\"border-top:solid\">\n",
    "        <td style=\"text-align:left\">-</td>\n",
    "        <td style=\"text-align:left\">删除左边集合包含，而右边集合不包含的元素</td>\n",
    "    </tr>\n",
    "    <tr>\n",
    "        <td style=\"text-align:left\">|</td>\n",
    "        <td>两个集合的并集</td>\n",
    "    </tr>\n",
    "    <tr>\n",
    "        <td style=\"text-align:left\">&</td>\n",
    "        <td>两个集合的交集</td>\n",
    "    </tr>\n",
    "    <tr style=\"border-bottom:solid\">\n",
    "        <td style=\"text-align:left\">^</td>\n",
    "        <td>不同时包含于两个集合中的元素</td>\n",
    "    </tr>\n",
    "</table>"
   ]
  },
  {
   "cell_type": "code",
   "execution_count": 76,
   "id": "39ce0638",
   "metadata": {
    "slideshow": {
     "slide_type": "subslide"
    }
   },
   "outputs": [
    {
     "data": {
      "text/plain": [
       "{34, 'chen'}"
      ]
     },
     "execution_count": 76,
     "metadata": {},
     "output_type": "execute_result"
    }
   ],
   "source": [
    "set1 = {34, 12, 'chen'}\n",
    "set2 = {12, 'wang', 10}\n",
    "set1 - set2"
   ]
  },
  {
   "cell_type": "code",
   "execution_count": 77,
   "id": "045f60db",
   "metadata": {
    "slideshow": {
     "slide_type": "fragment"
    }
   },
   "outputs": [
    {
     "data": {
      "text/plain": [
       "{10, 12, 34, 'chen', 'wang'}"
      ]
     },
     "execution_count": 77,
     "metadata": {},
     "output_type": "execute_result"
    }
   ],
   "source": [
    "set1 | set2"
   ]
  },
  {
   "cell_type": "code",
   "execution_count": 78,
   "id": "67f6f3c3",
   "metadata": {
    "slideshow": {
     "slide_type": "fragment"
    }
   },
   "outputs": [
    {
     "data": {
      "text/plain": [
       "{12}"
      ]
     },
     "execution_count": 78,
     "metadata": {},
     "output_type": "execute_result"
    }
   ],
   "source": [
    "set1 & set2"
   ]
  },
  {
   "cell_type": "code",
   "execution_count": 79,
   "id": "46f994d8",
   "metadata": {
    "slideshow": {
     "slide_type": "fragment"
    }
   },
   "outputs": [
    {
     "data": {
      "text/plain": [
       "{10, 34, 'chen', 'wang'}"
      ]
     },
     "execution_count": 79,
     "metadata": {},
     "output_type": "execute_result"
    }
   ],
   "source": [
    "set1 ^ set2"
   ]
  },
  {
   "cell_type": "markdown",
   "id": "822be0a6",
   "metadata": {
    "slideshow": {
     "slide_type": "subslide"
    }
   },
   "source": [
    "在集合中添加元素可以用``add``函数，添加多个元素（可以是列表、元组或字典）用``update``函数，删除某个元素用``remove``函数， 判断某个元素是否在集合中，用``in``或``not in``："
   ]
  },
  {
   "cell_type": "code",
   "execution_count": 80,
   "id": "55def393",
   "metadata": {
    "slideshow": {
     "slide_type": "fragment"
    }
   },
   "outputs": [
    {
     "data": {
      "text/plain": [
       "{10, 13, 45, 67}"
      ]
     },
     "execution_count": 80,
     "metadata": {},
     "output_type": "execute_result"
    }
   ],
   "source": [
    "set = {13, 45, 67}\n",
    "set.add(10)\n",
    "set"
   ]
  },
  {
   "cell_type": "code",
   "execution_count": 81,
   "id": "bfdfa6ec",
   "metadata": {
    "slideshow": {
     "slide_type": "fragment"
    }
   },
   "outputs": [
    {
     "data": {
      "text/plain": [
       "{13, 45, 67}"
      ]
     },
     "execution_count": 81,
     "metadata": {},
     "output_type": "execute_result"
    }
   ],
   "source": [
    "set.remove(10)\n",
    "set"
   ]
  },
  {
   "cell_type": "code",
   "execution_count": 82,
   "id": "ea9dfaaf",
   "metadata": {
    "slideshow": {
     "slide_type": "fragment"
    }
   },
   "outputs": [
    {
     "data": {
      "text/plain": [
       "{13, 44, 45, 67, 80}"
      ]
     },
     "execution_count": 82,
     "metadata": {},
     "output_type": "execute_result"
    }
   ],
   "source": [
    "set.update([80, 44])\n",
    "set"
   ]
  },
  {
   "cell_type": "code",
   "execution_count": 83,
   "id": "38facd95",
   "metadata": {
    "slideshow": {
     "slide_type": "subslide"
    }
   },
   "outputs": [
    {
     "data": {
      "text/plain": [
       "True"
      ]
     },
     "execution_count": 83,
     "metadata": {},
     "output_type": "execute_result"
    }
   ],
   "source": [
    "44 in set"
   ]
  },
  {
   "cell_type": "code",
   "execution_count": 84,
   "id": "50e474e8",
   "metadata": {
    "slideshow": {
     "slide_type": "fragment"
    }
   },
   "outputs": [
    {
     "data": {
      "text/plain": [
       "False"
      ]
     },
     "execution_count": 84,
     "metadata": {},
     "output_type": "execute_result"
    }
   ],
   "source": [
    "44 not in set"
   ]
  },
  {
   "cell_type": "markdown",
   "id": "a53f3f11",
   "metadata": {
    "slideshow": {
     "slide_type": "subslide"
    }
   },
   "source": [
    "<table>\n",
    "    <tr style=\"border-top:solid\">\n",
    "        <td style=\"text-align:left\">len(set)</td>\n",
    "        <td style=\"text-align:left\">返回集合 set 中的元素个数</td>\n",
    "    </tr>\n",
    "    <tr>\n",
    "        <td style=\"text-align:left\">set.add()</td>\n",
    "        <td style=\"text-align:left\">向集合 set 中添加一个元素</td>\n",
    "    </tr>\n",
    "    <tr>\n",
    "        <td style=\"text-align:left\">set.remove()</td>\n",
    "        <td style=\"text-align:left\">集合中移除一个元素</td>\n",
    "    </tr>\n",
    "    <tr>\n",
    "        <td style=\"text-align:left\">set.update(seq)</td>\n",
    "        <td style=\"text-align:left\">添加多个元素，可以是列表、元组或字典</td>\n",
    "    </tr>\n",
    "    <tr>\n",
    "        <td style=\"text-align:left\">set1.issubset(set2)</td>\n",
    "        <td style=\"text-align:left\">判断集合 set1 是否为另一个集合 set2 的子集</td>\n",
    "    </tr>\n",
    "    <tr>\n",
    "        <td style=\"text-align:left\">set1.issuperset(set2)</td>\n",
    "        <td style=\"text-align:left\">判断集合 set1 是否为另一个集合 set2 的父集</td>\n",
    "    </tr>\n",
    "    <tr>\n",
    "        <td style=\"text-align:left\">set1.isdisjoint(set2)</td>\n",
    "        <td style=\"text-align:left\">判断两个集合是否包含相同的元素，如果没有返回 True</td>\n",
    "    </tr>\n",
    "    <tr style=\"border-bottom:solid\">\n",
    "        <td style=\"text-align:left\">set1.union(set2)</td>\n",
    "        <td style=\"text-align:left\">返回两个集合的并集</td>\n",
    "    </tr>\n",
    "</table>"
   ]
  },
  {
   "cell_type": "markdown",
   "id": "2953d95e",
   "metadata": {
    "slideshow": {
     "slide_type": "subslide"
    }
   },
   "source": [
    "## 布尔类型\n",
    "<hr>\n",
    "\n",
    "Python 中的布尔值（Bool) 一般通过逻辑判断产生，只有两个可能的结果：``True``或``False``。"
   ]
  },
  {
   "cell_type": "code",
   "execution_count": 85,
   "id": "2fae4845",
   "metadata": {
    "slideshow": {
     "slide_type": "fragment"
    }
   },
   "outputs": [
    {
     "data": {
      "text/plain": [
       "True"
      ]
     },
     "execution_count": 85,
     "metadata": {},
     "output_type": "execute_result"
    }
   ],
   "source": [
    "10 > 3"
   ]
  },
  {
   "cell_type": "code",
   "execution_count": 86,
   "id": "3f63eafa",
   "metadata": {
    "slideshow": {
     "slide_type": "fragment"
    }
   },
   "outputs": [
    {
     "data": {
      "text/plain": [
       "False"
      ]
     },
     "execution_count": 86,
     "metadata": {},
     "output_type": "execute_result"
    }
   ],
   "source": [
    "3 == 4"
   ]
  },
  {
   "cell_type": "markdown",
   "id": "7902f219",
   "metadata": {
    "slideshow": {
     "slide_type": "subslide"
    }
   },
   "source": [
    "在做逻辑判断时，两个等号``==``表示是否相等，若仅有一个等号，则表示赋值。"
   ]
  },
  {
   "cell_type": "code",
   "execution_count": 87,
   "id": "c85afed0",
   "metadata": {
    "slideshow": {
     "slide_type": "fragment"
    }
   },
   "outputs": [
    {
     "data": {
      "text/plain": [
       "False"
      ]
     },
     "execution_count": 87,
     "metadata": {},
     "output_type": "execute_result"
    }
   ],
   "source": [
    "a = 3  # 一个等号表示将 a 赋值为 3\n",
    "a == 4  # 两个等号表示判断 a 是否等于 4"
   ]
  },
  {
   "cell_type": "markdown",
   "id": "1e66bd9b",
   "metadata": {
    "slideshow": {
     "slide_type": "subslide"
    }
   },
   "source": [
    "对多个逻辑判断的运算，即 “且”，”或”，“非”， python 分别提供了``and``, ``or``, ``not``："
   ]
  },
  {
   "cell_type": "code",
   "execution_count": 88,
   "id": "d9780138",
   "metadata": {
    "slideshow": {
     "slide_type": "fragment"
    }
   },
   "outputs": [
    {
     "data": {
      "text/plain": [
       "True"
      ]
     },
     "execution_count": 88,
     "metadata": {},
     "output_type": "execute_result"
    }
   ],
   "source": [
    "10 > 3 and 3 > 2"
   ]
  },
  {
   "cell_type": "code",
   "execution_count": 89,
   "id": "267454d9",
   "metadata": {
    "slideshow": {
     "slide_type": "fragment"
    }
   },
   "outputs": [
    {
     "data": {
      "text/plain": [
       "False"
      ]
     },
     "execution_count": 89,
     "metadata": {},
     "output_type": "execute_result"
    }
   ],
   "source": [
    "10 > 3 and 3 > 4"
   ]
  },
  {
   "cell_type": "code",
   "execution_count": 90,
   "id": "129cfb5d",
   "metadata": {
    "slideshow": {
     "slide_type": "fragment"
    }
   },
   "outputs": [
    {
     "data": {
      "text/plain": [
       "True"
      ]
     },
     "execution_count": 90,
     "metadata": {},
     "output_type": "execute_result"
    }
   ],
   "source": [
    "10 > 3 or 3 > 4"
   ]
  },
  {
   "cell_type": "code",
   "execution_count": 91,
   "id": "906b5ba6",
   "metadata": {
    "slideshow": {
     "slide_type": "fragment"
    }
   },
   "outputs": [
    {
     "data": {
      "text/plain": [
       "True"
      ]
     },
     "execution_count": 91,
     "metadata": {},
     "output_type": "execute_result"
    }
   ],
   "source": [
    "not 3 > 4"
   ]
  },
  {
   "cell_type": "markdown",
   "id": "59efb709",
   "metadata": {
    "slideshow": {
     "slide_type": "subslide"
    }
   },
   "source": [
    "## random 库\n",
    "<hr>"
   ]
  },
  {
   "cell_type": "markdown",
   "id": "e638aa15",
   "metadata": {
    "slideshow": {
     "slide_type": "fragment"
    }
   },
   "source": [
    "随机数在编程中应用比较普遍，Python 内置的`random`库可以生成常见的伪随机数（计算机生成的随机数都是伪随机数，真随机数是不能人为产生的）。"
   ]
  },
  {
   "cell_type": "markdown",
   "id": "2834bd6a",
   "metadata": {
    "slideshow": {
     "slide_type": "subslide"
    }
   },
   "source": [
    "`random`库中的常用函数：\n",
    "\n",
    "|函数|含义|\n",
    "|:--:|:--|\n",
    "|seed(a=None)|初始化随机数种子，默认值为当前系统时间|\n",
    "|random()|生成一个 [0.0, 1.0] 之间的小数|\n",
    "|randint(a, b)|生成一个 [a, b] 之间的随机整数|\n",
    "|uniform(a, b)| 生成一个 [a, b] 之间的随机小数|\n",
    "|shuffle(seq)| 将序列类型中的元素打乱，返回打乱后的序列|\n",
    "|sample(pop, k)| 从 pop 中随机选取 k 个元素，以列表形式返回|\n"
   ]
  },
  {
   "cell_type": "markdown",
   "id": "d028ca10",
   "metadata": {
    "slideshow": {
     "slide_type": "subslide"
    }
   },
   "source": [
    "随机数的种子可以通过函数`seed`指定，只要种子相同，每次生成的随机数也相同。"
   ]
  },
  {
   "cell_type": "code",
   "execution_count": 92,
   "id": "c31a9107",
   "metadata": {
    "slideshow": {
     "slide_type": "fragment"
    }
   },
   "outputs": [
    {
     "data": {
      "text/plain": [
       "0.5274128811518016"
      ]
     },
     "execution_count": 92,
     "metadata": {},
     "output_type": "execute_result"
    }
   ],
   "source": [
    "import random\n",
    "\n",
    "random.random() # 没有设置种子，每次运行显示的随机数不一样"
   ]
  },
  {
   "cell_type": "code",
   "execution_count": 93,
   "id": "d6b9619f",
   "metadata": {
    "slideshow": {
     "slide_type": "fragment"
    }
   },
   "outputs": [
    {
     "data": {
      "text/plain": [
       "0.1456692551041303"
      ]
     },
     "execution_count": 93,
     "metadata": {},
     "output_type": "execute_result"
    }
   ],
   "source": [
    "random.seed(100)\n",
    "random.random() # 设置了种子，每次运行显示的随机数相同"
   ]
  },
  {
   "cell_type": "markdown",
   "id": "9a598932",
   "metadata": {},
   "source": [
    "## 练习\n",
    "<hr>"
   ]
  },
  {
   "cell_type": "markdown",
   "id": "f2a730c6",
   "metadata": {
    "slideshow": {
     "slide_type": "subslide"
    }
   },
   "source": [
    "```{exercise}\n",
    ":label: compute-formula\n",
    "请将下面的数学表达式用 Python 程序写出来，并运算结果。\n",
    "\n",
    "- $x=\\frac{3^2+4-5*6}{5}$\n",
    "- $y= (4^{3.5}+6)*(16\\mod{4})$\n",
    "```"
   ]
  },
  {
   "cell_type": "markdown",
   "id": "77a83988",
   "metadata": {},
   "source": [
    "````{solution} compute-formula\n",
    ":class: dropdown\n",
    "```{code-block} python\n",
    "x = (3**2 + 4 - 5*6)/5\n",
    "print('x = ', x)\n",
    "\n",
    "y = (4**3.5 + 6)*(16 % 4)\n",
    "print('y = ', y)\n",
    "```\n",
    "````"
   ]
  },
  {
   "cell_type": "markdown",
   "id": "d3e13cb3",
   "metadata": {
    "slideshow": {
     "slide_type": "subslide"
    }
   },
   "source": [
    "```{exercise}\n",
    ":label: circle-area\n",
    "根据给定的半径值，计算圆的面积\n",
    "```"
   ]
  },
  {
   "cell_type": "markdown",
   "id": "d7fb8cd2",
   "metadata": {},
   "source": [
    "````{solution} circle-area\n",
    ":class: dropdown\n",
    "```{code-block} python\n",
    "import math\n",
    "\n",
    "r = 10\n",
    "area = math.pi*r**2\n",
    "print(\"圆的面积为 %.6f\" % area)\n",
    "```\n",
    "````"
   ]
  },
  {
   "cell_type": "markdown",
   "id": "91fc516e",
   "metadata": {
    "slideshow": {
     "slide_type": "subslide"
    }
   },
   "source": [
    "```{exercise}\n",
    ":label: random\n",
    "从字符串 'abcedefg' 随机挑取 3 个字符。（提示，使用 random 库中的函数）\n",
    "\n",
    "```"
   ]
  },
  {
   "cell_type": "markdown",
   "id": "3d21b3f2",
   "metadata": {},
   "source": [
    "````{solution} random\n",
    ":class: dropdown\n",
    "```{code-block} python\n",
    "import random\n",
    "\n",
    "random.sample('abcedefg', 3)\n",
    "```\n",
    "````"
   ]
  },
  {
   "cell_type": "markdown",
   "id": "f4771a4d",
   "metadata": {},
   "source": [
    "```{exercise}\n",
    ":label: quad-equation\n",
    "通过用户输入数字 a, b, c，计算二次方程: $ax^2 + bx +c$。\n",
    "(提示：cmath 工具包可以计算负数的开方)\n",
    "```"
   ]
  },
  {
   "cell_type": "markdown",
   "id": "7b7bf9a4",
   "metadata": {},
   "source": [
    "````{solution} quad-equation\n",
    ":class: dropdown\n",
    "```{code-block} python\n",
    "# 导入 cmath(复杂数学运算) 模块\n",
    "<hr>\n",
    "import cmath\n",
    " \n",
    "a = float(input('输入 a: '))\n",
    "b = float(input('输入 b: '))\n",
    "c = float(input('输入 c: '))\n",
    " \n",
    "# 计算\n",
    "<hr>\n",
    "d = (b**2) - (4*a*c)\n",
    " \n",
    "# 两种求解方式\n",
    "<hr>\n",
    "sol1 = (-b-cmath.sqrt(d))/(2*a)\n",
    "sol2 = (-b+cmath.sqrt(d))/(2*a)\n",
    " \n",
    "print('结果为 {0} 和 {1}'.format(sol1,sol2))\n",
    "```\n",
    "````"
   ]
  },
  {
   "cell_type": "markdown",
   "id": "b5200246",
   "metadata": {},
   "source": [
    "```{exercise}\n",
    ":label: triangle-area\n",
    "通过用户输入三角形三边长度，并计算三角形的面积。\n",
    "```"
   ]
  },
  {
   "cell_type": "markdown",
   "id": "20413741",
   "metadata": {},
   "source": [
    "````{solution} triangle-area\n",
    ":class: dropdown\n",
    "```{code-block} python\n",
    "# 导入 cmath(复杂数学运算) 模块\n",
    "<hr>\n",
    "a = float(input('输入三角形第一边长: '))\n",
    "b = float(input('输入三角形第二边长: '))\n",
    "c = float(input('输入三角形第三边长: '))\n",
    " \n",
    "# 计算半周长\n",
    "<hr>\n",
    "s = (a + b + c) / 2\n",
    " \n",
    "# 计算面积\n",
    "<hr>\n",
    "area = (s*(s-a)*(s-b)*(s-c)) ** 0.5\n",
    "print('三角形面积为 %0.2f' %area)\n",
    "```\n",
    "````"
   ]
  },
  {
   "cell_type": "markdown",
   "id": "9744e33c",
   "metadata": {},
   "source": [
    "```{exercise}\n",
    ":label: dict-values\n",
    "定义一个字典，然后计算它们所有数字值的和。。\n",
    "```"
   ]
  },
  {
   "cell_type": "markdown",
   "id": "c8c9aeac",
   "metadata": {},
   "source": [
    "````{solution} dict-values\n",
    ":class: dropdown\n",
    "```{code-block} python\n",
    "def dictSum(myDict):      \n",
    "    sum = 0\n",
    "    for i in myDict: \n",
    "        sum = sum + myDict[i]      \n",
    "    return sum\n",
    "  \n",
    "dict = {'a': 100, 'b':200, 'c':300} \n",
    "print(\"Sum :\", returnSum(dict))\n",
    "```"
   ]
  },
  {
   "cell_type": "markdown",
   "id": "120856b6",
   "metadata": {},
   "source": [
    "<script src=\"https://giscus.app/client.js\"\n",
    "        data-repo=\"robinchen121/book-Python-Data-Science\"\n",
    "        data-repo-id=\"R_kgDOKFdyOw\"\n",
    "        data-category=\"Announcements\"\n",
    "        data-category-id=\"DIC_kwDOKFdyO84CgWHi\"\n",
    "        data-mapping=\"pathname\"\n",
    "        data-strict=\"0\"\n",
    "        data-reactions-enabled=\"1\"\n",
    "        data-emit-metadata=\"0\"\n",
    "        data-input-position=\"bottom\"\n",
    "        data-theme=\"light\"\n",
    "        data-lang=\"en\"\n",
    "        crossorigin=\"anonymous\"\n",
    "        async>\n",
    "</script>"
   ]
  },
  {
   "cell_type": "markdown",
   "id": "b556d223",
   "metadata": {},
   "source": [
    "<!-- Toogle google translation -->\n",
    "<div id=\"google_translate_element\"></div>\n",
    "<script type=\"text/javascript\">\n",
    "      function googleTranslateElementInit() {\n",
    "        new google.translate.TranslateElement({ pageLanguage: 'zh-CN',\n",
    "                  includedLanguages: 'en,zh-CN,zh-TW,ja,ko,de,ru,fr,es,it,pt,hi,ar,fa',\n",
    "layout: google.translate.TranslateElement.InlineLayout.SIMPLE }, 'google_translate_element');\n",
    "      }\n",
    "</script>\n",
    "<script type=\"text/javascript\"\n",
    "      src=\"https://translate.google.com/translate_a/element.js?cb=googleTranslateElementInit\"\n",
    "></script>\n",
    "<br>"
   ]
  }
 ],
 "metadata": {
  "celltoolbar": "幻灯片",
  "kernelspec": {
   "display_name": "Python 3 (ipykernel)",
   "language": "python",
   "name": "python3"
  },
  "language_info": {
   "codemirror_mode": {
    "name": "ipython",
    "version": 3
   },
   "file_extension": ".py",
   "mimetype": "text/x-python",
   "name": "python",
   "nbconvert_exporter": "python",
   "pygments_lexer": "ipython3",
   "version": "3.10.9"
  }
 },
 "nbformat": 4,
 "nbformat_minor": 5
}